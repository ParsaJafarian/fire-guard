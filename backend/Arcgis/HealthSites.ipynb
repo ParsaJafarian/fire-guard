{
 "cells": [
  {
   "cell_type": "markdown",
   "metadata": {},
   "source": [
    "# Location of health sites in Canada"
   ]
  },
  {
   "cell_type": "markdown",
   "metadata": {},
   "source": [
    "#### 1. Read the healthsites csv and convert it to a DataFrame"
   ]
  },
  {
   "cell_type": "code",
   "execution_count": 37,
   "metadata": {},
   "outputs": [],
   "source": [
    "import pandas as pd"
   ]
  },
  {
   "cell_type": "code",
   "execution_count": 38,
   "metadata": {},
   "outputs": [
    {
     "name": "stdout",
     "output_type": "stream",
     "text": [
      "           X          Y      osm_id osm_type  completeness   amenity  \\\n",
      "0 -80.545321  43.471957  1584710927     node        21.875  pharmacy   \n",
      "1        NaN        NaN   399716636      way        15.625  hospital   \n",
      "2 -75.567219  45.430994  1586466719     node        12.500  pharmacy   \n",
      "3        NaN        NaN   399832436      way        21.875  pharmacy   \n",
      "4        NaN        NaN   400408552      way        12.500  hospital   \n",
      "\n",
      "  healthcare                                  name operator           source  \\\n",
      "0   pharmacy               Student Health Pharmacy      NaN  local_knowledge   \n",
      "1   hospital           Cold Lake Healthcare Centre      NaN              NaN   \n",
      "2   pharmacy                          PharmaChoice      NaN              NaN   \n",
      "3        NaN                  Pharmacie Jean Coutu      NaN             Bing   \n",
      "4        NaN  Centre Hospitalier Hôtel-Dieu d'Amos      NaN             Bing   \n",
      "\n",
      "   ... is_in_health_zone  url addr_housenumber       addr_street  \\\n",
      "0  ...               NaN  NaN              NaN               NaN   \n",
      "1  ...               NaN  NaN              NaN               NaN   \n",
      "2  ...               NaN  NaN              NaN               NaN   \n",
      "3  ...               NaN  NaN               72  1re Avenue Ouest   \n",
      "4  ...               NaN  NaN              NaN               NaN   \n",
      "\n",
      "   addr_postcode  addr_city  changeset_id  changeset_version  \\\n",
      "0            NaN        NaN   114231178.0                5.0   \n",
      "1            NaN        NaN   132701230.0                3.0   \n",
      "2            NaN        NaN    73002233.0                3.0   \n",
      "3            NaN       Amos    37676999.0                3.0   \n",
      "4            NaN        NaN    38154922.0                2.0   \n",
      "\n",
      "      changeset_timestamp                              uuid  \n",
      "0  2021/11/25 16:53:18+00  68439bd144c341adb31096550e78ec0f  \n",
      "1  2023/02/18 02:47:41+00  2feaf6cd597b4e46afd3361f23ab041c  \n",
      "2  2019/08/05 01:59:48+00  7e15290002fc41eebe4dcbbdc6d1f497  \n",
      "3  2016/03/07 23:48:18+00  fc72585949fb4ac899af77c3dbe591ae  \n",
      "4  2016/03/29 23:33:30+00  2b4cb60d3193430d81d2d08dcd8858b0  \n",
      "\n",
      "[5 rows x 35 columns]\n"
     ]
    },
    {
     "name": "stderr",
     "output_type": "stream",
     "text": [
      "C:\\Users\\Gaby\\AppData\\Local\\Temp\\ipykernel_10552\\3972080898.py:1: DtypeWarning: Columns (12,21) have mixed types. Specify dtype option on import or set low_memory=False.\n",
      "  df = pd.read_csv(\"../data/healthsites.csv\")\n"
     ]
    }
   ],
   "source": [
    "df = pd.read_csv(\"../data/healthsites.csv\")\n",
    "print(df.head())"
   ]
  },
  {
   "cell_type": "markdown",
   "metadata": {},
   "source": [
    "#### 2. Remove useless and NaN columns"
   ]
  },
  {
   "cell_type": "code",
   "execution_count": 39,
   "metadata": {},
   "outputs": [],
   "source": [
    "df = df.drop(columns=[col for col in df.columns if col not in ['X', 'Y', 'amenity', 'name']])\n",
    "df = df.dropna(how='any')"
   ]
  },
  {
   "cell_type": "markdown",
   "metadata": {},
   "source": [
    "#### 3. Rename X and Y for lon and lat and swap these two columns"
   ]
  },
  {
   "cell_type": "code",
   "execution_count": 40,
   "metadata": {},
   "outputs": [
    {
     "name": "stdout",
     "output_type": "stream",
     "text": [
      "             lat         lon   amenity                     name\n",
      "0      43.471957  -80.545321  pharmacy  Student Health Pharmacy\n",
      "1      45.430994  -75.567219  pharmacy             PharmaChoice\n",
      "2      45.517389  -73.454981  hospital        Clinique Medicale\n",
      "3      43.670972  -79.389803  pharmacy          Markie Pharmacy\n",
      "4      46.070619  -72.812614   doctors     Durand Chiropratique\n",
      "...          ...         ...       ...                      ...\n",
      "10760  45.142743  -76.133372  pharmacy       Shoppers Drug Mart\n",
      "10761  43.472068  -80.592342  pharmacy       Shoppers Drug Mart\n",
      "10762  45.516093  -73.577075  pharmacy               Pharmaprix\n",
      "10763  44.218479  -76.571241  pharmacy      Reddendale Pharmacy\n",
      "10764  49.886527 -119.476103  pharmacy         Paragon Pharmacy\n",
      "\n",
      "[10765 rows x 4 columns]\n"
     ]
    }
   ],
   "source": [
    "df.rename(columns={'X': 'lon', 'Y': 'lat'}, inplace=True)\n",
    "df = df[['lat', 'lon'] + [col for col in df.columns if col not in ['lat', 'lon']]]\n",
    "df = df.reset_index(drop=True) # reorder the indices\n",
    "print(df)"
   ]
  },
  {
   "cell_type": "markdown",
   "metadata": {},
   "source": [
    "#### 4. Save the DataFrame to a csv"
   ]
  },
  {
   "cell_type": "code",
   "execution_count": 41,
   "metadata": {},
   "outputs": [],
   "source": [
    "df.to_csv(\"../data/healthsites_cleaned.csv\", index=False)"
   ]
  }
 ],
 "metadata": {
  "kernelspec": {
   "display_name": "arcgis_env",
   "language": "python",
   "name": "python3"
  },
  "language_info": {
   "codemirror_mode": {
    "name": "ipython",
    "version": 3
   },
   "file_extension": ".py",
   "mimetype": "text/x-python",
   "name": "python",
   "nbconvert_exporter": "python",
   "pygments_lexer": "ipython3",
   "version": "3.11.8"
  }
 },
 "nbformat": 4,
 "nbformat_minor": 2
}
