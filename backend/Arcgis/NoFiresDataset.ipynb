{
 "cells": [
  {
   "cell_type": "markdown",
   "metadata": {},
   "source": [
    "# Get the points of non wildfires"
   ]
  },
  {
   "cell_type": "markdown",
   "metadata": {},
   "source": [
    "### This notebook uses wildfire point data to create a dataset that indicates places without wildfires"
   ]
  },
  {
   "cell_type": "markdown",
   "metadata": {},
   "source": [
    "#### 1. Read the 2000-2021 fires csv and convert it to a DataFrame"
   ]
  },
  {
   "cell_type": "code",
   "execution_count": 1,
   "metadata": {},
   "outputs": [],
   "source": [
    "import pandas as pd"
   ]
  },
  {
   "cell_type": "code",
   "execution_count": 2,
   "metadata": {},
   "outputs": [
    {
     "name": "stdout",
     "output_type": "stream",
     "text": [
      "       lat       lon        date  hectares  elevation  temp_c  max_temp_c  \\\n",
      "0  56.7136 -110.4490  2000-01-01      0.20      347.0 -29.992     -25.265   \n",
      "1  54.7522 -114.9147  2000-01-03      0.30      827.0 -18.440     -13.971   \n",
      "2  53.6615 -102.1771  2000-01-06      0.30      264.0 -21.514     -18.139   \n",
      "3  51.0722 -115.3002  2000-01-07      0.50     1333.0  -8.396      -3.916   \n",
      "4  51.0668 -115.1288  2000-01-07      0.25     1283.0  -6.168      -1.646   \n",
      "\n",
      "   min_temp_c  wind_kph  wind_dir  precip_mm  humidity  pressure_hPa  \\\n",
      "0     -33.665     9.470   242.195        0.0    72.753       971.810   \n",
      "1     -22.872     9.720   179.298        0.0    58.110       921.216   \n",
      "2     -22.889    10.163   265.019        0.0    77.443       985.953   \n",
      "3     -10.766    17.917   249.972        0.0    81.143       853.531   \n",
      "4      -8.895    17.917   249.972        0.0    72.987       860.034   \n",
      "\n",
      "   soil_temp_c  soil_moisture  totalsnow_cm  \n",
      "0       -1.340          0.585           0.0  \n",
      "1       -8.824          0.558           0.0  \n",
      "2       -1.606          0.587           0.0  \n",
      "3        0.592          0.212           0.0  \n",
      "4       -3.393          0.290           0.0  \n"
     ]
    }
   ],
   "source": [
    "df = pd.read_csv(\"../data/2000-2021_fires+weather.csv\")\n",
    "print(df.head())"
   ]
  },
  {
   "cell_type": "markdown",
   "metadata": {},
   "source": [
    "#### 2. Change the start date of each wildfire to 50 days before it started (to create point of no wildfire)"
   ]
  },
  {
   "cell_type": "code",
   "execution_count": 3,
   "metadata": {},
   "outputs": [],
   "source": [
    "for x in df.index:\n",
    "    date = df.loc[x, 'date']\n",
    "    date = pd.to_datetime(date) - pd.DateOffset(days=50)\n",
    "    date = date.strftime('%Y-%m-%d')\n",
    "    df.loc[x, 'date'] = date"
   ]
  },
  {
   "cell_type": "markdown",
   "metadata": {},
   "source": [
    "#### 3. Drop the weather columns (since the date changed, the weather data needs to be added again)"
   ]
  },
  {
   "cell_type": "code",
   "execution_count": 4,
   "metadata": {},
   "outputs": [
    {
     "name": "stdout",
     "output_type": "stream",
     "text": [
      "             lat         lon        date  hectares  elevation\n",
      "0      56.713600 -110.449000  1999-11-12     0.200      347.0\n",
      "1      54.752200 -114.914700  1999-11-14     0.300      827.0\n",
      "2      53.661500 -102.177100  1999-11-17     0.300      264.0\n",
      "3      51.072200 -115.300200  1999-11-18     0.500     1333.0\n",
      "4      51.066800 -115.128800  1999-11-18     0.250     1283.0\n",
      "...          ...         ...         ...       ...        ...\n",
      "86774  49.881450 -114.011833  2021-10-20     0.010     1644.0\n",
      "86775  54.039500 -109.323767  2021-10-21     0.100      551.0\n",
      "86776  49.513200 -124.850600  2021-10-22     0.009       35.0\n",
      "86777  49.513800 -124.849900  2021-10-24     0.009       30.0\n",
      "86778  55.093133 -115.952050  2021-10-25     0.150      768.0\n",
      "\n",
      "[86779 rows x 5 columns]\n"
     ]
    }
   ],
   "source": [
    "df = df.drop([\"temp_c\",\"max_temp_c\",\"min_temp_c\",\"wind_kph\",\"wind_dir\",\"precip_mm\",\"humidity\",\"pressure_hPa\",\"soil_temp_c\",\"soil_moisture\",\"totalsnow_cm\"], axis=1)\n",
    "print(df)"
   ]
  },
  {
   "cell_type": "markdown",
   "metadata": {},
   "source": [
    "#### 4. Write the DataFrame to a csv"
   ]
  },
  {
   "cell_type": "code",
   "execution_count": 5,
   "metadata": {},
   "outputs": [],
   "source": [
    "df.to_csv(\"../data/2000-2021_nofires.csv\", index=False)"
   ]
  }
 ],
 "metadata": {
  "kernelspec": {
   "display_name": "arcgis_env",
   "language": "python",
   "name": "python3"
  },
  "language_info": {
   "codemirror_mode": {
    "name": "ipython",
    "version": 3
   },
   "file_extension": ".py",
   "mimetype": "text/x-python",
   "name": "python",
   "nbconvert_exporter": "python",
   "pygments_lexer": "ipython3",
   "version": "3.11.8"
  }
 },
 "nbformat": 4,
 "nbformat_minor": 2
}
