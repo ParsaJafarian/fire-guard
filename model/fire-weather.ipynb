{
 "cells": [
  {
   "metadata": {},
   "cell_type": "markdown",
   "source": [
    "# Weather data\n",
    "This notebook merges the [Canadian Wildfire Dataset](https://www.kaggle.com/datasets/ulasozdemir/wildfires-in-canada-19502021) from Kaggle and [Canadian Wildland Fire Information System](https://cwfis.cfs.nrcan.gc.ca/downloads/activefires/) with [weather data](https://api.weather.gc.ca/collections/climate-daily?lang=en) from Environment and Climate Change Canada (ECCC) and Meteorological Service of Canada (MSC) by using the [MSC GeoMet API](https://eccc-msc.github.io/open-data/msc-geomet/readme_en/). To do this, we use the merged dataset (fire + nearest station) to associate each wildfire point with weather data in the [daily climate observation collection](https://api.weather.gc.ca/collections/climate-daily?lang=en)"
   ],
   "id": "161fdad3415f33be"
  },
  {
   "cell_type": "code",
   "execution_count": 13,
   "outputs": [],
   "source": [
    "import json"
   ],
   "metadata": {
    "collapsed": false,
    "ExecuteTime": {
     "end_time": "2024-07-22T03:45:35.897702600Z",
     "start_time": "2024-07-22T03:45:35.893162Z"
    }
   }
  },
  {
   "cell_type": "code",
   "execution_count": 3,
   "id": "initial_id",
   "metadata": {
    "collapsed": true,
    "ExecuteTime": {
     "end_time": "2024-07-22T03:34:22.650746300Z",
     "start_time": "2024-07-22T03:34:22.647240200Z"
    }
   },
   "outputs": [],
   "source": [
    "import pandas as pd\n",
    "from owslib.ogcapi.features import Features"
   ]
  },
  {
   "cell_type": "code",
   "execution_count": 15,
   "outputs": [],
   "source": [
    "features = Features('https://api.weather.gc.ca/')"
   ],
   "metadata": {
    "collapsed": false,
    "ExecuteTime": {
     "end_time": "2024-07-22T03:45:56.977873400Z",
     "start_time": "2024-07-22T03:45:56.871824400Z"
    }
   }
  },
  {
   "cell_type": "code",
   "execution_count": 16,
   "outputs": [],
   "source": [
    "wildfire_df = pd.read_csv('fires-merged-1.csv')"
   ],
   "metadata": {
    "collapsed": false,
    "ExecuteTime": {
     "end_time": "2024-07-22T03:45:57.613687500Z",
     "start_time": "2024-07-22T03:45:57.562850400Z"
    }
   }
  },
  {
   "cell_type": "code",
   "execution_count": 50,
   "outputs": [],
   "source": [
    "small_df = wildfire_df[:2]"
   ],
   "metadata": {
    "collapsed": false,
    "ExecuteTime": {
     "end_time": "2024-07-22T05:06:28.149750700Z",
     "start_time": "2024-07-22T05:06:28.144759100Z"
    }
   }
  },
  {
   "cell_type": "code",
   "execution_count": 51,
   "outputs": [
    {
     "name": "stdout",
     "output_type": "stream",
     "text": [
      "fire_id                                       0\n",
      "lat                                      50.905\n",
      "lon                                   -126.9292\n",
      "date                                 2000-03-10\n",
      "hectares                                    6.0\n",
      "STATION_NAME                         EGG ISLAND\n",
      "PROV_STATE_TERR_CODE                         BC\n",
      "LATITUDE                                 51.145\n",
      "LONGITUDE                            -127.50073\n",
      "ELEVATION                                  14.0\n",
      "distance                              48.031939\n",
      "TOTAL_RAIN_FLAG                            None\n",
      "ID                            1062646.2000.3.10\n",
      "TOTAL_PRECIPITATION_FLAG                   None\n",
      "TOTAL_SNOW                                    0\n",
      "SNOW_ON_GROUND_FLAG                        None\n",
      "HEATING_DEGREE_DAYS_FLAG                   None\n",
      "MEAN_TEMPERATURE                            6.7\n",
      "SPEED_MAX_GUST                             None\n",
      "CLIMATE_IDENTIFIER                      1062646\n",
      "LOCAL_DAY                                    10\n",
      "STATION_NAME                         EGG ISLAND\n",
      "MIN_TEMPERATURE_FLAG                       None\n",
      "MAX_REL_HUMIDITY_FLAG                      None\n",
      "COOLING_DEGREE_DAYS_FLAG                   None\n",
      "TOTAL_SNOW_FLAG                            None\n",
      "SPEED_MAX_GUST_FLAG                        None\n",
      "DIRECTION_MAX_GUST_FLAG                    None\n",
      "TOTAL_PRECIPITATION                         3.5\n",
      "MAX_TEMPERATURE                            11.3\n",
      "LOCAL_DATE                  2000-03-10 00:00:00\n",
      "MEAN_TEMPERATURE_FLAG                      None\n",
      "MIN_TEMPERATURE                               2\n",
      "SNOW_ON_GROUND                                0\n",
      "LOCAL_YEAR                                 2000\n",
      "DIRECTION_MAX_GUST                         None\n",
      "MAX_REL_HUMIDITY                           None\n",
      "MIN_REL_HUMIDITY                           None\n",
      "PROVINCE_CODE                                BC\n",
      "COOLING_DEGREE_DAYS                           0\n",
      "MIN_REL_HUMIDITY_FLAG                      None\n",
      "HEATING_DEGREE_DAYS                        11.3\n",
      "TOTAL_RAIN                                  3.5\n",
      "MAX_TEMPERATURE_FLAG                       None\n",
      "LOCAL_MONTH                                   3\n",
      "dtype: object\n",
      "fire_id                             1\n",
      "lat                           49.2971\n",
      "lon                         -122.2321\n",
      "date                       2000-08-21\n",
      "hectares                          0.2\n",
      "STATION_NAME                PITT LAKE\n",
      "PROV_STATE_TERR_CODE               BC\n",
      "LATITUDE                        49.26\n",
      "LONGITUDE                     -122.31\n",
      "ELEVATION                         7.6\n",
      "distance                     6.992181\n",
      "SPEED_MAX_GUST                   None\n",
      "MIN_REL_HUMIDITY                 None\n",
      "LOCAL_DATE                       None\n",
      "SPEED_MAX_GUST_FLAG              None\n",
      "ID                               None\n",
      "DIRECTION_MAX_GUST_FLAG          None\n",
      "TOTAL_RAIN_FLAG                  None\n",
      "MAX_REL_HUMIDITY_FLAG            None\n",
      "STATION_NAME                     None\n",
      "LOCAL_YEAR                       None\n",
      "TOTAL_RAIN                       None\n",
      "MAX_TEMPERATURE_FLAG             None\n",
      "MAX_REL_HUMIDITY                 None\n",
      "MAX_TEMPERATURE                  None\n",
      "TOTAL_SNOW_FLAG                  None\n",
      "COOLING_DEGREE_DAYS              None\n",
      "CLIMATE_IDENTIFIER               None\n",
      "dtype: object\n"
     ]
    }
   ],
   "source": [
    "rows = []\n",
    "\n",
    "for _, row in small_df.iterrows():\n",
    "    climate_data = features.collection_items(\n",
    "        'climate-daily', LOCAL_DATE=row['date'], STATION_NAME=row['STATION_NAME']\n",
    "    )\n",
    "    # Date and Station has data\n",
    "    if climate_data['features']:\n",
    "        # Create series with new data\n",
    "        climate_feature = pd.Series(climate_data['features'][0]['properties'])\n",
    "\n",
    "        # Concatenate weather data\n",
    "        new_row = pd.concat([row, climate_feature])\n",
    "        rows.append(new_row)\n",
    "    else:\n",
    "        # Create empty data\n",
    "        climate_feature = pd.Series({\n",
    "            \"SPEED_MAX_GUST\": None,\n",
    "            \"MIN_REL_HUMIDITY\": None,\n",
    "            \"LOCAL_DATE\": None,\n",
    "            \"SPEED_MAX_GUST_FLAG\": None,\n",
    "            \"ID\": None,\n",
    "            \"DIRECTION_MAX_GUST_FLAG\": None,\n",
    "            \"TOTAL_RAIN_FLAG\": None,\n",
    "            \"MAX_REL_HUMIDITY_FLAG\": None,\n",
    "            \"STATION_NAME\": None,\n",
    "            \"LOCAL_YEAR\": None,\n",
    "            \"TOTAL_RAIN\": None,\n",
    "            \"MAX_TEMPERATURE_FLAG\": None,\n",
    "            \"MAX_REL_HUMIDITY\": None,\n",
    "            \"MAX_TEMPERATURE\": None,\n",
    "            \"TOTAL_SNOW_FLAG\": None,\n",
    "            \"COOLING_DEGREE_DAYS\": None,\n",
    "            \"CLIMATE_IDENTIFIER\": None,\n",
    "        })\n",
    "\n",
    "        # Merge empty weather data\n",
    "        new_row = pd.concat([row, climate_feature])\n",
    "        rows.append(new_row)\n",
    "    print(new_row)"
   ],
   "metadata": {
    "collapsed": false,
    "ExecuteTime": {
     "end_time": "2024-07-22T05:06:28.597874Z",
     "start_time": "2024-07-22T05:06:28.398653900Z"
    }
   }
  },
  {
   "cell_type": "code",
   "execution_count": 52,
   "outputs": [
    {
     "data": {
      "text/plain": "fire_id                             1\nlat                           49.2971\nlon                         -122.2321\ndate                       2000-08-21\nhectares                          0.2\nSTATION_NAME                PITT LAKE\nPROV_STATE_TERR_CODE               BC\nLATITUDE                        49.26\nLONGITUDE                     -122.31\nELEVATION                         7.6\ndistance                     6.992181\nSPEED_MAX_GUST                   None\nMIN_REL_HUMIDITY                 None\nLOCAL_DATE                       None\nSPEED_MAX_GUST_FLAG              None\nID                               None\nDIRECTION_MAX_GUST_FLAG          None\nTOTAL_RAIN_FLAG                  None\nMAX_REL_HUMIDITY_FLAG            None\nSTATION_NAME                     None\nLOCAL_YEAR                       None\nTOTAL_RAIN                       None\nMAX_TEMPERATURE_FLAG             None\nMAX_REL_HUMIDITY                 None\nMAX_TEMPERATURE                  None\nTOTAL_SNOW_FLAG                  None\nCOOLING_DEGREE_DAYS              None\nCLIMATE_IDENTIFIER               None\ndtype: object"
     },
     "execution_count": 52,
     "metadata": {},
     "output_type": "execute_result"
    }
   ],
   "source": [
    "new_row"
   ],
   "metadata": {
    "collapsed": false,
    "ExecuteTime": {
     "end_time": "2024-07-22T05:06:28.737627100Z",
     "start_time": "2024-07-22T05:06:28.730157400Z"
    }
   }
  },
  {
   "cell_type": "code",
   "execution_count": null,
   "outputs": [],
   "source": [],
   "metadata": {
    "collapsed": false
   }
  }
 ],
 "metadata": {
  "kernelspec": {
   "display_name": "Python 3",
   "language": "python",
   "name": "python3"
  },
  "language_info": {
   "codemirror_mode": {
    "name": "ipython",
    "version": 2
   },
   "file_extension": ".py",
   "mimetype": "text/x-python",
   "name": "python",
   "nbconvert_exporter": "python",
   "pygments_lexer": "ipython2",
   "version": "2.7.6"
  }
 },
 "nbformat": 4,
 "nbformat_minor": 5
}
