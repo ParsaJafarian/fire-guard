{
 "cells": [
  {
   "metadata": {},
   "cell_type": "markdown",
   "source": [
    "# Weather data\n",
    "This notebook merges the [Canadian Wildfire Dataset](https://www.kaggle.com/datasets/ulasozdemir/wildfires-in-canada-19502021) from Kaggle and [Canadian Wildland Fire Information System](https://cwfis.cfs.nrcan.gc.ca/downloads/activefires/) with [weather data](https://api.weather.gc.ca/collections/climate-daily?lang=en) from Environment and Climate Change Canada (ECCC) and Meteorological Service of Canada (MSC) by using the [MSC GeoMet API](https://eccc-msc.github.io/open-data/msc-geomet/readme_en/). To do this, we use the merged dataset (fire + nearest station) to associate each wildfire point with weather data in the [daily climate observation collection](https://api.weather.gc.ca/collections/climate-daily?lang=en)"
   ],
   "id": "161fdad3415f33be"
  },
  {
   "cell_type": "code",
   "id": "initial_id",
   "metadata": {
    "collapsed": true,
    "ExecuteTime": {
     "end_time": "2024-07-25T17:55:23.721706Z",
     "start_time": "2024-07-25T17:55:23.601457Z"
    }
   },
   "source": [
    "import time\n",
    "\n",
    "import pandas as pd\n",
    "from owslib.ogcapi.features import Features"
   ],
   "outputs": [],
   "execution_count": 1
  },
  {
   "cell_type": "code",
   "source": [
    "features = Features('https://api.weather.gc.ca/')"
   ],
   "metadata": {
    "collapsed": false,
    "ExecuteTime": {
     "end_time": "2024-07-25T15:27:38.087892Z",
     "start_time": "2024-07-25T15:27:37.938828Z"
    }
   },
   "id": "23425d83bcfb8894",
   "outputs": [],
   "execution_count": 10
  },
  {
   "cell_type": "code",
   "source": [
    "wildfire_df = pd.read_csv('fires-merged-1.csv')\n",
    "# wildfire_df = pd.read_csv('fires-merged-2.csv')\n",
    "# wildfire_df = pd.read_csv('fires-merged-3.csv')"
   ],
   "metadata": {
    "collapsed": false,
    "ExecuteTime": {
     "end_time": "2024-07-24T00:28:21.847793Z",
     "start_time": "2024-07-24T00:28:21.794136Z"
    }
   },
   "id": "422e3e002d6cc4d",
   "outputs": [],
   "execution_count": 3
  },
  {
   "cell_type": "code",
   "source": [
    "# Repeat for smaller wildfires because API calls crashes, so split into smaller datasets\n",
    "small_df1 = wildfire_df[:25000]\n",
    "small_df2 = wildfire_df[25000:]"
   ],
   "metadata": {
    "collapsed": false,
    "ExecuteTime": {
     "end_time": "2024-07-24T00:28:21.850934Z",
     "start_time": "2024-07-24T00:28:21.847793Z"
    }
   },
   "id": "490082bce117012b",
   "outputs": [],
   "execution_count": 4
  },
  {
   "metadata": {},
   "cell_type": "markdown",
   "source": [
    "## Querying MSC GeoMet API"
   ],
   "id": "620a7200b2412f7b"
  },
  {
   "metadata": {
    "ExecuteTime": {
     "end_time": "2024-07-25T15:34:58.065211Z",
     "start_time": "2024-07-25T15:34:58.062079Z"
    }
   },
   "cell_type": "code",
   "source": [
    "columns = ['TOTAL_RAIN_FLAG', 'MEAN_TEMPERATURE_FLAG', 'MIN_REL_HUMIDITY', 'HEATING_DEGREE_DAYS_FLAG', 'ID', 'MAX_TEMPERATURE', 'MAX_TEMPERATURE_FLAG', 'MIN_TEMPERATURE', 'TOTAL_RAIN', 'DIRECTION_MAX_GUST_FLAG', 'LOCAL_DAY', 'LOCAL_DATE', 'SNOW_ON_GROUND', 'PROVINCE_CODE', 'DIRECTION_MAX_GUST', 'COOLING_DEGREE_DAYS', 'SPEED_MAX_GUST_FLAG', 'MAX_REL_HUMIDITY_FLAG', 'MIN_TEMPERATURE_FLAG', 'TOTAL_PRECIPITATION_FLAG', 'STATION_NAME', 'LOCAL_YEAR', 'LOCAL_MONTH', 'MIN_REL_HUMIDITY_FLAG', 'TOTAL_SNOW_FLAG', 'MEAN_TEMPERATURE', 'CLIMATE_IDENTIFIER', 'SNOW_ON_GROUND_FLAG', 'TOTAL_SNOW', 'COOLING_DEGREE_DAYS_FLAG', 'SPEED_MAX_GUST', 'HEATING_DEGREE_DAYS', 'MAX_REL_HUMIDITY', 'TOTAL_PRECIPITATION']"
   ],
   "id": "52482e64f64ec968",
   "outputs": [],
   "execution_count": 21
  },
  {
   "metadata": {
    "ExecuteTime": {
     "end_time": "2024-07-24T01:03:46.024982Z",
     "start_time": "2024-07-24T00:28:21.856628Z"
    }
   },
   "cell_type": "code",
   "source": [
    "rows = []\n",
    "\n",
    "# Loop over every row in wildfire\n",
    "for _, row in small_df2.iterrows():\n",
    "    # For every row, we query wildfire by using date and station name. Some stations.csv you can see that some stations share names, \n",
    "    # but if they do, it is because they are at the same location, which allows for the algorithm to be more general when querying date\n",
    "    climate_data = features.collection_items(\n",
    "        'climate-daily', LOCAL_DATE=row['date'], STATION_NAME=row['STATION_NAME']\n",
    "    )\n",
    "    \n",
    "    # If there is a match\n",
    "    if climate_data['features']:\n",
    "        # Get weather data\n",
    "        properties = climate_data['features'][0]['properties']\n",
    "\n",
    "        # Merge old wildfire data with associated weather data\n",
    "        fire_data = row.to_dict()\n",
    "        new_row = {**fire_data, **properties}\n",
    "        \n",
    "        # Add row\n",
    "        rows.append(new_row)\n",
    "    else:\n",
    "        # Merge old wildfire data\n",
    "        fire_data = row.to_dict()\n",
    "        properties = {column: None for column in columns if column != 'STATION_NAME'} # Do not override STATION_NAME with None\n",
    "        # Merge empty weather data\n",
    "        new_row = {**fire_data, **properties}\n",
    "        rows.append(new_row)"
   ],
   "id": "7f4929e1398cf9dc",
   "outputs": [],
   "execution_count": 6
  },
  {
   "metadata": {
    "ExecuteTime": {
     "end_time": "2024-07-24T01:03:46.355764Z",
     "start_time": "2024-07-24T01:03:46.025981Z"
    }
   },
   "cell_type": "code",
   "source": [
    "df = pd.DataFrame(rows)\n",
    "df.to_csv('fires-weather-32.csv', index=False)"
   ],
   "id": "4c4895cdcfc84841",
   "outputs": [],
   "execution_count": 7
  },
  {
   "metadata": {},
   "cell_type": "markdown",
   "source": [
    "# Merge smaller datasets"
   ],
   "id": "cc3c03bc82538bd0"
  },
  {
   "cell_type": "code",
   "execution_count": 1,
   "outputs": [],
   "source": [
    "import pandas as pd"
   ],
   "metadata": {
    "collapsed": false,
    "ExecuteTime": {
     "end_time": "2024-07-24T01:20:27.531348400Z",
     "start_time": "2024-07-24T01:20:27.220618300Z"
    }
   },
   "id": "7c42a70094cf74d0"
  },
  {
   "metadata": {
    "ExecuteTime": {
     "end_time": "2024-07-24T01:20:44.214462900Z",
     "start_time": "2024-07-24T01:20:43.761215200Z"
    }
   },
   "cell_type": "code",
   "outputs": [],
   "execution_count": 3,
   "source": [
    "# Read\n",
    "fires_11 = pd.read_csv('fires-weather-11.csv')\n",
    "fires_12 = pd.read_csv('fires-weather-12.csv')\n",
    "fires_21 = pd.read_csv('fires-weather-21.csv')\n",
    "fires_22 = pd.read_csv('fires-weather-22.csv')\n",
    "fires_31 = pd.read_csv('fires-weather-31.csv')\n",
    "fires_32 = pd.read_csv('fires-weather-32.csv')"
   ],
   "id": "1ff0c119c386945c"
  },
  {
   "cell_type": "code",
   "execution_count": 4,
   "outputs": [],
   "source": "fires_weather_concat = pd.concat([fires_11, fires_12, fires_21, fires_22, fires_31, fires_32])",
   "metadata": {
    "collapsed": false,
    "ExecuteTime": {
     "end_time": "2024-07-24T01:22:13.062694600Z",
     "start_time": "2024-07-24T01:22:13.029362400Z"
    }
   },
   "id": "822e41b196d15f83"
  },
  {
   "cell_type": "code",
   "execution_count": 5,
   "outputs": [],
   "source": [
    "# Save to CSV\n",
    "fires_weather_concat.to_csv('fires-weather.csv', index=False)"
   ],
   "metadata": {
    "collapsed": false,
    "ExecuteTime": {
     "end_time": "2024-07-24T01:23:04.164024700Z",
     "start_time": "2024-07-24T01:23:02.653290700Z"
    }
   },
   "id": "872b0701d07d66f8"
  },
  {
   "metadata": {},
   "cell_type": "markdown",
   "source": [
    "# Get non-wildfire weather data\n",
    "After the wildfire and weather has been merged, the duplicates and wildfire without `ID` (no corresponding weather data) were removed.\n",
    "To query data points with no wildfire, we will query the same locations, but 50 days before"
   ],
   "id": "38693cd8f859fe32"
  },
  {
   "metadata": {
    "ExecuteTime": {
     "end_time": "2024-07-25T15:33:38.911706Z",
     "start_time": "2024-07-25T15:33:38.800742Z"
    }
   },
   "cell_type": "code",
   "source": "wildfire_climate_df = pd.read_csv('2000-2021+2023-2024-fire-weather.csv')",
   "id": "c4ec1091eeead1e8",
   "outputs": [],
   "execution_count": 16
  },
  {
   "metadata": {
    "ExecuteTime": {
     "end_time": "2024-07-25T15:33:39.403141Z",
     "start_time": "2024-07-25T15:33:39.396816Z"
    }
   },
   "cell_type": "code",
   "source": [
    "# Remove weather data\n",
    "wildfire_climate_df = wildfire_climate_df[['fire_id', 'lat', 'lon', 'date', 'hectares', 'STATION_NAME', 'PROV_STATE_TERR_CODE', 'LATITUDE', 'LONGITUDE', 'ELEVATION', 'distance']]"
   ],
   "id": "a029a93111527f31",
   "outputs": [],
   "execution_count": 17
  },
  {
   "metadata": {
    "ExecuteTime": {
     "end_time": "2024-07-25T15:33:39.844630Z",
     "start_time": "2024-07-25T15:33:39.834335Z"
    }
   },
   "cell_type": "code",
   "source": [
    "# Convert date column to datetime\n",
    "wildfire_climate_df['date'] = pd.to_datetime(wildfire_climate_df['date'])\n",
    "\n",
    "# Shift back date by 50 days\n",
    "wildfire_climate_df['date'] = wildfire_climate_df['date'] - pd.Timedelta(days=50)"
   ],
   "id": "dfe4833cda6c5123",
   "outputs": [],
   "execution_count": 18
  },
  {
   "metadata": {
    "ExecuteTime": {
     "end_time": "2024-07-25T15:33:40.988155Z",
     "start_time": "2024-07-25T15:33:40.977699Z"
    }
   },
   "cell_type": "code",
   "source": "wildfire_climate_df",
   "id": "c6f87964ad0e4494",
   "outputs": [
    {
     "data": {
      "text/plain": [
       "       fire_id      lat       lon       date  hectares       STATION_NAME  \\\n",
       "0            0  50.9050 -126.9292 2000-01-20      6.00         EGG ISLAND   \n",
       "1           11  59.9617 -121.3608 2000-05-08   1000.00         SAMBAA K'E   \n",
       "2           12  59.9752 -121.0342 2000-05-22     12.00         SAMBAA K'E   \n",
       "3           13  59.1767 -122.0190 2001-04-24      5.00     FORT NELSON UA   \n",
       "4           24  59.4008 -120.6438 2000-05-07      0.10         PETITOT LO   \n",
       "...        ...      ...       ...        ...       ...                ...   \n",
       "35953   148730  55.8120 -108.9650 2024-05-23      0.10  BUFFALO NARROWS A   \n",
       "35954   148741  42.4775 -122.6030 2024-05-18   1652.81         RACE ROCKS   \n",
       "35955   148747  66.8992 -141.3160 2024-05-10   2512.57         OLD CROW A   \n",
       "35956   148750  66.1294 -141.0790 2024-04-30  21266.30         OLD CROW A   \n",
       "35957   148755  43.0233 -121.4420 2024-03-01   2567.70         RACE ROCKS   \n",
       "\n",
       "      PROV_STATE_TERR_CODE   LATITUDE   LONGITUDE  ELEVATION    distance  \n",
       "0                       BC  51.145000 -127.500730       14.0   48.031939  \n",
       "1                       NT  60.262700 -121.142000      498.0   35.575309  \n",
       "2                       NT  60.262700 -121.142000      498.0   32.501109  \n",
       "3                       BC  58.502900 -122.342207      378.3   77.147719  \n",
       "4                       AB  59.320000 -119.370000      777.2   72.695087  \n",
       "...                    ...        ...         ...        ...         ...  \n",
       "35953                   SK  55.520000 -108.290000      421.2   53.317052  \n",
       "35954                   BC  48.175274 -123.315319        7.4  635.598709  \n",
       "35955                   YT  67.341200 -139.502400      250.2   92.473700  \n",
       "35956                   YT  67.341200 -139.502400      250.2  151.390408  \n",
       "35957                   BC  48.175274 -123.315319        7.4  590.700152  \n",
       "\n",
       "[35958 rows x 11 columns]"
      ],
      "text/html": [
       "<div>\n",
       "<style scoped>\n",
       "    .dataframe tbody tr th:only-of-type {\n",
       "        vertical-align: middle;\n",
       "    }\n",
       "\n",
       "    .dataframe tbody tr th {\n",
       "        vertical-align: top;\n",
       "    }\n",
       "\n",
       "    .dataframe thead th {\n",
       "        text-align: right;\n",
       "    }\n",
       "</style>\n",
       "<table border=\"1\" class=\"dataframe\">\n",
       "  <thead>\n",
       "    <tr style=\"text-align: right;\">\n",
       "      <th></th>\n",
       "      <th>fire_id</th>\n",
       "      <th>lat</th>\n",
       "      <th>lon</th>\n",
       "      <th>date</th>\n",
       "      <th>hectares</th>\n",
       "      <th>STATION_NAME</th>\n",
       "      <th>PROV_STATE_TERR_CODE</th>\n",
       "      <th>LATITUDE</th>\n",
       "      <th>LONGITUDE</th>\n",
       "      <th>ELEVATION</th>\n",
       "      <th>distance</th>\n",
       "    </tr>\n",
       "  </thead>\n",
       "  <tbody>\n",
       "    <tr>\n",
       "      <th>0</th>\n",
       "      <td>0</td>\n",
       "      <td>50.9050</td>\n",
       "      <td>-126.9292</td>\n",
       "      <td>2000-01-20</td>\n",
       "      <td>6.00</td>\n",
       "      <td>EGG ISLAND</td>\n",
       "      <td>BC</td>\n",
       "      <td>51.145000</td>\n",
       "      <td>-127.500730</td>\n",
       "      <td>14.0</td>\n",
       "      <td>48.031939</td>\n",
       "    </tr>\n",
       "    <tr>\n",
       "      <th>1</th>\n",
       "      <td>11</td>\n",
       "      <td>59.9617</td>\n",
       "      <td>-121.3608</td>\n",
       "      <td>2000-05-08</td>\n",
       "      <td>1000.00</td>\n",
       "      <td>SAMBAA K'E</td>\n",
       "      <td>NT</td>\n",
       "      <td>60.262700</td>\n",
       "      <td>-121.142000</td>\n",
       "      <td>498.0</td>\n",
       "      <td>35.575309</td>\n",
       "    </tr>\n",
       "    <tr>\n",
       "      <th>2</th>\n",
       "      <td>12</td>\n",
       "      <td>59.9752</td>\n",
       "      <td>-121.0342</td>\n",
       "      <td>2000-05-22</td>\n",
       "      <td>12.00</td>\n",
       "      <td>SAMBAA K'E</td>\n",
       "      <td>NT</td>\n",
       "      <td>60.262700</td>\n",
       "      <td>-121.142000</td>\n",
       "      <td>498.0</td>\n",
       "      <td>32.501109</td>\n",
       "    </tr>\n",
       "    <tr>\n",
       "      <th>3</th>\n",
       "      <td>13</td>\n",
       "      <td>59.1767</td>\n",
       "      <td>-122.0190</td>\n",
       "      <td>2001-04-24</td>\n",
       "      <td>5.00</td>\n",
       "      <td>FORT NELSON UA</td>\n",
       "      <td>BC</td>\n",
       "      <td>58.502900</td>\n",
       "      <td>-122.342207</td>\n",
       "      <td>378.3</td>\n",
       "      <td>77.147719</td>\n",
       "    </tr>\n",
       "    <tr>\n",
       "      <th>4</th>\n",
       "      <td>24</td>\n",
       "      <td>59.4008</td>\n",
       "      <td>-120.6438</td>\n",
       "      <td>2000-05-07</td>\n",
       "      <td>0.10</td>\n",
       "      <td>PETITOT LO</td>\n",
       "      <td>AB</td>\n",
       "      <td>59.320000</td>\n",
       "      <td>-119.370000</td>\n",
       "      <td>777.2</td>\n",
       "      <td>72.695087</td>\n",
       "    </tr>\n",
       "    <tr>\n",
       "      <th>...</th>\n",
       "      <td>...</td>\n",
       "      <td>...</td>\n",
       "      <td>...</td>\n",
       "      <td>...</td>\n",
       "      <td>...</td>\n",
       "      <td>...</td>\n",
       "      <td>...</td>\n",
       "      <td>...</td>\n",
       "      <td>...</td>\n",
       "      <td>...</td>\n",
       "      <td>...</td>\n",
       "    </tr>\n",
       "    <tr>\n",
       "      <th>35953</th>\n",
       "      <td>148730</td>\n",
       "      <td>55.8120</td>\n",
       "      <td>-108.9650</td>\n",
       "      <td>2024-05-23</td>\n",
       "      <td>0.10</td>\n",
       "      <td>BUFFALO NARROWS A</td>\n",
       "      <td>SK</td>\n",
       "      <td>55.520000</td>\n",
       "      <td>-108.290000</td>\n",
       "      <td>421.2</td>\n",
       "      <td>53.317052</td>\n",
       "    </tr>\n",
       "    <tr>\n",
       "      <th>35954</th>\n",
       "      <td>148741</td>\n",
       "      <td>42.4775</td>\n",
       "      <td>-122.6030</td>\n",
       "      <td>2024-05-18</td>\n",
       "      <td>1652.81</td>\n",
       "      <td>RACE ROCKS</td>\n",
       "      <td>BC</td>\n",
       "      <td>48.175274</td>\n",
       "      <td>-123.315319</td>\n",
       "      <td>7.4</td>\n",
       "      <td>635.598709</td>\n",
       "    </tr>\n",
       "    <tr>\n",
       "      <th>35955</th>\n",
       "      <td>148747</td>\n",
       "      <td>66.8992</td>\n",
       "      <td>-141.3160</td>\n",
       "      <td>2024-05-10</td>\n",
       "      <td>2512.57</td>\n",
       "      <td>OLD CROW A</td>\n",
       "      <td>YT</td>\n",
       "      <td>67.341200</td>\n",
       "      <td>-139.502400</td>\n",
       "      <td>250.2</td>\n",
       "      <td>92.473700</td>\n",
       "    </tr>\n",
       "    <tr>\n",
       "      <th>35956</th>\n",
       "      <td>148750</td>\n",
       "      <td>66.1294</td>\n",
       "      <td>-141.0790</td>\n",
       "      <td>2024-04-30</td>\n",
       "      <td>21266.30</td>\n",
       "      <td>OLD CROW A</td>\n",
       "      <td>YT</td>\n",
       "      <td>67.341200</td>\n",
       "      <td>-139.502400</td>\n",
       "      <td>250.2</td>\n",
       "      <td>151.390408</td>\n",
       "    </tr>\n",
       "    <tr>\n",
       "      <th>35957</th>\n",
       "      <td>148755</td>\n",
       "      <td>43.0233</td>\n",
       "      <td>-121.4420</td>\n",
       "      <td>2024-03-01</td>\n",
       "      <td>2567.70</td>\n",
       "      <td>RACE ROCKS</td>\n",
       "      <td>BC</td>\n",
       "      <td>48.175274</td>\n",
       "      <td>-123.315319</td>\n",
       "      <td>7.4</td>\n",
       "      <td>590.700152</td>\n",
       "    </tr>\n",
       "  </tbody>\n",
       "</table>\n",
       "<p>35958 rows × 11 columns</p>\n",
       "</div>"
      ]
     },
     "execution_count": 19,
     "metadata": {},
     "output_type": "execute_result"
    }
   ],
   "execution_count": 19
  },
  {
   "metadata": {
    "ExecuteTime": {
     "end_time": "2024-07-25T16:33:17.150333Z",
     "start_time": "2024-07-25T15:35:10.777431Z"
    }
   },
   "cell_type": "code",
   "source": [
    "rows = []\n",
    "delay = 5 # seconds\n",
    "\n",
    "# Loop over every row in wildfire\n",
    "for _, row in wildfire_climate_df.iterrows():\n",
    "    success = False\n",
    "    # Retry until data is found\n",
    "    while not success:\n",
    "        try:\n",
    "            climate_data = features.collection_items(\n",
    "                'climate-daily', LOCAL_DATE=row['date'], STATION_NAME=row['STATION_NAME']\n",
    "            )\n",
    "            success = True\n",
    "        # If network error, wait 5 seconds and try again\n",
    "        except Exception as e:\n",
    "            print(e)\n",
    "            time.sleep(delay)\n",
    "    # If there is a match\n",
    "    if climate_data['features']:\n",
    "        # Get weather data\n",
    "        properties = climate_data['features'][0]['properties']\n",
    "\n",
    "        # Merge old wildfire data with associated weather data\n",
    "        fire_data = row.to_dict()\n",
    "        new_row = {**fire_data, **properties}\n",
    "        \n",
    "        # Add row\n",
    "        rows.append(new_row)\n",
    "    else:\n",
    "        # Merge old wildfire data\n",
    "        fire_data = row.to_dict()\n",
    "        properties = {column: None for column in columns if column != 'STATION_NAME'} # Do not override STATION_NAME with None\n",
    "        # Merge empty weather data\n",
    "        new_row = {**fire_data, **properties}\n",
    "        rows.append(new_row)"
   ],
   "id": "9cb667b064f4d0b0",
   "outputs": [],
   "execution_count": 22
  },
  {
   "metadata": {
    "ExecuteTime": {
     "end_time": "2024-07-25T16:33:17.807086Z",
     "start_time": "2024-07-25T16:33:17.150904Z"
    }
   },
   "cell_type": "code",
   "source": [
    "df = pd.DataFrame(rows)\n",
    "df.to_csv('no-fires-weather.csv', index=False)"
   ],
   "id": "27423ca8112ccc8b",
   "outputs": [],
   "execution_count": 23
  },
  {
   "metadata": {
    "ExecuteTime": {
     "end_time": "2024-07-25T17:56:25.253952Z",
     "start_time": "2024-07-25T17:56:25.249335Z"
    }
   },
   "cell_type": "code",
   "source": [
    "# Missing data: weather data was found for wildfire, but not 50 days prior\n",
    "missing = df['ID'].isnull().sum()\n",
    "missing_percent = missing / len(df) * 100\n",
    "print('Missing amount: ' + str(missing))\n",
    "print('Missing percentage: ' + str(missing_percent))"
   ],
   "id": "613f00eaa2cac961",
   "outputs": [
    {
     "name": "stdout",
     "output_type": "stream",
     "text": [
      "Missing amount: 3626\n",
      "Missing percentage: 10.083986873574725\n"
     ]
    }
   ],
   "execution_count": 5
  },
  {
   "metadata": {
    "ExecuteTime": {
     "end_time": "2024-07-25T17:57:36.699183Z",
     "start_time": "2024-07-25T17:57:36.684653Z"
    }
   },
   "cell_type": "code",
   "source": [
    "# Remove rows without weather data\n",
    "df.dropna(subset='ID', inplace=True)"
   ],
   "id": "9e4781b90f395db4",
   "outputs": [],
   "execution_count": 6
  },
  {
   "metadata": {
    "ExecuteTime": {
     "end_time": "2024-07-25T17:57:56.279752Z",
     "start_time": "2024-07-25T17:57:56.248799Z"
    }
   },
   "cell_type": "code",
   "source": "df",
   "id": "881ada73223bd64a",
   "outputs": [
    {
     "data": {
      "text/plain": [
       "       fire_id      lat       lon        date  hectares       STATION_NAME  \\\n",
       "0            0  50.9050 -126.9292  2000-01-20      6.00         EGG ISLAND   \n",
       "1           11  59.9617 -121.3608  2000-05-08   1000.00         SAMBAA K'E   \n",
       "2           12  59.9752 -121.0342  2000-05-22     12.00         SAMBAA K'E   \n",
       "3           13  59.1767 -122.0190  2001-04-24      5.00     FORT NELSON UA   \n",
       "4           24  59.4008 -120.6438  2000-05-07      0.10         PETITOT LO   \n",
       "...        ...      ...       ...         ...       ...                ...   \n",
       "35953   148730  55.8120 -108.9650  2024-05-23      0.10  BUFFALO NARROWS A   \n",
       "35954   148741  42.4775 -122.6030  2024-05-18   1652.81         RACE ROCKS   \n",
       "35955   148747  66.8992 -141.3160  2024-05-10   2512.57         OLD CROW A   \n",
       "35956   148750  66.1294 -141.0790  2024-04-30  21266.30         OLD CROW A   \n",
       "35957   148755  43.0233 -121.4420  2024-03-01   2567.70         RACE ROCKS   \n",
       "\n",
       "      PROV_STATE_TERR_CODE   LATITUDE   LONGITUDE  ELEVATION  ...  \\\n",
       "0                       BC  51.145000 -127.500730       14.0  ...   \n",
       "1                       NT  60.262700 -121.142000      498.0  ...   \n",
       "2                       NT  60.262700 -121.142000      498.0  ...   \n",
       "3                       BC  58.502900 -122.342207      378.3  ...   \n",
       "4                       AB  59.320000 -119.370000      777.2  ...   \n",
       "...                    ...        ...         ...        ...  ...   \n",
       "35953                   SK  55.520000 -108.290000      421.2  ...   \n",
       "35954                   BC  48.175274 -123.315319        7.4  ...   \n",
       "35955                   YT  67.341200 -139.502400      250.2  ...   \n",
       "35956                   YT  67.341200 -139.502400      250.2  ...   \n",
       "35957                   BC  48.175274 -123.315319        7.4  ...   \n",
       "\n",
       "       HEATING_DEGREE_DAYS_FLAG  TOTAL_SNOW_FLAG           LOCAL_DATE  \\\n",
       "0                           NaN              NaN  2000-01-20 00:00:00   \n",
       "1                           NaN              NaN  2000-05-08 00:00:00   \n",
       "2                           NaN              NaN  2000-05-22 00:00:00   \n",
       "3                           NaN              NaN  2001-04-24 00:00:00   \n",
       "4                             M                M  2000-05-07 00:00:00   \n",
       "...                         ...              ...                  ...   \n",
       "35953                       NaN              NaN  2024-05-23 00:00:00   \n",
       "35954                       NaN              NaN  2024-05-18 00:00:00   \n",
       "35955                       NaN              NaN  2024-05-10 00:00:00   \n",
       "35956                       NaN              NaN  2024-04-30 00:00:00   \n",
       "35957                       NaN              NaN  2024-03-01 00:00:00   \n",
       "\n",
       "       MIN_TEMPERATURE PROVINCE_CODE  SPEED_MAX_GUST_FLAG SPEED_MAX_GUST  \\\n",
       "0                 -1.3            BC                  NaN            NaN   \n",
       "1                 -2.2            NT                  NaN            NaN   \n",
       "2                 -0.9            NT                  NaN            NaN   \n",
       "3                  0.4            BC                  NaN            NaN   \n",
       "4                  NaN            AB                  NaN            NaN   \n",
       "...                ...           ...                  ...            ...   \n",
       "35953              4.6            SK                  NaN           32.0   \n",
       "35954              8.1            BC                  NaN           64.0   \n",
       "35955              0.7            YT                  NaN           33.0   \n",
       "35956            -14.1            YT                  NaN           53.0   \n",
       "35957              3.3            BC                  NaN           47.0   \n",
       "\n",
       "       MAX_TEMPERATURE MEAN_TEMPERATURE_FLAG SNOW_ON_GROUND_FLAG  \n",
       "0                  3.3                   NaN                 NaN  \n",
       "1                 14.5                   NaN                 NaN  \n",
       "2                 15.1                   NaN                 NaN  \n",
       "3                 18.5                   NaN                 NaN  \n",
       "4                  NaN                     M                 NaN  \n",
       "...                ...                   ...                 ...  \n",
       "35953             11.4                   NaN                 NaN  \n",
       "35954             10.6                   NaN                 NaN  \n",
       "35955              8.1                   NaN                 NaN  \n",
       "35956             -8.0                   NaN                 NaN  \n",
       "35957              6.3                   NaN                 NaN  \n",
       "\n",
       "[32332 rows x 44 columns]"
      ],
      "text/html": [
       "<div>\n",
       "<style scoped>\n",
       "    .dataframe tbody tr th:only-of-type {\n",
       "        vertical-align: middle;\n",
       "    }\n",
       "\n",
       "    .dataframe tbody tr th {\n",
       "        vertical-align: top;\n",
       "    }\n",
       "\n",
       "    .dataframe thead th {\n",
       "        text-align: right;\n",
       "    }\n",
       "</style>\n",
       "<table border=\"1\" class=\"dataframe\">\n",
       "  <thead>\n",
       "    <tr style=\"text-align: right;\">\n",
       "      <th></th>\n",
       "      <th>fire_id</th>\n",
       "      <th>lat</th>\n",
       "      <th>lon</th>\n",
       "      <th>date</th>\n",
       "      <th>hectares</th>\n",
       "      <th>STATION_NAME</th>\n",
       "      <th>PROV_STATE_TERR_CODE</th>\n",
       "      <th>LATITUDE</th>\n",
       "      <th>LONGITUDE</th>\n",
       "      <th>ELEVATION</th>\n",
       "      <th>...</th>\n",
       "      <th>HEATING_DEGREE_DAYS_FLAG</th>\n",
       "      <th>TOTAL_SNOW_FLAG</th>\n",
       "      <th>LOCAL_DATE</th>\n",
       "      <th>MIN_TEMPERATURE</th>\n",
       "      <th>PROVINCE_CODE</th>\n",
       "      <th>SPEED_MAX_GUST_FLAG</th>\n",
       "      <th>SPEED_MAX_GUST</th>\n",
       "      <th>MAX_TEMPERATURE</th>\n",
       "      <th>MEAN_TEMPERATURE_FLAG</th>\n",
       "      <th>SNOW_ON_GROUND_FLAG</th>\n",
       "    </tr>\n",
       "  </thead>\n",
       "  <tbody>\n",
       "    <tr>\n",
       "      <th>0</th>\n",
       "      <td>0</td>\n",
       "      <td>50.9050</td>\n",
       "      <td>-126.9292</td>\n",
       "      <td>2000-01-20</td>\n",
       "      <td>6.00</td>\n",
       "      <td>EGG ISLAND</td>\n",
       "      <td>BC</td>\n",
       "      <td>51.145000</td>\n",
       "      <td>-127.500730</td>\n",
       "      <td>14.0</td>\n",
       "      <td>...</td>\n",
       "      <td>NaN</td>\n",
       "      <td>NaN</td>\n",
       "      <td>2000-01-20 00:00:00</td>\n",
       "      <td>-1.3</td>\n",
       "      <td>BC</td>\n",
       "      <td>NaN</td>\n",
       "      <td>NaN</td>\n",
       "      <td>3.3</td>\n",
       "      <td>NaN</td>\n",
       "      <td>NaN</td>\n",
       "    </tr>\n",
       "    <tr>\n",
       "      <th>1</th>\n",
       "      <td>11</td>\n",
       "      <td>59.9617</td>\n",
       "      <td>-121.3608</td>\n",
       "      <td>2000-05-08</td>\n",
       "      <td>1000.00</td>\n",
       "      <td>SAMBAA K'E</td>\n",
       "      <td>NT</td>\n",
       "      <td>60.262700</td>\n",
       "      <td>-121.142000</td>\n",
       "      <td>498.0</td>\n",
       "      <td>...</td>\n",
       "      <td>NaN</td>\n",
       "      <td>NaN</td>\n",
       "      <td>2000-05-08 00:00:00</td>\n",
       "      <td>-2.2</td>\n",
       "      <td>NT</td>\n",
       "      <td>NaN</td>\n",
       "      <td>NaN</td>\n",
       "      <td>14.5</td>\n",
       "      <td>NaN</td>\n",
       "      <td>NaN</td>\n",
       "    </tr>\n",
       "    <tr>\n",
       "      <th>2</th>\n",
       "      <td>12</td>\n",
       "      <td>59.9752</td>\n",
       "      <td>-121.0342</td>\n",
       "      <td>2000-05-22</td>\n",
       "      <td>12.00</td>\n",
       "      <td>SAMBAA K'E</td>\n",
       "      <td>NT</td>\n",
       "      <td>60.262700</td>\n",
       "      <td>-121.142000</td>\n",
       "      <td>498.0</td>\n",
       "      <td>...</td>\n",
       "      <td>NaN</td>\n",
       "      <td>NaN</td>\n",
       "      <td>2000-05-22 00:00:00</td>\n",
       "      <td>-0.9</td>\n",
       "      <td>NT</td>\n",
       "      <td>NaN</td>\n",
       "      <td>NaN</td>\n",
       "      <td>15.1</td>\n",
       "      <td>NaN</td>\n",
       "      <td>NaN</td>\n",
       "    </tr>\n",
       "    <tr>\n",
       "      <th>3</th>\n",
       "      <td>13</td>\n",
       "      <td>59.1767</td>\n",
       "      <td>-122.0190</td>\n",
       "      <td>2001-04-24</td>\n",
       "      <td>5.00</td>\n",
       "      <td>FORT NELSON UA</td>\n",
       "      <td>BC</td>\n",
       "      <td>58.502900</td>\n",
       "      <td>-122.342207</td>\n",
       "      <td>378.3</td>\n",
       "      <td>...</td>\n",
       "      <td>NaN</td>\n",
       "      <td>NaN</td>\n",
       "      <td>2001-04-24 00:00:00</td>\n",
       "      <td>0.4</td>\n",
       "      <td>BC</td>\n",
       "      <td>NaN</td>\n",
       "      <td>NaN</td>\n",
       "      <td>18.5</td>\n",
       "      <td>NaN</td>\n",
       "      <td>NaN</td>\n",
       "    </tr>\n",
       "    <tr>\n",
       "      <th>4</th>\n",
       "      <td>24</td>\n",
       "      <td>59.4008</td>\n",
       "      <td>-120.6438</td>\n",
       "      <td>2000-05-07</td>\n",
       "      <td>0.10</td>\n",
       "      <td>PETITOT LO</td>\n",
       "      <td>AB</td>\n",
       "      <td>59.320000</td>\n",
       "      <td>-119.370000</td>\n",
       "      <td>777.2</td>\n",
       "      <td>...</td>\n",
       "      <td>M</td>\n",
       "      <td>M</td>\n",
       "      <td>2000-05-07 00:00:00</td>\n",
       "      <td>NaN</td>\n",
       "      <td>AB</td>\n",
       "      <td>NaN</td>\n",
       "      <td>NaN</td>\n",
       "      <td>NaN</td>\n",
       "      <td>M</td>\n",
       "      <td>NaN</td>\n",
       "    </tr>\n",
       "    <tr>\n",
       "      <th>...</th>\n",
       "      <td>...</td>\n",
       "      <td>...</td>\n",
       "      <td>...</td>\n",
       "      <td>...</td>\n",
       "      <td>...</td>\n",
       "      <td>...</td>\n",
       "      <td>...</td>\n",
       "      <td>...</td>\n",
       "      <td>...</td>\n",
       "      <td>...</td>\n",
       "      <td>...</td>\n",
       "      <td>...</td>\n",
       "      <td>...</td>\n",
       "      <td>...</td>\n",
       "      <td>...</td>\n",
       "      <td>...</td>\n",
       "      <td>...</td>\n",
       "      <td>...</td>\n",
       "      <td>...</td>\n",
       "      <td>...</td>\n",
       "      <td>...</td>\n",
       "    </tr>\n",
       "    <tr>\n",
       "      <th>35953</th>\n",
       "      <td>148730</td>\n",
       "      <td>55.8120</td>\n",
       "      <td>-108.9650</td>\n",
       "      <td>2024-05-23</td>\n",
       "      <td>0.10</td>\n",
       "      <td>BUFFALO NARROWS A</td>\n",
       "      <td>SK</td>\n",
       "      <td>55.520000</td>\n",
       "      <td>-108.290000</td>\n",
       "      <td>421.2</td>\n",
       "      <td>...</td>\n",
       "      <td>NaN</td>\n",
       "      <td>NaN</td>\n",
       "      <td>2024-05-23 00:00:00</td>\n",
       "      <td>4.6</td>\n",
       "      <td>SK</td>\n",
       "      <td>NaN</td>\n",
       "      <td>32.0</td>\n",
       "      <td>11.4</td>\n",
       "      <td>NaN</td>\n",
       "      <td>NaN</td>\n",
       "    </tr>\n",
       "    <tr>\n",
       "      <th>35954</th>\n",
       "      <td>148741</td>\n",
       "      <td>42.4775</td>\n",
       "      <td>-122.6030</td>\n",
       "      <td>2024-05-18</td>\n",
       "      <td>1652.81</td>\n",
       "      <td>RACE ROCKS</td>\n",
       "      <td>BC</td>\n",
       "      <td>48.175274</td>\n",
       "      <td>-123.315319</td>\n",
       "      <td>7.4</td>\n",
       "      <td>...</td>\n",
       "      <td>NaN</td>\n",
       "      <td>NaN</td>\n",
       "      <td>2024-05-18 00:00:00</td>\n",
       "      <td>8.1</td>\n",
       "      <td>BC</td>\n",
       "      <td>NaN</td>\n",
       "      <td>64.0</td>\n",
       "      <td>10.6</td>\n",
       "      <td>NaN</td>\n",
       "      <td>NaN</td>\n",
       "    </tr>\n",
       "    <tr>\n",
       "      <th>35955</th>\n",
       "      <td>148747</td>\n",
       "      <td>66.8992</td>\n",
       "      <td>-141.3160</td>\n",
       "      <td>2024-05-10</td>\n",
       "      <td>2512.57</td>\n",
       "      <td>OLD CROW A</td>\n",
       "      <td>YT</td>\n",
       "      <td>67.341200</td>\n",
       "      <td>-139.502400</td>\n",
       "      <td>250.2</td>\n",
       "      <td>...</td>\n",
       "      <td>NaN</td>\n",
       "      <td>NaN</td>\n",
       "      <td>2024-05-10 00:00:00</td>\n",
       "      <td>0.7</td>\n",
       "      <td>YT</td>\n",
       "      <td>NaN</td>\n",
       "      <td>33.0</td>\n",
       "      <td>8.1</td>\n",
       "      <td>NaN</td>\n",
       "      <td>NaN</td>\n",
       "    </tr>\n",
       "    <tr>\n",
       "      <th>35956</th>\n",
       "      <td>148750</td>\n",
       "      <td>66.1294</td>\n",
       "      <td>-141.0790</td>\n",
       "      <td>2024-04-30</td>\n",
       "      <td>21266.30</td>\n",
       "      <td>OLD CROW A</td>\n",
       "      <td>YT</td>\n",
       "      <td>67.341200</td>\n",
       "      <td>-139.502400</td>\n",
       "      <td>250.2</td>\n",
       "      <td>...</td>\n",
       "      <td>NaN</td>\n",
       "      <td>NaN</td>\n",
       "      <td>2024-04-30 00:00:00</td>\n",
       "      <td>-14.1</td>\n",
       "      <td>YT</td>\n",
       "      <td>NaN</td>\n",
       "      <td>53.0</td>\n",
       "      <td>-8.0</td>\n",
       "      <td>NaN</td>\n",
       "      <td>NaN</td>\n",
       "    </tr>\n",
       "    <tr>\n",
       "      <th>35957</th>\n",
       "      <td>148755</td>\n",
       "      <td>43.0233</td>\n",
       "      <td>-121.4420</td>\n",
       "      <td>2024-03-01</td>\n",
       "      <td>2567.70</td>\n",
       "      <td>RACE ROCKS</td>\n",
       "      <td>BC</td>\n",
       "      <td>48.175274</td>\n",
       "      <td>-123.315319</td>\n",
       "      <td>7.4</td>\n",
       "      <td>...</td>\n",
       "      <td>NaN</td>\n",
       "      <td>NaN</td>\n",
       "      <td>2024-03-01 00:00:00</td>\n",
       "      <td>3.3</td>\n",
       "      <td>BC</td>\n",
       "      <td>NaN</td>\n",
       "      <td>47.0</td>\n",
       "      <td>6.3</td>\n",
       "      <td>NaN</td>\n",
       "      <td>NaN</td>\n",
       "    </tr>\n",
       "  </tbody>\n",
       "</table>\n",
       "<p>32332 rows × 44 columns</p>\n",
       "</div>"
      ]
     },
     "execution_count": 8,
     "metadata": {},
     "output_type": "execute_result"
    }
   ],
   "execution_count": 8
  },
  {
   "metadata": {},
   "cell_type": "markdown",
   "source": "Since there are no wildfires here, we must set hectares to 0",
   "id": "5b5d59ad64062aa5"
  },
  {
   "metadata": {
    "ExecuteTime": {
     "end_time": "2024-07-25T18:01:22.744632Z",
     "start_time": "2024-07-25T18:01:22.742170Z"
    }
   },
   "cell_type": "code",
   "source": "df['hectares'] = 0",
   "id": "2edeff5fc9a83720",
   "outputs": [],
   "execution_count": 10
  },
  {
   "metadata": {
    "ExecuteTime": {
     "end_time": "2024-07-25T18:01:23.837757Z",
     "start_time": "2024-07-25T18:01:23.415709Z"
    }
   },
   "cell_type": "code",
   "source": "df.to_csv('no-fires-weather.csv', index=False)",
   "id": "6032389570dd4177",
   "outputs": [],
   "execution_count": 11
  }
 ],
 "metadata": {
  "kernelspec": {
   "display_name": "Python 3",
   "language": "python",
   "name": "python3"
  },
  "language_info": {
   "codemirror_mode": {
    "name": "ipython",
    "version": 2
   },
   "file_extension": ".py",
   "mimetype": "text/x-python",
   "name": "python",
   "nbconvert_exporter": "python",
   "pygments_lexer": "ipython2",
   "version": "2.7.6"
  }
 },
 "nbformat": 4,
 "nbformat_minor": 5
}
