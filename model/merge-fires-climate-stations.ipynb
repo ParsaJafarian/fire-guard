{
 "cells": [
  {
   "cell_type": "markdown",
   "source": [
    "# Merge dataset of wildfires with nearest weather station\n",
    "This notebook merges the [Canadian Wildfire Dataset](https://www.kaggle.com/datasets/ulasozdemir/wildfires-in-canada-19502021) from Kaggle and [Canadian Wildland Fire Information System](https://cwfis.cfs.nrcan.gc.ca/downloads/activefires/) with [climate station data](https://api.weather.gc.ca/collections/climate-stations?lang=en) from Environment and Climate Change Canada (ECCC) and Meteorological Service of Canada (MSC) by using the [MSC GeoMet API](https://eccc-msc.github.io/open-data/msc-geomet/readme_en/). To do this, we utilize haversine distance to associate each wildfire to its nearest climate station"
   ],
   "metadata": {
    "collapsed": false
   }
  },
  {
   "cell_type": "code",
   "metadata": {
    "collapsed": true,
    "ExecuteTime": {
     "end_time": "2024-07-21T15:08:27.346829900Z",
     "start_time": "2024-07-21T15:08:26.869017200Z"
    }
   },
   "source": [
    "import pandas as pd\n",
    "import numpy as np"
   ],
   "outputs": [],
   "execution_count": 1
  },
  {
   "cell_type": "markdown",
   "source": [
    "## Station data"
   ],
   "metadata": {
    "collapsed": false
   }
  },
  {
   "cell_type": "code",
   "source": [
    "stations_df = pd.read_csv('stations.csv')"
   ],
   "metadata": {
    "collapsed": false,
    "ExecuteTime": {
     "end_time": "2024-07-21T14:38:55.029748400Z",
     "start_time": "2024-07-21T14:38:54.984220Z"
    }
   },
   "outputs": [],
   "execution_count": 2
  },
  {
   "cell_type": "code",
   "source": [
    "# Convert to standard decimal degrees\n",
    "stations_df['LATITUDE'] = stations_df['LATITUDE'] / 10000000\n",
    "stations_df['LONGITUDE'] = stations_df['LONGITUDE'] / 10000000"
   ],
   "metadata": {
    "collapsed": false,
    "ExecuteTime": {
     "end_time": "2024-07-21T14:38:55.034269600Z",
     "start_time": "2024-07-21T14:38:55.029748400Z"
    }
   },
   "outputs": [],
   "execution_count": 3
  },
  {
   "cell_type": "code",
   "source": [
    "# Create coordinates column, merges both latitude and longitude with ',' as a seperator\n",
    "stations_df['COORDINATES'] = stations_df['LATITUDE'].astype(str) + ',' + stations_df['LONGITUDE'].astype(str)"
   ],
   "metadata": {
    "collapsed": false,
    "ExecuteTime": {
     "end_time": "2024-07-21T14:38:55.046965400Z",
     "start_time": "2024-07-21T14:38:55.035265900Z"
    }
   },
   "outputs": [],
   "execution_count": 4
  },
  {
   "cell_type": "code",
   "source": [
    "stations_df"
   ],
   "metadata": {
    "collapsed": false,
    "ExecuteTime": {
     "end_time": "2024-07-21T14:38:55.082116900Z",
     "start_time": "2024-07-21T14:38:55.047963500Z"
    }
   },
   "outputs": [
    {
     "data": {
      "text/plain": "      STN_ID              STATION_NAME PROV_STATE_TERR_CODE     ENG_PROV_NAME  \\\n0       5679                 FIRE LAKE                   QC            QUEBEC   \n1       5680               FORESTVILLE                   QC            QUEBEC   \n2       5682         FORET MONTMORENCY                   QC            QUEBEC   \n3       5687       GRANDES BERGERONNES                   QC            QUEBEC   \n4       5688               GRAND FONDS                   QC            QUEBEC   \n...      ...                       ...                  ...               ...   \n8547      61              JAMES ISLAND                   BC  BRITISH COLUMBIA   \n8548      78      SAANICHTON MT NEWTON                   BC  BRITISH COLUMBIA   \n8549      85     SAANICH DOM ASTRO OBS                   BC  BRITISH COLUMBIA   \n8550      87            SAANICHTON CDA                   BC  BRITISH COLUMBIA   \n8551      92  SALTSPRING IS CUSHEON LK                   BC  BRITISH COLUMBIA   \n\n             FRE_PROV_NAME COUNTRY  LATITUDE  LONGITUDE TIMEZONE  ELEVATION  \\\n0                   QUÉBEC     CAN   52.2000   -67.2200      EST      609.6   \n1                   QUÉBEC     CAN   48.4400   -69.0500      EST       76.2   \n2                   QUÉBEC     CAN   47.1900   -71.0900      EST      640.0   \n3                   QUÉBEC     CAN   48.1500   -69.3100      EST       61.0   \n4                   QUÉBEC     CAN   47.4500   -70.0700      EST      365.8   \n...                    ...     ...       ...        ...      ...        ...   \n8547  COLOMBIE-BRITANNIQUE     CAN   48.3600  -123.2100      PST       53.6   \n8548  COLOMBIE-BRITANNIQUE     CAN   48.3551  -123.2538      PST       42.7   \n8549  COLOMBIE-BRITANNIQUE     CAN   48.3100  -123.2500      PST      222.5   \n8550  COLOMBIE-BRITANNIQUE     CAN   48.3718  -123.2508      PST       61.0   \n8551  COLOMBIE-BRITANNIQUE     CAN   48.4913  -123.2836      PST      107.9   \n\n      ... HLY_FIRST_DATE HLY_LAST_DATE       DLY_FIRST_DATE  \\\n0     ...            NaN           NaN  1974-07-01 00:00:00   \n1     ...            NaN           NaN  1963-01-01 00:00:00   \n2     ...            NaN           NaN  1965-07-01 00:00:00   \n3     ...            NaN           NaN  1951-08-01 00:00:00   \n4     ...            NaN           NaN  1968-10-01 00:00:00   \n...   ...            ...           ...                  ...   \n8547  ...            NaN           NaN  1914-02-01 00:00:00   \n8548  ...            NaN           NaN  1980-08-01 00:00:00   \n8549  ...            NaN           NaN  1916-12-01 00:00:00   \n8550  ...            NaN           NaN  1914-03-01 00:00:00   \n8551  ...            NaN           NaN  1976-09-01 00:00:00   \n\n            DLY_LAST_DATE       MLY_FIRST_DATE        MLY_LAST_DATE  \\\n0     1974-08-31 00:00:00  1974-01-01 00:00:00  1974-12-01 00:00:00   \n1     1996-10-31 00:00:00  1963-01-01 00:00:00  1996-10-01 00:00:00   \n2     2002-01-31 00:00:00  1965-01-01 00:00:00  2002-01-01 00:00:00   \n3     2023-02-28 00:00:00  1951-01-01 00:00:00  2015-11-01 00:00:00   \n4     1991-05-31 00:00:00  1968-01-01 00:00:00  1991-11-01 00:00:00   \n...                   ...                  ...                  ...   \n8547  1978-09-30 00:00:00  1914-01-01 00:00:00  1978-12-01 00:00:00   \n8548  2024-07-12 00:00:00  1980-01-01 00:00:00  2007-02-01 00:00:00   \n8549  1977-06-30 00:00:00  1916-01-01 00:00:00  1977-12-01 00:00:00   \n8550  2023-02-09 00:00:00  1914-01-01 00:00:00  2007-02-01 00:00:00   \n8551  2001-03-31 00:00:00  1976-01-01 00:00:00  2001-03-01 00:00:00   \n\n      HAS_MONTHLY_SUMMARY HAS_NORMALS_DATA HAS_HOURLY_DATA        COORDINATES  \n0                       Y                N               N        52.2,-67.22  \n1                       Y                N               N       48.44,-69.05  \n2                       Y                N               N       47.19,-71.09  \n3                       Y                Y               N       48.15,-69.31  \n4                       Y                N               N       47.45,-70.07  \n...                   ...              ...             ...                ...  \n8547                    Y                N               N      48.36,-123.21  \n8548                    Y                Y               N  48.3551,-123.2538  \n8549                    Y                N               N      48.31,-123.25  \n8550                    Y                Y               N  48.3718,-123.2508  \n8551                    Y                N               N  48.4913,-123.2836  \n\n[8552 rows x 33 columns]",
      "text/html": "<div>\n<style scoped>\n    .dataframe tbody tr th:only-of-type {\n        vertical-align: middle;\n    }\n\n    .dataframe tbody tr th {\n        vertical-align: top;\n    }\n\n    .dataframe thead th {\n        text-align: right;\n    }\n</style>\n<table border=\"1\" class=\"dataframe\">\n  <thead>\n    <tr style=\"text-align: right;\">\n      <th></th>\n      <th>STN_ID</th>\n      <th>STATION_NAME</th>\n      <th>PROV_STATE_TERR_CODE</th>\n      <th>ENG_PROV_NAME</th>\n      <th>FRE_PROV_NAME</th>\n      <th>COUNTRY</th>\n      <th>LATITUDE</th>\n      <th>LONGITUDE</th>\n      <th>TIMEZONE</th>\n      <th>ELEVATION</th>\n      <th>...</th>\n      <th>HLY_FIRST_DATE</th>\n      <th>HLY_LAST_DATE</th>\n      <th>DLY_FIRST_DATE</th>\n      <th>DLY_LAST_DATE</th>\n      <th>MLY_FIRST_DATE</th>\n      <th>MLY_LAST_DATE</th>\n      <th>HAS_MONTHLY_SUMMARY</th>\n      <th>HAS_NORMALS_DATA</th>\n      <th>HAS_HOURLY_DATA</th>\n      <th>COORDINATES</th>\n    </tr>\n  </thead>\n  <tbody>\n    <tr>\n      <th>0</th>\n      <td>5679</td>\n      <td>FIRE LAKE</td>\n      <td>QC</td>\n      <td>QUEBEC</td>\n      <td>QUÉBEC</td>\n      <td>CAN</td>\n      <td>52.2000</td>\n      <td>-67.2200</td>\n      <td>EST</td>\n      <td>609.6</td>\n      <td>...</td>\n      <td>NaN</td>\n      <td>NaN</td>\n      <td>1974-07-01 00:00:00</td>\n      <td>1974-08-31 00:00:00</td>\n      <td>1974-01-01 00:00:00</td>\n      <td>1974-12-01 00:00:00</td>\n      <td>Y</td>\n      <td>N</td>\n      <td>N</td>\n      <td>52.2,-67.22</td>\n    </tr>\n    <tr>\n      <th>1</th>\n      <td>5680</td>\n      <td>FORESTVILLE</td>\n      <td>QC</td>\n      <td>QUEBEC</td>\n      <td>QUÉBEC</td>\n      <td>CAN</td>\n      <td>48.4400</td>\n      <td>-69.0500</td>\n      <td>EST</td>\n      <td>76.2</td>\n      <td>...</td>\n      <td>NaN</td>\n      <td>NaN</td>\n      <td>1963-01-01 00:00:00</td>\n      <td>1996-10-31 00:00:00</td>\n      <td>1963-01-01 00:00:00</td>\n      <td>1996-10-01 00:00:00</td>\n      <td>Y</td>\n      <td>N</td>\n      <td>N</td>\n      <td>48.44,-69.05</td>\n    </tr>\n    <tr>\n      <th>2</th>\n      <td>5682</td>\n      <td>FORET MONTMORENCY</td>\n      <td>QC</td>\n      <td>QUEBEC</td>\n      <td>QUÉBEC</td>\n      <td>CAN</td>\n      <td>47.1900</td>\n      <td>-71.0900</td>\n      <td>EST</td>\n      <td>640.0</td>\n      <td>...</td>\n      <td>NaN</td>\n      <td>NaN</td>\n      <td>1965-07-01 00:00:00</td>\n      <td>2002-01-31 00:00:00</td>\n      <td>1965-01-01 00:00:00</td>\n      <td>2002-01-01 00:00:00</td>\n      <td>Y</td>\n      <td>N</td>\n      <td>N</td>\n      <td>47.19,-71.09</td>\n    </tr>\n    <tr>\n      <th>3</th>\n      <td>5687</td>\n      <td>GRANDES BERGERONNES</td>\n      <td>QC</td>\n      <td>QUEBEC</td>\n      <td>QUÉBEC</td>\n      <td>CAN</td>\n      <td>48.1500</td>\n      <td>-69.3100</td>\n      <td>EST</td>\n      <td>61.0</td>\n      <td>...</td>\n      <td>NaN</td>\n      <td>NaN</td>\n      <td>1951-08-01 00:00:00</td>\n      <td>2023-02-28 00:00:00</td>\n      <td>1951-01-01 00:00:00</td>\n      <td>2015-11-01 00:00:00</td>\n      <td>Y</td>\n      <td>Y</td>\n      <td>N</td>\n      <td>48.15,-69.31</td>\n    </tr>\n    <tr>\n      <th>4</th>\n      <td>5688</td>\n      <td>GRAND FONDS</td>\n      <td>QC</td>\n      <td>QUEBEC</td>\n      <td>QUÉBEC</td>\n      <td>CAN</td>\n      <td>47.4500</td>\n      <td>-70.0700</td>\n      <td>EST</td>\n      <td>365.8</td>\n      <td>...</td>\n      <td>NaN</td>\n      <td>NaN</td>\n      <td>1968-10-01 00:00:00</td>\n      <td>1991-05-31 00:00:00</td>\n      <td>1968-01-01 00:00:00</td>\n      <td>1991-11-01 00:00:00</td>\n      <td>Y</td>\n      <td>N</td>\n      <td>N</td>\n      <td>47.45,-70.07</td>\n    </tr>\n    <tr>\n      <th>...</th>\n      <td>...</td>\n      <td>...</td>\n      <td>...</td>\n      <td>...</td>\n      <td>...</td>\n      <td>...</td>\n      <td>...</td>\n      <td>...</td>\n      <td>...</td>\n      <td>...</td>\n      <td>...</td>\n      <td>...</td>\n      <td>...</td>\n      <td>...</td>\n      <td>...</td>\n      <td>...</td>\n      <td>...</td>\n      <td>...</td>\n      <td>...</td>\n      <td>...</td>\n      <td>...</td>\n    </tr>\n    <tr>\n      <th>8547</th>\n      <td>61</td>\n      <td>JAMES ISLAND</td>\n      <td>BC</td>\n      <td>BRITISH COLUMBIA</td>\n      <td>COLOMBIE-BRITANNIQUE</td>\n      <td>CAN</td>\n      <td>48.3600</td>\n      <td>-123.2100</td>\n      <td>PST</td>\n      <td>53.6</td>\n      <td>...</td>\n      <td>NaN</td>\n      <td>NaN</td>\n      <td>1914-02-01 00:00:00</td>\n      <td>1978-09-30 00:00:00</td>\n      <td>1914-01-01 00:00:00</td>\n      <td>1978-12-01 00:00:00</td>\n      <td>Y</td>\n      <td>N</td>\n      <td>N</td>\n      <td>48.36,-123.21</td>\n    </tr>\n    <tr>\n      <th>8548</th>\n      <td>78</td>\n      <td>SAANICHTON MT NEWTON</td>\n      <td>BC</td>\n      <td>BRITISH COLUMBIA</td>\n      <td>COLOMBIE-BRITANNIQUE</td>\n      <td>CAN</td>\n      <td>48.3551</td>\n      <td>-123.2538</td>\n      <td>PST</td>\n      <td>42.7</td>\n      <td>...</td>\n      <td>NaN</td>\n      <td>NaN</td>\n      <td>1980-08-01 00:00:00</td>\n      <td>2024-07-12 00:00:00</td>\n      <td>1980-01-01 00:00:00</td>\n      <td>2007-02-01 00:00:00</td>\n      <td>Y</td>\n      <td>Y</td>\n      <td>N</td>\n      <td>48.3551,-123.2538</td>\n    </tr>\n    <tr>\n      <th>8549</th>\n      <td>85</td>\n      <td>SAANICH DOM ASTRO OBS</td>\n      <td>BC</td>\n      <td>BRITISH COLUMBIA</td>\n      <td>COLOMBIE-BRITANNIQUE</td>\n      <td>CAN</td>\n      <td>48.3100</td>\n      <td>-123.2500</td>\n      <td>PST</td>\n      <td>222.5</td>\n      <td>...</td>\n      <td>NaN</td>\n      <td>NaN</td>\n      <td>1916-12-01 00:00:00</td>\n      <td>1977-06-30 00:00:00</td>\n      <td>1916-01-01 00:00:00</td>\n      <td>1977-12-01 00:00:00</td>\n      <td>Y</td>\n      <td>N</td>\n      <td>N</td>\n      <td>48.31,-123.25</td>\n    </tr>\n    <tr>\n      <th>8550</th>\n      <td>87</td>\n      <td>SAANICHTON CDA</td>\n      <td>BC</td>\n      <td>BRITISH COLUMBIA</td>\n      <td>COLOMBIE-BRITANNIQUE</td>\n      <td>CAN</td>\n      <td>48.3718</td>\n      <td>-123.2508</td>\n      <td>PST</td>\n      <td>61.0</td>\n      <td>...</td>\n      <td>NaN</td>\n      <td>NaN</td>\n      <td>1914-03-01 00:00:00</td>\n      <td>2023-02-09 00:00:00</td>\n      <td>1914-01-01 00:00:00</td>\n      <td>2007-02-01 00:00:00</td>\n      <td>Y</td>\n      <td>Y</td>\n      <td>N</td>\n      <td>48.3718,-123.2508</td>\n    </tr>\n    <tr>\n      <th>8551</th>\n      <td>92</td>\n      <td>SALTSPRING IS CUSHEON LK</td>\n      <td>BC</td>\n      <td>BRITISH COLUMBIA</td>\n      <td>COLOMBIE-BRITANNIQUE</td>\n      <td>CAN</td>\n      <td>48.4913</td>\n      <td>-123.2836</td>\n      <td>PST</td>\n      <td>107.9</td>\n      <td>...</td>\n      <td>NaN</td>\n      <td>NaN</td>\n      <td>1976-09-01 00:00:00</td>\n      <td>2001-03-31 00:00:00</td>\n      <td>1976-01-01 00:00:00</td>\n      <td>2001-03-01 00:00:00</td>\n      <td>Y</td>\n      <td>N</td>\n      <td>N</td>\n      <td>48.4913,-123.2836</td>\n    </tr>\n  </tbody>\n</table>\n<p>8552 rows × 33 columns</p>\n</div>"
     },
     "execution_count": 5,
     "metadata": {},
     "output_type": "execute_result"
    }
   ],
   "execution_count": 5
  },
  {
   "cell_type": "markdown",
   "source": [
    "Review data for stations that are at the same location"
   ],
   "metadata": {
    "collapsed": false
   }
  },
  {
   "cell_type": "code",
   "source": [
    "# Duplicates in location\n",
    "duplicates_df = stations_df[stations_df.duplicated(subset='COORDINATES', keep=False)]\n",
    "duplicates_df = duplicates_df[['STATION_NAME', 'PROV_STATE_TERR_CODE', 'LATITUDE', 'LONGITUDE', 'COORDINATES', 'FIRST_DATE', 'LAST_DATE', 'ELEVATION', 'CLIMATE_IDENTIFIER']]\n",
    "duplicates_df"
   ],
   "metadata": {
    "collapsed": false,
    "ExecuteTime": {
     "end_time": "2024-07-21T14:38:55.090319400Z",
     "start_time": "2024-07-21T14:38:55.077130400Z"
    }
   },
   "outputs": [
    {
     "data": {
      "text/plain": "                 STATION_NAME PROV_STATE_TERR_CODE  LATITUDE  LONGITUDE  \\\n5        HAVRE-SAINT-PIERRE A                   QC   50.1700   -63.3600   \n32       MURDOCHVILLE HOLLAND                   QC   48.5700   -65.3100   \n45          ETANG A LA TRUITE                   QC   48.4100   -66.4700   \n59              KIRKLAND LAKE                   ON   48.0900   -80.0000   \n64                  NEWMARKET                   ON   44.0400   -79.2600   \n...                       ...                  ...       ...        ...   \n8499                 TOFINO A                   BC   49.0456  -125.4621   \n8500                STEWART A                   BC   55.5600  -129.5900   \n8501             BLUE RIVER A                   BC   52.0729  -119.1734   \n8503  BLACKCOMB MOUNTAIN 1540                   BC   50.0600  -122.5500   \n8545   GALIANO ISL BURRILL PT                   BC   48.5200  -123.1900   \n\n            COORDINATES           FIRST_DATE            LAST_DATE  ELEVATION  \\\n5          50.17,-63.36  1983-12-01 00:00:00  2008-07-24 09:00:00       37.8   \n32         48.57,-65.31  1973-01-01 00:00:00  1974-12-01 00:00:00      624.8   \n45         48.41,-66.47  1982-01-01 00:00:00  1983-12-01 00:00:00      337.1   \n59          48.09,-80.0  1950-01-01 00:00:00  1996-12-31 00:00:00      324.0   \n64         44.04,-79.26  1871-01-01 00:00:00  1967-12-01 00:00:00      281.9   \n...                 ...                  ...                  ...        ...   \n8499  49.0456,-125.4621  2014-10-23 11:00:00  2024-07-15 12:30:02       24.4   \n8500      55.56,-129.59  2015-01-15 11:00:00  2024-07-15 12:30:02        7.3   \n8501  52.0729,-119.1734  2015-01-15 11:00:00  2024-07-15 12:30:02      690.4   \n8503      50.06,-122.55  1983-01-01 00:00:00  1994-12-01 00:00:00     1540.2   \n8545      48.52,-123.19  1970-01-01 00:00:00  1970-12-01 00:00:00        1.5   \n\n     CLIMATE_IDENTIFIER  \n5               7043018  \n32              705ECH0  \n45              7052C09  \n59              6074209  \n64              6155616  \n...                 ...  \n8499            1038210  \n8500            1067741  \n8501            1160898  \n8503            1100Q7Q  \n8545            10130DE  \n\n[898 rows x 9 columns]",
      "text/html": "<div>\n<style scoped>\n    .dataframe tbody tr th:only-of-type {\n        vertical-align: middle;\n    }\n\n    .dataframe tbody tr th {\n        vertical-align: top;\n    }\n\n    .dataframe thead th {\n        text-align: right;\n    }\n</style>\n<table border=\"1\" class=\"dataframe\">\n  <thead>\n    <tr style=\"text-align: right;\">\n      <th></th>\n      <th>STATION_NAME</th>\n      <th>PROV_STATE_TERR_CODE</th>\n      <th>LATITUDE</th>\n      <th>LONGITUDE</th>\n      <th>COORDINATES</th>\n      <th>FIRST_DATE</th>\n      <th>LAST_DATE</th>\n      <th>ELEVATION</th>\n      <th>CLIMATE_IDENTIFIER</th>\n    </tr>\n  </thead>\n  <tbody>\n    <tr>\n      <th>5</th>\n      <td>HAVRE-SAINT-PIERRE A</td>\n      <td>QC</td>\n      <td>50.1700</td>\n      <td>-63.3600</td>\n      <td>50.17,-63.36</td>\n      <td>1983-12-01 00:00:00</td>\n      <td>2008-07-24 09:00:00</td>\n      <td>37.8</td>\n      <td>7043018</td>\n    </tr>\n    <tr>\n      <th>32</th>\n      <td>MURDOCHVILLE HOLLAND</td>\n      <td>QC</td>\n      <td>48.5700</td>\n      <td>-65.3100</td>\n      <td>48.57,-65.31</td>\n      <td>1973-01-01 00:00:00</td>\n      <td>1974-12-01 00:00:00</td>\n      <td>624.8</td>\n      <td>705ECH0</td>\n    </tr>\n    <tr>\n      <th>45</th>\n      <td>ETANG A LA TRUITE</td>\n      <td>QC</td>\n      <td>48.4100</td>\n      <td>-66.4700</td>\n      <td>48.41,-66.47</td>\n      <td>1982-01-01 00:00:00</td>\n      <td>1983-12-01 00:00:00</td>\n      <td>337.1</td>\n      <td>7052C09</td>\n    </tr>\n    <tr>\n      <th>59</th>\n      <td>KIRKLAND LAKE</td>\n      <td>ON</td>\n      <td>48.0900</td>\n      <td>-80.0000</td>\n      <td>48.09,-80.0</td>\n      <td>1950-01-01 00:00:00</td>\n      <td>1996-12-31 00:00:00</td>\n      <td>324.0</td>\n      <td>6074209</td>\n    </tr>\n    <tr>\n      <th>64</th>\n      <td>NEWMARKET</td>\n      <td>ON</td>\n      <td>44.0400</td>\n      <td>-79.2600</td>\n      <td>44.04,-79.26</td>\n      <td>1871-01-01 00:00:00</td>\n      <td>1967-12-01 00:00:00</td>\n      <td>281.9</td>\n      <td>6155616</td>\n    </tr>\n    <tr>\n      <th>...</th>\n      <td>...</td>\n      <td>...</td>\n      <td>...</td>\n      <td>...</td>\n      <td>...</td>\n      <td>...</td>\n      <td>...</td>\n      <td>...</td>\n      <td>...</td>\n    </tr>\n    <tr>\n      <th>8499</th>\n      <td>TOFINO A</td>\n      <td>BC</td>\n      <td>49.0456</td>\n      <td>-125.4621</td>\n      <td>49.0456,-125.4621</td>\n      <td>2014-10-23 11:00:00</td>\n      <td>2024-07-15 12:30:02</td>\n      <td>24.4</td>\n      <td>1038210</td>\n    </tr>\n    <tr>\n      <th>8500</th>\n      <td>STEWART A</td>\n      <td>BC</td>\n      <td>55.5600</td>\n      <td>-129.5900</td>\n      <td>55.56,-129.59</td>\n      <td>2015-01-15 11:00:00</td>\n      <td>2024-07-15 12:30:02</td>\n      <td>7.3</td>\n      <td>1067741</td>\n    </tr>\n    <tr>\n      <th>8501</th>\n      <td>BLUE RIVER A</td>\n      <td>BC</td>\n      <td>52.0729</td>\n      <td>-119.1734</td>\n      <td>52.0729,-119.1734</td>\n      <td>2015-01-15 11:00:00</td>\n      <td>2024-07-15 12:30:02</td>\n      <td>690.4</td>\n      <td>1160898</td>\n    </tr>\n    <tr>\n      <th>8503</th>\n      <td>BLACKCOMB MOUNTAIN 1540</td>\n      <td>BC</td>\n      <td>50.0600</td>\n      <td>-122.5500</td>\n      <td>50.06,-122.55</td>\n      <td>1983-01-01 00:00:00</td>\n      <td>1994-12-01 00:00:00</td>\n      <td>1540.2</td>\n      <td>1100Q7Q</td>\n    </tr>\n    <tr>\n      <th>8545</th>\n      <td>GALIANO ISL BURRILL PT</td>\n      <td>BC</td>\n      <td>48.5200</td>\n      <td>-123.1900</td>\n      <td>48.52,-123.19</td>\n      <td>1970-01-01 00:00:00</td>\n      <td>1970-12-01 00:00:00</td>\n      <td>1.5</td>\n      <td>10130DE</td>\n    </tr>\n  </tbody>\n</table>\n<p>898 rows × 9 columns</p>\n</div>"
     },
     "execution_count": 6,
     "metadata": {},
     "output_type": "execute_result"
    }
   ],
   "execution_count": 6
  },
  {
   "cell_type": "markdown",
   "source": [
    "Each wildfire can only be associated to a single station. We want to sort the stations by the latest date, and only keep the station with the most recent data for each coordinate point"
   ],
   "metadata": {
    "collapsed": false
   }
  },
  {
   "cell_type": "code",
   "source": [
    "# Convert LAST_DATE to date\n",
    "stations_df['LAST_DATE'] = pd.to_datetime(stations_df['LAST_DATE']).dt.date"
   ],
   "metadata": {
    "collapsed": false,
    "ExecuteTime": {
     "end_time": "2024-07-21T14:38:55.101014700Z",
     "start_time": "2024-07-21T14:38:55.089322400Z"
    }
   },
   "outputs": [],
   "execution_count": 7
  },
  {
   "cell_type": "code",
   "source": [
    "# Sort from earliest to latest\n",
    "stations_df = stations_df.sort_values(by='LAST_DATE')"
   ],
   "metadata": {
    "collapsed": false,
    "ExecuteTime": {
     "end_time": "2024-07-21T14:38:55.108542300Z",
     "start_time": "2024-07-21T14:38:55.102012900Z"
    }
   },
   "outputs": [],
   "execution_count": 8
  },
  {
   "cell_type": "code",
   "source": [
    "stations_df"
   ],
   "metadata": {
    "collapsed": false,
    "ExecuteTime": {
     "end_time": "2024-07-21T14:38:55.202263300Z",
     "start_time": "2024-07-21T14:38:55.108542300Z"
    }
   },
   "outputs": [
    {
     "data": {
      "text/plain": "      STN_ID         STATION_NAME PROV_STATE_TERR_CODE ENG_PROV_NAME  \\\n608     6776              FORTEAU                   NL  NEWFOUNDLAND   \n1456    4770              GRANTON                   ON       ONTARIO   \n6541    4253             CORNWALL                   ON       ONTARIO   \n6661    5344           CRANBOURNE                   QC        QUEBEC   \n6799    4788               LONDON                   ON       ONTARIO   \n...      ...                  ...                  ...           ...   \n7760   51077        CLYDE RIVER A                   NU       NUNAVUT   \n7759   50822  LA GRANDE RIVIERE A                   QC        QUEBEC   \n7758   50722          MUSKRAT DAM                   ON       ONTARIO   \n1357   50090      ROUYN-NORANDA A                   QC        QUEBEC   \n3565   53421      CORAL HARBOUR A                   NU       NUNAVUT   \n\n     FRE_PROV_NAME COUNTRY  LATITUDE  LONGITUDE TIMEZONE  ELEVATION  ...  \\\n608    TERRE-NEUVE     CAN   51.2800   -56.5800      NST        NaN  ...   \n1456       ONTARIO     CAN   43.1200   -81.2000      EST      315.5  ...   \n6541       ONTARIO     CAN   45.0100   -74.4400      EST       53.3  ...   \n6661        QUÉBEC     CAN   46.2300   -70.4200      EST        NaN  ...   \n6799       ONTARIO     CAN   42.5900   -81.1200      EST      246.3  ...   \n...            ...     ...       ...        ...      ...        ...  ...   \n7760       NUNAVUT     CAN   70.2909   -68.3101      EST       26.5  ...   \n7759        QUÉBEC     CAN   53.3731   -77.4215      EST      194.8  ...   \n7758       ONTARIO     CAN   53.2629   -91.4546      EST      277.7  ...   \n1357        QUÉBEC     CAN   48.1222   -78.5008      EST      301.1  ...   \n3565       NUNAVUT     CAN   64.1136   -83.2134      EST       62.2  ...   \n\n           HLY_FIRST_DATE        HLY_LAST_DATE       DLY_FIRST_DATE  \\\n608                   NaN                  NaN  1871-09-01 00:00:00   \n1456                  NaN                  NaN  1873-01-01 00:00:00   \n6541                  NaN                  NaN  1867-01-01 00:00:00   \n6661                  NaN                  NaN  1875-07-01 00:00:00   \n6799                  NaN                  NaN  1871-11-01 00:00:00   \n...                   ...                  ...                  ...   \n7760  2013-01-10 11:00:00  2024-07-15 12:30:02  2013-01-10 00:00:00   \n7759  2012-11-08 10:00:00  2024-07-15 12:30:02  2012-11-08 00:00:00   \n7758  2012-11-13 10:00:00  2024-07-15 12:30:02  2012-11-15 00:00:00   \n1357  2012-12-03 12:00:00  2024-07-15 12:30:02  2018-10-30 00:00:00   \n3565  2015-05-05 11:00:00  2024-07-15 12:30:02  2015-03-05 00:00:00   \n\n            DLY_LAST_DATE       MLY_FIRST_DATE        MLY_LAST_DATE  \\\n608   1878-09-30 00:00:00  1871-01-01 00:00:00  1878-12-01 00:00:00   \n1456  1886-12-31 00:00:00  1873-01-01 00:00:00  1886-12-01 00:00:00   \n6541  1887-12-31 00:00:00  1867-01-01 00:00:00  1887-12-01 00:00:00   \n6661  1890-11-30 00:00:00  1875-01-01 00:00:00  1890-12-01 00:00:00   \n6799  1891-12-31 00:00:00  1871-01-01 00:00:00  1891-12-01 00:00:00   \n...                   ...                  ...                  ...   \n7760  2024-07-15 00:00:00                  NaN                  NaN   \n7759  2024-07-15 00:00:00                  NaN                  NaN   \n7758  2024-07-15 00:00:00                  NaN                  NaN   \n1357  2024-07-15 00:00:00                  NaN                  NaN   \n3565  2024-07-15 00:00:00                  NaN                  NaN   \n\n      HAS_MONTHLY_SUMMARY HAS_NORMALS_DATA HAS_HOURLY_DATA       COORDINATES  \n608                     Y                N               N      51.28,-56.58  \n1456                    Y                N               N       43.12,-81.2  \n6541                    Y                N               N      45.01,-74.44  \n6661                    Y                N               N      46.23,-70.42  \n6799                    Y                N               N      42.59,-81.12  \n...                   ...              ...             ...               ...  \n7760                    Y                N               Y  70.2909,-68.3101  \n7759                    Y                N               Y  53.3731,-77.4215  \n7758                    Y                N               N  53.2629,-91.4546  \n1357                    Y                N               Y  48.1222,-78.5008  \n3565                    Y                N               Y  64.1136,-83.2134  \n\n[8552 rows x 33 columns]",
      "text/html": "<div>\n<style scoped>\n    .dataframe tbody tr th:only-of-type {\n        vertical-align: middle;\n    }\n\n    .dataframe tbody tr th {\n        vertical-align: top;\n    }\n\n    .dataframe thead th {\n        text-align: right;\n    }\n</style>\n<table border=\"1\" class=\"dataframe\">\n  <thead>\n    <tr style=\"text-align: right;\">\n      <th></th>\n      <th>STN_ID</th>\n      <th>STATION_NAME</th>\n      <th>PROV_STATE_TERR_CODE</th>\n      <th>ENG_PROV_NAME</th>\n      <th>FRE_PROV_NAME</th>\n      <th>COUNTRY</th>\n      <th>LATITUDE</th>\n      <th>LONGITUDE</th>\n      <th>TIMEZONE</th>\n      <th>ELEVATION</th>\n      <th>...</th>\n      <th>HLY_FIRST_DATE</th>\n      <th>HLY_LAST_DATE</th>\n      <th>DLY_FIRST_DATE</th>\n      <th>DLY_LAST_DATE</th>\n      <th>MLY_FIRST_DATE</th>\n      <th>MLY_LAST_DATE</th>\n      <th>HAS_MONTHLY_SUMMARY</th>\n      <th>HAS_NORMALS_DATA</th>\n      <th>HAS_HOURLY_DATA</th>\n      <th>COORDINATES</th>\n    </tr>\n  </thead>\n  <tbody>\n    <tr>\n      <th>608</th>\n      <td>6776</td>\n      <td>FORTEAU</td>\n      <td>NL</td>\n      <td>NEWFOUNDLAND</td>\n      <td>TERRE-NEUVE</td>\n      <td>CAN</td>\n      <td>51.2800</td>\n      <td>-56.5800</td>\n      <td>NST</td>\n      <td>NaN</td>\n      <td>...</td>\n      <td>NaN</td>\n      <td>NaN</td>\n      <td>1871-09-01 00:00:00</td>\n      <td>1878-09-30 00:00:00</td>\n      <td>1871-01-01 00:00:00</td>\n      <td>1878-12-01 00:00:00</td>\n      <td>Y</td>\n      <td>N</td>\n      <td>N</td>\n      <td>51.28,-56.58</td>\n    </tr>\n    <tr>\n      <th>1456</th>\n      <td>4770</td>\n      <td>GRANTON</td>\n      <td>ON</td>\n      <td>ONTARIO</td>\n      <td>ONTARIO</td>\n      <td>CAN</td>\n      <td>43.1200</td>\n      <td>-81.2000</td>\n      <td>EST</td>\n      <td>315.5</td>\n      <td>...</td>\n      <td>NaN</td>\n      <td>NaN</td>\n      <td>1873-01-01 00:00:00</td>\n      <td>1886-12-31 00:00:00</td>\n      <td>1873-01-01 00:00:00</td>\n      <td>1886-12-01 00:00:00</td>\n      <td>Y</td>\n      <td>N</td>\n      <td>N</td>\n      <td>43.12,-81.2</td>\n    </tr>\n    <tr>\n      <th>6541</th>\n      <td>4253</td>\n      <td>CORNWALL</td>\n      <td>ON</td>\n      <td>ONTARIO</td>\n      <td>ONTARIO</td>\n      <td>CAN</td>\n      <td>45.0100</td>\n      <td>-74.4400</td>\n      <td>EST</td>\n      <td>53.3</td>\n      <td>...</td>\n      <td>NaN</td>\n      <td>NaN</td>\n      <td>1867-01-01 00:00:00</td>\n      <td>1887-12-31 00:00:00</td>\n      <td>1867-01-01 00:00:00</td>\n      <td>1887-12-01 00:00:00</td>\n      <td>Y</td>\n      <td>N</td>\n      <td>N</td>\n      <td>45.01,-74.44</td>\n    </tr>\n    <tr>\n      <th>6661</th>\n      <td>5344</td>\n      <td>CRANBOURNE</td>\n      <td>QC</td>\n      <td>QUEBEC</td>\n      <td>QUÉBEC</td>\n      <td>CAN</td>\n      <td>46.2300</td>\n      <td>-70.4200</td>\n      <td>EST</td>\n      <td>NaN</td>\n      <td>...</td>\n      <td>NaN</td>\n      <td>NaN</td>\n      <td>1875-07-01 00:00:00</td>\n      <td>1890-11-30 00:00:00</td>\n      <td>1875-01-01 00:00:00</td>\n      <td>1890-12-01 00:00:00</td>\n      <td>Y</td>\n      <td>N</td>\n      <td>N</td>\n      <td>46.23,-70.42</td>\n    </tr>\n    <tr>\n      <th>6799</th>\n      <td>4788</td>\n      <td>LONDON</td>\n      <td>ON</td>\n      <td>ONTARIO</td>\n      <td>ONTARIO</td>\n      <td>CAN</td>\n      <td>42.5900</td>\n      <td>-81.1200</td>\n      <td>EST</td>\n      <td>246.3</td>\n      <td>...</td>\n      <td>NaN</td>\n      <td>NaN</td>\n      <td>1871-11-01 00:00:00</td>\n      <td>1891-12-31 00:00:00</td>\n      <td>1871-01-01 00:00:00</td>\n      <td>1891-12-01 00:00:00</td>\n      <td>Y</td>\n      <td>N</td>\n      <td>N</td>\n      <td>42.59,-81.12</td>\n    </tr>\n    <tr>\n      <th>...</th>\n      <td>...</td>\n      <td>...</td>\n      <td>...</td>\n      <td>...</td>\n      <td>...</td>\n      <td>...</td>\n      <td>...</td>\n      <td>...</td>\n      <td>...</td>\n      <td>...</td>\n      <td>...</td>\n      <td>...</td>\n      <td>...</td>\n      <td>...</td>\n      <td>...</td>\n      <td>...</td>\n      <td>...</td>\n      <td>...</td>\n      <td>...</td>\n      <td>...</td>\n      <td>...</td>\n    </tr>\n    <tr>\n      <th>7760</th>\n      <td>51077</td>\n      <td>CLYDE RIVER A</td>\n      <td>NU</td>\n      <td>NUNAVUT</td>\n      <td>NUNAVUT</td>\n      <td>CAN</td>\n      <td>70.2909</td>\n      <td>-68.3101</td>\n      <td>EST</td>\n      <td>26.5</td>\n      <td>...</td>\n      <td>2013-01-10 11:00:00</td>\n      <td>2024-07-15 12:30:02</td>\n      <td>2013-01-10 00:00:00</td>\n      <td>2024-07-15 00:00:00</td>\n      <td>NaN</td>\n      <td>NaN</td>\n      <td>Y</td>\n      <td>N</td>\n      <td>Y</td>\n      <td>70.2909,-68.3101</td>\n    </tr>\n    <tr>\n      <th>7759</th>\n      <td>50822</td>\n      <td>LA GRANDE RIVIERE A</td>\n      <td>QC</td>\n      <td>QUEBEC</td>\n      <td>QUÉBEC</td>\n      <td>CAN</td>\n      <td>53.3731</td>\n      <td>-77.4215</td>\n      <td>EST</td>\n      <td>194.8</td>\n      <td>...</td>\n      <td>2012-11-08 10:00:00</td>\n      <td>2024-07-15 12:30:02</td>\n      <td>2012-11-08 00:00:00</td>\n      <td>2024-07-15 00:00:00</td>\n      <td>NaN</td>\n      <td>NaN</td>\n      <td>Y</td>\n      <td>N</td>\n      <td>Y</td>\n      <td>53.3731,-77.4215</td>\n    </tr>\n    <tr>\n      <th>7758</th>\n      <td>50722</td>\n      <td>MUSKRAT DAM</td>\n      <td>ON</td>\n      <td>ONTARIO</td>\n      <td>ONTARIO</td>\n      <td>CAN</td>\n      <td>53.2629</td>\n      <td>-91.4546</td>\n      <td>EST</td>\n      <td>277.7</td>\n      <td>...</td>\n      <td>2012-11-13 10:00:00</td>\n      <td>2024-07-15 12:30:02</td>\n      <td>2012-11-15 00:00:00</td>\n      <td>2024-07-15 00:00:00</td>\n      <td>NaN</td>\n      <td>NaN</td>\n      <td>Y</td>\n      <td>N</td>\n      <td>N</td>\n      <td>53.2629,-91.4546</td>\n    </tr>\n    <tr>\n      <th>1357</th>\n      <td>50090</td>\n      <td>ROUYN-NORANDA A</td>\n      <td>QC</td>\n      <td>QUEBEC</td>\n      <td>QUÉBEC</td>\n      <td>CAN</td>\n      <td>48.1222</td>\n      <td>-78.5008</td>\n      <td>EST</td>\n      <td>301.1</td>\n      <td>...</td>\n      <td>2012-12-03 12:00:00</td>\n      <td>2024-07-15 12:30:02</td>\n      <td>2018-10-30 00:00:00</td>\n      <td>2024-07-15 00:00:00</td>\n      <td>NaN</td>\n      <td>NaN</td>\n      <td>Y</td>\n      <td>N</td>\n      <td>Y</td>\n      <td>48.1222,-78.5008</td>\n    </tr>\n    <tr>\n      <th>3565</th>\n      <td>53421</td>\n      <td>CORAL HARBOUR A</td>\n      <td>NU</td>\n      <td>NUNAVUT</td>\n      <td>NUNAVUT</td>\n      <td>CAN</td>\n      <td>64.1136</td>\n      <td>-83.2134</td>\n      <td>EST</td>\n      <td>62.2</td>\n      <td>...</td>\n      <td>2015-05-05 11:00:00</td>\n      <td>2024-07-15 12:30:02</td>\n      <td>2015-03-05 00:00:00</td>\n      <td>2024-07-15 00:00:00</td>\n      <td>NaN</td>\n      <td>NaN</td>\n      <td>Y</td>\n      <td>N</td>\n      <td>Y</td>\n      <td>64.1136,-83.2134</td>\n    </tr>\n  </tbody>\n</table>\n<p>8552 rows × 33 columns</p>\n</div>"
     },
     "execution_count": 9,
     "metadata": {},
     "output_type": "execute_result"
    }
   ],
   "execution_count": 9
  },
  {
   "cell_type": "code",
   "source": [
    "# Unique coordinates only, keep only last occurrence of duplicated row (station with most recent data)\n",
    "unique_stations_df = stations_df.drop_duplicates(subset='COORDINATES', keep='last')"
   ],
   "metadata": {
    "collapsed": false,
    "ExecuteTime": {
     "end_time": "2024-07-21T14:38:55.225343700Z",
     "start_time": "2024-07-21T14:38:55.131435400Z"
    }
   },
   "outputs": [],
   "execution_count": 10
  },
  {
   "cell_type": "code",
   "source": [
    "# Drop useless columns\n",
    "unique_stations_df = unique_stations_df[['STATION_NAME', 'PROV_STATE_TERR_CODE', 'LATITUDE', 'LONGITUDE', 'ELEVATION']]\n",
    "unique_stations_df"
   ],
   "metadata": {
    "collapsed": false,
    "ExecuteTime": {
     "end_time": "2024-07-21T14:38:55.246287300Z",
     "start_time": "2024-07-21T14:38:55.136445400Z"
    }
   },
   "outputs": [
    {
     "data": {
      "text/plain": "             STATION_NAME PROV_STATE_TERR_CODE  LATITUDE  LONGITUDE  ELEVATION\n608               FORTEAU                   NL   51.2800   -56.5800        NaN\n1456              GRANTON                   ON   43.1200   -81.2000      315.5\n6541             CORNWALL                   ON   45.0100   -74.4400       53.3\n6661           CRANBOURNE                   QC   46.2300   -70.4200        NaN\n6799               LONDON                   ON   42.5900   -81.1200      246.3\n...                   ...                  ...       ...        ...        ...\n7760        CLYDE RIVER A                   NU   70.2909   -68.3101       26.5\n7759  LA GRANDE RIVIERE A                   QC   53.3731   -77.4215      194.8\n7758          MUSKRAT DAM                   ON   53.2629   -91.4546      277.7\n1357      ROUYN-NORANDA A                   QC   48.1222   -78.5008      301.1\n3565      CORAL HARBOUR A                   NU   64.1136   -83.2134       62.2\n\n[8069 rows x 5 columns]",
      "text/html": "<div>\n<style scoped>\n    .dataframe tbody tr th:only-of-type {\n        vertical-align: middle;\n    }\n\n    .dataframe tbody tr th {\n        vertical-align: top;\n    }\n\n    .dataframe thead th {\n        text-align: right;\n    }\n</style>\n<table border=\"1\" class=\"dataframe\">\n  <thead>\n    <tr style=\"text-align: right;\">\n      <th></th>\n      <th>STATION_NAME</th>\n      <th>PROV_STATE_TERR_CODE</th>\n      <th>LATITUDE</th>\n      <th>LONGITUDE</th>\n      <th>ELEVATION</th>\n    </tr>\n  </thead>\n  <tbody>\n    <tr>\n      <th>608</th>\n      <td>FORTEAU</td>\n      <td>NL</td>\n      <td>51.2800</td>\n      <td>-56.5800</td>\n      <td>NaN</td>\n    </tr>\n    <tr>\n      <th>1456</th>\n      <td>GRANTON</td>\n      <td>ON</td>\n      <td>43.1200</td>\n      <td>-81.2000</td>\n      <td>315.5</td>\n    </tr>\n    <tr>\n      <th>6541</th>\n      <td>CORNWALL</td>\n      <td>ON</td>\n      <td>45.0100</td>\n      <td>-74.4400</td>\n      <td>53.3</td>\n    </tr>\n    <tr>\n      <th>6661</th>\n      <td>CRANBOURNE</td>\n      <td>QC</td>\n      <td>46.2300</td>\n      <td>-70.4200</td>\n      <td>NaN</td>\n    </tr>\n    <tr>\n      <th>6799</th>\n      <td>LONDON</td>\n      <td>ON</td>\n      <td>42.5900</td>\n      <td>-81.1200</td>\n      <td>246.3</td>\n    </tr>\n    <tr>\n      <th>...</th>\n      <td>...</td>\n      <td>...</td>\n      <td>...</td>\n      <td>...</td>\n      <td>...</td>\n    </tr>\n    <tr>\n      <th>7760</th>\n      <td>CLYDE RIVER A</td>\n      <td>NU</td>\n      <td>70.2909</td>\n      <td>-68.3101</td>\n      <td>26.5</td>\n    </tr>\n    <tr>\n      <th>7759</th>\n      <td>LA GRANDE RIVIERE A</td>\n      <td>QC</td>\n      <td>53.3731</td>\n      <td>-77.4215</td>\n      <td>194.8</td>\n    </tr>\n    <tr>\n      <th>7758</th>\n      <td>MUSKRAT DAM</td>\n      <td>ON</td>\n      <td>53.2629</td>\n      <td>-91.4546</td>\n      <td>277.7</td>\n    </tr>\n    <tr>\n      <th>1357</th>\n      <td>ROUYN-NORANDA A</td>\n      <td>QC</td>\n      <td>48.1222</td>\n      <td>-78.5008</td>\n      <td>301.1</td>\n    </tr>\n    <tr>\n      <th>3565</th>\n      <td>CORAL HARBOUR A</td>\n      <td>NU</td>\n      <td>64.1136</td>\n      <td>-83.2134</td>\n      <td>62.2</td>\n    </tr>\n  </tbody>\n</table>\n<p>8069 rows × 5 columns</p>\n</div>"
     },
     "execution_count": 11,
     "metadata": {},
     "output_type": "execute_result"
    }
   ],
   "execution_count": 11
  },
  {
   "cell_type": "markdown",
   "source": [
    "## Preparing wildfire dataset"
   ],
   "metadata": {
    "collapsed": false
   }
  },
  {
   "cell_type": "code",
   "source": [
    "wildfire_df = pd.read_csv('2000-2021+2023-2024.csv')"
   ],
   "metadata": {
    "collapsed": false,
    "ExecuteTime": {
     "end_time": "2024-07-21T14:38:55.305164800Z",
     "start_time": "2024-07-21T14:38:55.144919400Z"
    }
   },
   "outputs": [],
   "execution_count": 12
  },
  {
   "cell_type": "code",
   "source": [
    "# Drop response type column\n",
    "wildfire_df.drop('response_type', axis=1, inplace=True)"
   ],
   "metadata": {
    "collapsed": false,
    "ExecuteTime": {
     "end_time": "2024-07-21T14:38:55.305164800Z",
     "start_time": "2024-07-21T14:38:55.226340600Z"
    }
   },
   "outputs": [],
   "execution_count": 13
  },
  {
   "cell_type": "code",
   "source": [
    "# Add new column fire_id which will keep track of unique fires after merging\n",
    "wildfire_df['fire_id'] = wildfire_df.index\n",
    "wildfire_df"
   ],
   "metadata": {
    "collapsed": false,
    "ExecuteTime": {
     "end_time": "2024-07-21T14:38:55.305164800Z",
     "start_time": "2024-07-21T14:38:55.235313200Z"
    }
   },
   "outputs": [
    {
     "data": {
      "text/plain": "       agency      lat       lon        date  hectares cause  fire_id\n0          BC  50.9050 -126.9292  2000-03-10      6.00     H        0\n1          BC  49.2971 -122.2321  2000-08-21      0.20     H        1\n2          BC  55.8000 -124.8167  2005-06-20      0.01     L        2\n3          BC  49.8770 -121.5730  2000-08-06      0.10     L        3\n4          BC  49.0667 -121.8333  2000-07-28      0.10     H        4\n...       ...      ...       ...         ...       ...   ...      ...\n148756     AK  65.0282 -141.2460  2024-05-15      0.00   NaN   148756\n148757     BC  55.9370 -121.9170  2024-05-12    295.00   NaN   148757\n148758     PC  60.2150 -112.8720  2024-04-26      0.10   NaN   148758\n148759     PC  60.1950 -112.7960  2024-04-26      0.10   NaN   148759\n148760     NT  60.3920 -117.8960  2024-05-05      3.00   NaN   148760\n\n[148761 rows x 7 columns]",
      "text/html": "<div>\n<style scoped>\n    .dataframe tbody tr th:only-of-type {\n        vertical-align: middle;\n    }\n\n    .dataframe tbody tr th {\n        vertical-align: top;\n    }\n\n    .dataframe thead th {\n        text-align: right;\n    }\n</style>\n<table border=\"1\" class=\"dataframe\">\n  <thead>\n    <tr style=\"text-align: right;\">\n      <th></th>\n      <th>agency</th>\n      <th>lat</th>\n      <th>lon</th>\n      <th>date</th>\n      <th>hectares</th>\n      <th>cause</th>\n      <th>fire_id</th>\n    </tr>\n  </thead>\n  <tbody>\n    <tr>\n      <th>0</th>\n      <td>BC</td>\n      <td>50.9050</td>\n      <td>-126.9292</td>\n      <td>2000-03-10</td>\n      <td>6.00</td>\n      <td>H</td>\n      <td>0</td>\n    </tr>\n    <tr>\n      <th>1</th>\n      <td>BC</td>\n      <td>49.2971</td>\n      <td>-122.2321</td>\n      <td>2000-08-21</td>\n      <td>0.20</td>\n      <td>H</td>\n      <td>1</td>\n    </tr>\n    <tr>\n      <th>2</th>\n      <td>BC</td>\n      <td>55.8000</td>\n      <td>-124.8167</td>\n      <td>2005-06-20</td>\n      <td>0.01</td>\n      <td>L</td>\n      <td>2</td>\n    </tr>\n    <tr>\n      <th>3</th>\n      <td>BC</td>\n      <td>49.8770</td>\n      <td>-121.5730</td>\n      <td>2000-08-06</td>\n      <td>0.10</td>\n      <td>L</td>\n      <td>3</td>\n    </tr>\n    <tr>\n      <th>4</th>\n      <td>BC</td>\n      <td>49.0667</td>\n      <td>-121.8333</td>\n      <td>2000-07-28</td>\n      <td>0.10</td>\n      <td>H</td>\n      <td>4</td>\n    </tr>\n    <tr>\n      <th>...</th>\n      <td>...</td>\n      <td>...</td>\n      <td>...</td>\n      <td>...</td>\n      <td>...</td>\n      <td>...</td>\n      <td>...</td>\n    </tr>\n    <tr>\n      <th>148756</th>\n      <td>AK</td>\n      <td>65.0282</td>\n      <td>-141.2460</td>\n      <td>2024-05-15</td>\n      <td>0.00</td>\n      <td>NaN</td>\n      <td>148756</td>\n    </tr>\n    <tr>\n      <th>148757</th>\n      <td>BC</td>\n      <td>55.9370</td>\n      <td>-121.9170</td>\n      <td>2024-05-12</td>\n      <td>295.00</td>\n      <td>NaN</td>\n      <td>148757</td>\n    </tr>\n    <tr>\n      <th>148758</th>\n      <td>PC</td>\n      <td>60.2150</td>\n      <td>-112.8720</td>\n      <td>2024-04-26</td>\n      <td>0.10</td>\n      <td>NaN</td>\n      <td>148758</td>\n    </tr>\n    <tr>\n      <th>148759</th>\n      <td>PC</td>\n      <td>60.1950</td>\n      <td>-112.7960</td>\n      <td>2024-04-26</td>\n      <td>0.10</td>\n      <td>NaN</td>\n      <td>148759</td>\n    </tr>\n    <tr>\n      <th>148760</th>\n      <td>NT</td>\n      <td>60.3920</td>\n      <td>-117.8960</td>\n      <td>2024-05-05</td>\n      <td>3.00</td>\n      <td>NaN</td>\n      <td>148760</td>\n    </tr>\n  </tbody>\n</table>\n<p>148761 rows × 7 columns</p>\n</div>"
     },
     "execution_count": 14,
     "metadata": {},
     "output_type": "execute_result"
    }
   ],
   "execution_count": 14
  },
  {
   "cell_type": "code",
   "source": [
    "wildfire_df"
   ],
   "metadata": {
    "collapsed": false,
    "ExecuteTime": {
     "end_time": "2024-07-21T14:38:55.306162800Z",
     "start_time": "2024-07-21T14:38:55.243193500Z"
    }
   },
   "outputs": [
    {
     "data": {
      "text/plain": "       agency      lat       lon        date  hectares cause  fire_id\n0          BC  50.9050 -126.9292  2000-03-10      6.00     H        0\n1          BC  49.2971 -122.2321  2000-08-21      0.20     H        1\n2          BC  55.8000 -124.8167  2005-06-20      0.01     L        2\n3          BC  49.8770 -121.5730  2000-08-06      0.10     L        3\n4          BC  49.0667 -121.8333  2000-07-28      0.10     H        4\n...       ...      ...       ...         ...       ...   ...      ...\n148756     AK  65.0282 -141.2460  2024-05-15      0.00   NaN   148756\n148757     BC  55.9370 -121.9170  2024-05-12    295.00   NaN   148757\n148758     PC  60.2150 -112.8720  2024-04-26      0.10   NaN   148758\n148759     PC  60.1950 -112.7960  2024-04-26      0.10   NaN   148759\n148760     NT  60.3920 -117.8960  2024-05-05      3.00   NaN   148760\n\n[148761 rows x 7 columns]",
      "text/html": "<div>\n<style scoped>\n    .dataframe tbody tr th:only-of-type {\n        vertical-align: middle;\n    }\n\n    .dataframe tbody tr th {\n        vertical-align: top;\n    }\n\n    .dataframe thead th {\n        text-align: right;\n    }\n</style>\n<table border=\"1\" class=\"dataframe\">\n  <thead>\n    <tr style=\"text-align: right;\">\n      <th></th>\n      <th>agency</th>\n      <th>lat</th>\n      <th>lon</th>\n      <th>date</th>\n      <th>hectares</th>\n      <th>cause</th>\n      <th>fire_id</th>\n    </tr>\n  </thead>\n  <tbody>\n    <tr>\n      <th>0</th>\n      <td>BC</td>\n      <td>50.9050</td>\n      <td>-126.9292</td>\n      <td>2000-03-10</td>\n      <td>6.00</td>\n      <td>H</td>\n      <td>0</td>\n    </tr>\n    <tr>\n      <th>1</th>\n      <td>BC</td>\n      <td>49.2971</td>\n      <td>-122.2321</td>\n      <td>2000-08-21</td>\n      <td>0.20</td>\n      <td>H</td>\n      <td>1</td>\n    </tr>\n    <tr>\n      <th>2</th>\n      <td>BC</td>\n      <td>55.8000</td>\n      <td>-124.8167</td>\n      <td>2005-06-20</td>\n      <td>0.01</td>\n      <td>L</td>\n      <td>2</td>\n    </tr>\n    <tr>\n      <th>3</th>\n      <td>BC</td>\n      <td>49.8770</td>\n      <td>-121.5730</td>\n      <td>2000-08-06</td>\n      <td>0.10</td>\n      <td>L</td>\n      <td>3</td>\n    </tr>\n    <tr>\n      <th>4</th>\n      <td>BC</td>\n      <td>49.0667</td>\n      <td>-121.8333</td>\n      <td>2000-07-28</td>\n      <td>0.10</td>\n      <td>H</td>\n      <td>4</td>\n    </tr>\n    <tr>\n      <th>...</th>\n      <td>...</td>\n      <td>...</td>\n      <td>...</td>\n      <td>...</td>\n      <td>...</td>\n      <td>...</td>\n      <td>...</td>\n    </tr>\n    <tr>\n      <th>148756</th>\n      <td>AK</td>\n      <td>65.0282</td>\n      <td>-141.2460</td>\n      <td>2024-05-15</td>\n      <td>0.00</td>\n      <td>NaN</td>\n      <td>148756</td>\n    </tr>\n    <tr>\n      <th>148757</th>\n      <td>BC</td>\n      <td>55.9370</td>\n      <td>-121.9170</td>\n      <td>2024-05-12</td>\n      <td>295.00</td>\n      <td>NaN</td>\n      <td>148757</td>\n    </tr>\n    <tr>\n      <th>148758</th>\n      <td>PC</td>\n      <td>60.2150</td>\n      <td>-112.8720</td>\n      <td>2024-04-26</td>\n      <td>0.10</td>\n      <td>NaN</td>\n      <td>148758</td>\n    </tr>\n    <tr>\n      <th>148759</th>\n      <td>PC</td>\n      <td>60.1950</td>\n      <td>-112.7960</td>\n      <td>2024-04-26</td>\n      <td>0.10</td>\n      <td>NaN</td>\n      <td>148759</td>\n    </tr>\n    <tr>\n      <th>148760</th>\n      <td>NT</td>\n      <td>60.3920</td>\n      <td>-117.8960</td>\n      <td>2024-05-05</td>\n      <td>3.00</td>\n      <td>NaN</td>\n      <td>148760</td>\n    </tr>\n  </tbody>\n</table>\n<p>148761 rows × 7 columns</p>\n</div>"
     },
     "execution_count": 15,
     "metadata": {},
     "output_type": "execute_result"
    }
   ],
   "execution_count": 15
  },
  {
   "cell_type": "code",
   "source": [
    "# Merging datasets takes too much memory, so chunk down the task in 3\n",
    "# small_wildfire_df = wildfire_df[:50000]\n",
    "# small_wildfire_df = wildfire_df[50000:100000]\n",
    "small_wildfire_df = wildfire_df[100000:]"
   ],
   "metadata": {
    "collapsed": false,
    "ExecuteTime": {
     "end_time": "2024-07-21T14:38:55.306162800Z",
     "start_time": "2024-07-21T14:38:55.256367Z"
    }
   },
   "outputs": [],
   "execution_count": 16
  },
  {
   "cell_type": "code",
   "source": [
    "# Reorganize columns and drop cause\n",
    "small_wildfire_df = small_wildfire_df[['fire_id', 'lat', 'lon', 'date', 'hectares']]\n",
    "small_wildfire_df"
   ],
   "metadata": {
    "collapsed": false,
    "ExecuteTime": {
     "end_time": "2024-07-21T14:38:55.306162800Z",
     "start_time": "2024-07-21T14:38:55.256367Z"
    }
   },
   "outputs": [
    {
     "data": {
      "text/plain": "       fire_id        lat         lon        date  hectares\n0            0  50.905000 -126.929200  2000-03-10      6.00\n1            1  49.297100 -122.232100  2000-08-21      0.20\n2            2  55.800000 -124.816700  2005-06-20      0.01\n3            3  49.877000 -121.573000  2000-08-06      0.10\n4            4  49.066700 -121.833300  2000-07-28      0.10\n...        ...        ...         ...         ...       ...\n49995    49995  52.984067 -115.528783  2013-07-04      0.01\n49996    49996  52.917845 -115.339839  2013-08-18      0.01\n49997    49997  52.888741 -114.964868  2013-08-21      0.90\n49998    49998  52.352750 -114.973983  2013-09-04      0.01\n49999    49999  52.399467 -114.969800  2013-09-23      0.01\n\n[50000 rows x 5 columns]",
      "text/html": "<div>\n<style scoped>\n    .dataframe tbody tr th:only-of-type {\n        vertical-align: middle;\n    }\n\n    .dataframe tbody tr th {\n        vertical-align: top;\n    }\n\n    .dataframe thead th {\n        text-align: right;\n    }\n</style>\n<table border=\"1\" class=\"dataframe\">\n  <thead>\n    <tr style=\"text-align: right;\">\n      <th></th>\n      <th>fire_id</th>\n      <th>lat</th>\n      <th>lon</th>\n      <th>date</th>\n      <th>hectares</th>\n    </tr>\n  </thead>\n  <tbody>\n    <tr>\n      <th>0</th>\n      <td>0</td>\n      <td>50.905000</td>\n      <td>-126.929200</td>\n      <td>2000-03-10</td>\n      <td>6.00</td>\n    </tr>\n    <tr>\n      <th>1</th>\n      <td>1</td>\n      <td>49.297100</td>\n      <td>-122.232100</td>\n      <td>2000-08-21</td>\n      <td>0.20</td>\n    </tr>\n    <tr>\n      <th>2</th>\n      <td>2</td>\n      <td>55.800000</td>\n      <td>-124.816700</td>\n      <td>2005-06-20</td>\n      <td>0.01</td>\n    </tr>\n    <tr>\n      <th>3</th>\n      <td>3</td>\n      <td>49.877000</td>\n      <td>-121.573000</td>\n      <td>2000-08-06</td>\n      <td>0.10</td>\n    </tr>\n    <tr>\n      <th>4</th>\n      <td>4</td>\n      <td>49.066700</td>\n      <td>-121.833300</td>\n      <td>2000-07-28</td>\n      <td>0.10</td>\n    </tr>\n    <tr>\n      <th>...</th>\n      <td>...</td>\n      <td>...</td>\n      <td>...</td>\n      <td>...</td>\n      <td>...</td>\n    </tr>\n    <tr>\n      <th>49995</th>\n      <td>49995</td>\n      <td>52.984067</td>\n      <td>-115.528783</td>\n      <td>2013-07-04</td>\n      <td>0.01</td>\n    </tr>\n    <tr>\n      <th>49996</th>\n      <td>49996</td>\n      <td>52.917845</td>\n      <td>-115.339839</td>\n      <td>2013-08-18</td>\n      <td>0.01</td>\n    </tr>\n    <tr>\n      <th>49997</th>\n      <td>49997</td>\n      <td>52.888741</td>\n      <td>-114.964868</td>\n      <td>2013-08-21</td>\n      <td>0.90</td>\n    </tr>\n    <tr>\n      <th>49998</th>\n      <td>49998</td>\n      <td>52.352750</td>\n      <td>-114.973983</td>\n      <td>2013-09-04</td>\n      <td>0.01</td>\n    </tr>\n    <tr>\n      <th>49999</th>\n      <td>49999</td>\n      <td>52.399467</td>\n      <td>-114.969800</td>\n      <td>2013-09-23</td>\n      <td>0.01</td>\n    </tr>\n  </tbody>\n</table>\n<p>50000 rows × 5 columns</p>\n</div>"
     },
     "execution_count": 17,
     "metadata": {},
     "output_type": "execute_result"
    }
   ],
   "execution_count": 17
  },
  {
   "cell_type": "markdown",
   "source": [
    "## Haversine distance"
   ],
   "metadata": {
    "collapsed": false
   }
  },
  {
   "cell_type": "code",
   "source": [
    "# Haversine formula\n",
    "def haversine(lon1, lat1, lon2, lat2):\n",
    "    diff_lat = lat2 - lat1\n",
    "    diff_lon = lon2 - lon1\n",
    "\n",
    "    haver = np.sin(diff_lat/2.0) ** 2 + np.cos(lat1) * np.cos(lat2) * np.sin(diff_lon / 2.0) ** 2\n",
    "    dist = 2 * np.arcsin(np.sqrt(haver))\n",
    "    \n",
    "    # Distance in km\n",
    "    return 6367 * dist"
   ],
   "metadata": {
    "collapsed": false,
    "ExecuteTime": {
     "end_time": "2024-07-21T14:38:55.306162800Z",
     "start_time": "2024-07-21T14:38:55.265667100Z"
    }
   },
   "outputs": [],
   "execution_count": 18
  },
  {
   "cell_type": "code",
   "source": [
    "# Cross-joining wildfires\n",
    "df = small_wildfire_df.merge(unique_stations_df, how='cross')"
   ],
   "metadata": {
    "collapsed": false,
    "ExecuteTime": {
     "end_time": "2024-07-21T14:41:17.725403100Z",
     "start_time": "2024-07-21T14:38:55.269001800Z"
    }
   },
   "outputs": [],
   "execution_count": 19
  },
  {
   "cell_type": "code",
   "source": [
    "df"
   ],
   "metadata": {
    "collapsed": false,
    "ExecuteTime": {
     "end_time": "2024-07-21T14:41:17.766005800Z",
     "start_time": "2024-07-21T14:41:17.741647300Z"
    }
   },
   "outputs": [
    {
     "data": {
      "text/plain": "           fire_id        lat       lon        date  hectares  \\\n0                0  50.905000 -126.9292  2000-03-10      6.00   \n1                0  50.905000 -126.9292  2000-03-10      6.00   \n2                0  50.905000 -126.9292  2000-03-10      6.00   \n3                0  50.905000 -126.9292  2000-03-10      6.00   \n4                0  50.905000 -126.9292  2000-03-10      6.00   \n...            ...        ...       ...         ...       ...   \n403449995    49999  52.399467 -114.9698  2013-09-23      0.01   \n403449996    49999  52.399467 -114.9698  2013-09-23      0.01   \n403449997    49999  52.399467 -114.9698  2013-09-23      0.01   \n403449998    49999  52.399467 -114.9698  2013-09-23      0.01   \n403449999    49999  52.399467 -114.9698  2013-09-23      0.01   \n\n                  STATION_NAME PROV_STATE_TERR_CODE  LATITUDE  LONGITUDE  \\\n0                      FORTEAU                   NL   51.2800   -56.5800   \n1                      GRANTON                   ON   43.1200   -81.2000   \n2                     CORNWALL                   ON   45.0100   -74.4400   \n3                   CRANBOURNE                   QC   46.2300   -70.4200   \n4                       LONDON                   ON   42.5900   -81.1200   \n...                        ...                  ...       ...        ...   \n403449995        CLYDE RIVER A                   NU   70.2909   -68.3101   \n403449996  LA GRANDE RIVIERE A                   QC   53.3731   -77.4215   \n403449997          MUSKRAT DAM                   ON   53.2629   -91.4546   \n403449998      ROUYN-NORANDA A                   QC   48.1222   -78.5008   \n403449999      CORAL HARBOUR A                   NU   64.1136   -83.2134   \n\n           ELEVATION  \n0                NaN  \n1              315.5  \n2               53.3  \n3                NaN  \n4              246.3  \n...              ...  \n403449995       26.5  \n403449996      194.8  \n403449997      277.7  \n403449998      301.1  \n403449999       62.2  \n\n[403450000 rows x 10 columns]",
      "text/html": "<div>\n<style scoped>\n    .dataframe tbody tr th:only-of-type {\n        vertical-align: middle;\n    }\n\n    .dataframe tbody tr th {\n        vertical-align: top;\n    }\n\n    .dataframe thead th {\n        text-align: right;\n    }\n</style>\n<table border=\"1\" class=\"dataframe\">\n  <thead>\n    <tr style=\"text-align: right;\">\n      <th></th>\n      <th>fire_id</th>\n      <th>lat</th>\n      <th>lon</th>\n      <th>date</th>\n      <th>hectares</th>\n      <th>STATION_NAME</th>\n      <th>PROV_STATE_TERR_CODE</th>\n      <th>LATITUDE</th>\n      <th>LONGITUDE</th>\n      <th>ELEVATION</th>\n    </tr>\n  </thead>\n  <tbody>\n    <tr>\n      <th>0</th>\n      <td>0</td>\n      <td>50.905000</td>\n      <td>-126.9292</td>\n      <td>2000-03-10</td>\n      <td>6.00</td>\n      <td>FORTEAU</td>\n      <td>NL</td>\n      <td>51.2800</td>\n      <td>-56.5800</td>\n      <td>NaN</td>\n    </tr>\n    <tr>\n      <th>1</th>\n      <td>0</td>\n      <td>50.905000</td>\n      <td>-126.9292</td>\n      <td>2000-03-10</td>\n      <td>6.00</td>\n      <td>GRANTON</td>\n      <td>ON</td>\n      <td>43.1200</td>\n      <td>-81.2000</td>\n      <td>315.5</td>\n    </tr>\n    <tr>\n      <th>2</th>\n      <td>0</td>\n      <td>50.905000</td>\n      <td>-126.9292</td>\n      <td>2000-03-10</td>\n      <td>6.00</td>\n      <td>CORNWALL</td>\n      <td>ON</td>\n      <td>45.0100</td>\n      <td>-74.4400</td>\n      <td>53.3</td>\n    </tr>\n    <tr>\n      <th>3</th>\n      <td>0</td>\n      <td>50.905000</td>\n      <td>-126.9292</td>\n      <td>2000-03-10</td>\n      <td>6.00</td>\n      <td>CRANBOURNE</td>\n      <td>QC</td>\n      <td>46.2300</td>\n      <td>-70.4200</td>\n      <td>NaN</td>\n    </tr>\n    <tr>\n      <th>4</th>\n      <td>0</td>\n      <td>50.905000</td>\n      <td>-126.9292</td>\n      <td>2000-03-10</td>\n      <td>6.00</td>\n      <td>LONDON</td>\n      <td>ON</td>\n      <td>42.5900</td>\n      <td>-81.1200</td>\n      <td>246.3</td>\n    </tr>\n    <tr>\n      <th>...</th>\n      <td>...</td>\n      <td>...</td>\n      <td>...</td>\n      <td>...</td>\n      <td>...</td>\n      <td>...</td>\n      <td>...</td>\n      <td>...</td>\n      <td>...</td>\n      <td>...</td>\n    </tr>\n    <tr>\n      <th>403449995</th>\n      <td>49999</td>\n      <td>52.399467</td>\n      <td>-114.9698</td>\n      <td>2013-09-23</td>\n      <td>0.01</td>\n      <td>CLYDE RIVER A</td>\n      <td>NU</td>\n      <td>70.2909</td>\n      <td>-68.3101</td>\n      <td>26.5</td>\n    </tr>\n    <tr>\n      <th>403449996</th>\n      <td>49999</td>\n      <td>52.399467</td>\n      <td>-114.9698</td>\n      <td>2013-09-23</td>\n      <td>0.01</td>\n      <td>LA GRANDE RIVIERE A</td>\n      <td>QC</td>\n      <td>53.3731</td>\n      <td>-77.4215</td>\n      <td>194.8</td>\n    </tr>\n    <tr>\n      <th>403449997</th>\n      <td>49999</td>\n      <td>52.399467</td>\n      <td>-114.9698</td>\n      <td>2013-09-23</td>\n      <td>0.01</td>\n      <td>MUSKRAT DAM</td>\n      <td>ON</td>\n      <td>53.2629</td>\n      <td>-91.4546</td>\n      <td>277.7</td>\n    </tr>\n    <tr>\n      <th>403449998</th>\n      <td>49999</td>\n      <td>52.399467</td>\n      <td>-114.9698</td>\n      <td>2013-09-23</td>\n      <td>0.01</td>\n      <td>ROUYN-NORANDA A</td>\n      <td>QC</td>\n      <td>48.1222</td>\n      <td>-78.5008</td>\n      <td>301.1</td>\n    </tr>\n    <tr>\n      <th>403449999</th>\n      <td>49999</td>\n      <td>52.399467</td>\n      <td>-114.9698</td>\n      <td>2013-09-23</td>\n      <td>0.01</td>\n      <td>CORAL HARBOUR A</td>\n      <td>NU</td>\n      <td>64.1136</td>\n      <td>-83.2134</td>\n      <td>62.2</td>\n    </tr>\n  </tbody>\n</table>\n<p>403450000 rows × 10 columns</p>\n</div>"
     },
     "execution_count": 20,
     "metadata": {},
     "output_type": "execute_result"
    }
   ],
   "execution_count": 20
  },
  {
   "cell_type": "code",
   "source": [
    "# Convert fire and weather climate station to radians using haversine\n",
    "df[['fire_lat_radians', 'fire_lon_radians']] = np.radians(df.loc[:, ['lat', 'lon']])\n",
    "df[['clim_lat_radians', 'clim_lon_radians']] = np.radians(df.loc[:, ['LATITUDE', 'LONGITUDE']])"
   ],
   "metadata": {
    "collapsed": false,
    "ExecuteTime": {
     "end_time": "2024-07-21T14:41:53.406347100Z",
     "start_time": "2024-07-21T14:41:17.766005800Z"
    }
   },
   "outputs": [],
   "execution_count": 21
  },
  {
   "cell_type": "code",
   "source": [
    "df"
   ],
   "metadata": {
    "collapsed": false,
    "ExecuteTime": {
     "end_time": "2024-07-21T14:41:53.476011800Z",
     "start_time": "2024-07-21T14:41:53.404352800Z"
    }
   },
   "outputs": [
    {
     "data": {
      "text/plain": "           fire_id        lat       lon        date  hectares  \\\n0                0  50.905000 -126.9292  2000-03-10      6.00   \n1                0  50.905000 -126.9292  2000-03-10      6.00   \n2                0  50.905000 -126.9292  2000-03-10      6.00   \n3                0  50.905000 -126.9292  2000-03-10      6.00   \n4                0  50.905000 -126.9292  2000-03-10      6.00   \n...            ...        ...       ...         ...       ...   \n403449995    49999  52.399467 -114.9698  2013-09-23      0.01   \n403449996    49999  52.399467 -114.9698  2013-09-23      0.01   \n403449997    49999  52.399467 -114.9698  2013-09-23      0.01   \n403449998    49999  52.399467 -114.9698  2013-09-23      0.01   \n403449999    49999  52.399467 -114.9698  2013-09-23      0.01   \n\n                  STATION_NAME PROV_STATE_TERR_CODE  LATITUDE  LONGITUDE  \\\n0                      FORTEAU                   NL   51.2800   -56.5800   \n1                      GRANTON                   ON   43.1200   -81.2000   \n2                     CORNWALL                   ON   45.0100   -74.4400   \n3                   CRANBOURNE                   QC   46.2300   -70.4200   \n4                       LONDON                   ON   42.5900   -81.1200   \n...                        ...                  ...       ...        ...   \n403449995        CLYDE RIVER A                   NU   70.2909   -68.3101   \n403449996  LA GRANDE RIVIERE A                   QC   53.3731   -77.4215   \n403449997          MUSKRAT DAM                   ON   53.2629   -91.4546   \n403449998      ROUYN-NORANDA A                   QC   48.1222   -78.5008   \n403449999      CORAL HARBOUR A                   NU   64.1136   -83.2134   \n\n           ELEVATION  fire_lat_radians  fire_lon_radians  clim_lat_radians  \\\n0                NaN          0.888460         -2.215332          0.895005   \n1              315.5          0.888460         -2.215332          0.752586   \n2               53.3          0.888460         -2.215332          0.785573   \n3                NaN          0.888460         -2.215332          0.806866   \n4              246.3          0.888460         -2.215332          0.743336   \n...              ...               ...               ...               ...   \n403449995       26.5          0.914543         -2.006602          1.226808   \n403449996      194.8          0.914543         -2.006602          0.931536   \n403449997      277.7          0.914543         -2.006602          0.929613   \n403449998      301.1          0.914543         -2.006602          0.839891   \n403449999       62.2          0.914543         -2.006602          1.118993   \n\n           clim_lon_radians  \n0                 -0.987507  \n1                 -1.417207  \n2                 -1.299223  \n3                 -1.229061  \n4                 -1.415811  \n...                     ...  \n403449995         -1.192236  \n403449996         -1.351260  \n403449997         -1.596184  \n403449998         -1.370097  \n403449999         -1.452348  \n\n[403450000 rows x 14 columns]",
      "text/html": "<div>\n<style scoped>\n    .dataframe tbody tr th:only-of-type {\n        vertical-align: middle;\n    }\n\n    .dataframe tbody tr th {\n        vertical-align: top;\n    }\n\n    .dataframe thead th {\n        text-align: right;\n    }\n</style>\n<table border=\"1\" class=\"dataframe\">\n  <thead>\n    <tr style=\"text-align: right;\">\n      <th></th>\n      <th>fire_id</th>\n      <th>lat</th>\n      <th>lon</th>\n      <th>date</th>\n      <th>hectares</th>\n      <th>STATION_NAME</th>\n      <th>PROV_STATE_TERR_CODE</th>\n      <th>LATITUDE</th>\n      <th>LONGITUDE</th>\n      <th>ELEVATION</th>\n      <th>fire_lat_radians</th>\n      <th>fire_lon_radians</th>\n      <th>clim_lat_radians</th>\n      <th>clim_lon_radians</th>\n    </tr>\n  </thead>\n  <tbody>\n    <tr>\n      <th>0</th>\n      <td>0</td>\n      <td>50.905000</td>\n      <td>-126.9292</td>\n      <td>2000-03-10</td>\n      <td>6.00</td>\n      <td>FORTEAU</td>\n      <td>NL</td>\n      <td>51.2800</td>\n      <td>-56.5800</td>\n      <td>NaN</td>\n      <td>0.888460</td>\n      <td>-2.215332</td>\n      <td>0.895005</td>\n      <td>-0.987507</td>\n    </tr>\n    <tr>\n      <th>1</th>\n      <td>0</td>\n      <td>50.905000</td>\n      <td>-126.9292</td>\n      <td>2000-03-10</td>\n      <td>6.00</td>\n      <td>GRANTON</td>\n      <td>ON</td>\n      <td>43.1200</td>\n      <td>-81.2000</td>\n      <td>315.5</td>\n      <td>0.888460</td>\n      <td>-2.215332</td>\n      <td>0.752586</td>\n      <td>-1.417207</td>\n    </tr>\n    <tr>\n      <th>2</th>\n      <td>0</td>\n      <td>50.905000</td>\n      <td>-126.9292</td>\n      <td>2000-03-10</td>\n      <td>6.00</td>\n      <td>CORNWALL</td>\n      <td>ON</td>\n      <td>45.0100</td>\n      <td>-74.4400</td>\n      <td>53.3</td>\n      <td>0.888460</td>\n      <td>-2.215332</td>\n      <td>0.785573</td>\n      <td>-1.299223</td>\n    </tr>\n    <tr>\n      <th>3</th>\n      <td>0</td>\n      <td>50.905000</td>\n      <td>-126.9292</td>\n      <td>2000-03-10</td>\n      <td>6.00</td>\n      <td>CRANBOURNE</td>\n      <td>QC</td>\n      <td>46.2300</td>\n      <td>-70.4200</td>\n      <td>NaN</td>\n      <td>0.888460</td>\n      <td>-2.215332</td>\n      <td>0.806866</td>\n      <td>-1.229061</td>\n    </tr>\n    <tr>\n      <th>4</th>\n      <td>0</td>\n      <td>50.905000</td>\n      <td>-126.9292</td>\n      <td>2000-03-10</td>\n      <td>6.00</td>\n      <td>LONDON</td>\n      <td>ON</td>\n      <td>42.5900</td>\n      <td>-81.1200</td>\n      <td>246.3</td>\n      <td>0.888460</td>\n      <td>-2.215332</td>\n      <td>0.743336</td>\n      <td>-1.415811</td>\n    </tr>\n    <tr>\n      <th>...</th>\n      <td>...</td>\n      <td>...</td>\n      <td>...</td>\n      <td>...</td>\n      <td>...</td>\n      <td>...</td>\n      <td>...</td>\n      <td>...</td>\n      <td>...</td>\n      <td>...</td>\n      <td>...</td>\n      <td>...</td>\n      <td>...</td>\n      <td>...</td>\n    </tr>\n    <tr>\n      <th>403449995</th>\n      <td>49999</td>\n      <td>52.399467</td>\n      <td>-114.9698</td>\n      <td>2013-09-23</td>\n      <td>0.01</td>\n      <td>CLYDE RIVER A</td>\n      <td>NU</td>\n      <td>70.2909</td>\n      <td>-68.3101</td>\n      <td>26.5</td>\n      <td>0.914543</td>\n      <td>-2.006602</td>\n      <td>1.226808</td>\n      <td>-1.192236</td>\n    </tr>\n    <tr>\n      <th>403449996</th>\n      <td>49999</td>\n      <td>52.399467</td>\n      <td>-114.9698</td>\n      <td>2013-09-23</td>\n      <td>0.01</td>\n      <td>LA GRANDE RIVIERE A</td>\n      <td>QC</td>\n      <td>53.3731</td>\n      <td>-77.4215</td>\n      <td>194.8</td>\n      <td>0.914543</td>\n      <td>-2.006602</td>\n      <td>0.931536</td>\n      <td>-1.351260</td>\n    </tr>\n    <tr>\n      <th>403449997</th>\n      <td>49999</td>\n      <td>52.399467</td>\n      <td>-114.9698</td>\n      <td>2013-09-23</td>\n      <td>0.01</td>\n      <td>MUSKRAT DAM</td>\n      <td>ON</td>\n      <td>53.2629</td>\n      <td>-91.4546</td>\n      <td>277.7</td>\n      <td>0.914543</td>\n      <td>-2.006602</td>\n      <td>0.929613</td>\n      <td>-1.596184</td>\n    </tr>\n    <tr>\n      <th>403449998</th>\n      <td>49999</td>\n      <td>52.399467</td>\n      <td>-114.9698</td>\n      <td>2013-09-23</td>\n      <td>0.01</td>\n      <td>ROUYN-NORANDA A</td>\n      <td>QC</td>\n      <td>48.1222</td>\n      <td>-78.5008</td>\n      <td>301.1</td>\n      <td>0.914543</td>\n      <td>-2.006602</td>\n      <td>0.839891</td>\n      <td>-1.370097</td>\n    </tr>\n    <tr>\n      <th>403449999</th>\n      <td>49999</td>\n      <td>52.399467</td>\n      <td>-114.9698</td>\n      <td>2013-09-23</td>\n      <td>0.01</td>\n      <td>CORAL HARBOUR A</td>\n      <td>NU</td>\n      <td>64.1136</td>\n      <td>-83.2134</td>\n      <td>62.2</td>\n      <td>0.914543</td>\n      <td>-2.006602</td>\n      <td>1.118993</td>\n      <td>-1.452348</td>\n    </tr>\n  </tbody>\n</table>\n<p>403450000 rows × 14 columns</p>\n</div>"
     },
     "execution_count": 22,
     "metadata": {},
     "output_type": "execute_result"
    }
   ],
   "execution_count": 22
  },
  {
   "cell_type": "code",
   "source": [
    "# Create new column containing distance in km\n",
    "df['distance'] = haversine(df['fire_lon_radians'], df['fire_lat_radians'], df['clim_lon_radians'], df['clim_lat_radians'])"
   ],
   "metadata": {
    "collapsed": false,
    "ExecuteTime": {
     "end_time": "2024-07-21T14:42:35.495376600Z",
     "start_time": "2024-07-21T14:41:53.487979800Z"
    }
   },
   "outputs": [],
   "execution_count": 23
  },
  {
   "cell_type": "code",
   "source": [
    "df"
   ],
   "metadata": {
    "collapsed": false,
    "ExecuteTime": {
     "end_time": "2024-07-21T14:42:35.560269400Z",
     "start_time": "2024-07-21T14:42:35.504924600Z"
    }
   },
   "outputs": [
    {
     "data": {
      "text/plain": "           fire_id        lat       lon        date  hectares  \\\n0                0  50.905000 -126.9292  2000-03-10      6.00   \n1                0  50.905000 -126.9292  2000-03-10      6.00   \n2                0  50.905000 -126.9292  2000-03-10      6.00   \n3                0  50.905000 -126.9292  2000-03-10      6.00   \n4                0  50.905000 -126.9292  2000-03-10      6.00   \n...            ...        ...       ...         ...       ...   \n403449995    49999  52.399467 -114.9698  2013-09-23      0.01   \n403449996    49999  52.399467 -114.9698  2013-09-23      0.01   \n403449997    49999  52.399467 -114.9698  2013-09-23      0.01   \n403449998    49999  52.399467 -114.9698  2013-09-23      0.01   \n403449999    49999  52.399467 -114.9698  2013-09-23      0.01   \n\n                  STATION_NAME PROV_STATE_TERR_CODE  LATITUDE  LONGITUDE  \\\n0                      FORTEAU                   NL   51.2800   -56.5800   \n1                      GRANTON                   ON   43.1200   -81.2000   \n2                     CORNWALL                   ON   45.0100   -74.4400   \n3                   CRANBOURNE                   QC   46.2300   -70.4200   \n4                       LONDON                   ON   42.5900   -81.1200   \n...                        ...                  ...       ...        ...   \n403449995        CLYDE RIVER A                   NU   70.2909   -68.3101   \n403449996  LA GRANDE RIVIERE A                   QC   53.3731   -77.4215   \n403449997          MUSKRAT DAM                   ON   53.2629   -91.4546   \n403449998      ROUYN-NORANDA A                   QC   48.1222   -78.5008   \n403449999      CORAL HARBOUR A                   NU   64.1136   -83.2134   \n\n           ELEVATION  fire_lat_radians  fire_lon_radians  clim_lat_radians  \\\n0                NaN          0.888460         -2.215332          0.895005   \n1              315.5          0.888460         -2.215332          0.752586   \n2               53.3          0.888460         -2.215332          0.785573   \n3                NaN          0.888460         -2.215332          0.806866   \n4              246.3          0.888460         -2.215332          0.743336   \n...              ...               ...               ...               ...   \n403449995       26.5          0.914543         -2.006602          1.226808   \n403449996      194.8          0.914543         -2.006602          0.931536   \n403449997      277.7          0.914543         -2.006602          0.929613   \n403449998      301.1          0.914543         -2.006602          0.839891   \n403449999       62.2          0.914543         -2.006602          1.118993   \n\n           clim_lon_radians     distance  \n0                 -0.987507  4714.363978  \n1                 -1.417207  3510.699347  \n2                 -1.299223  3876.030124  \n3                 -1.229061  4084.900477  \n4                 -1.415811  3546.484725  \n...                     ...          ...  \n403449995         -1.192236  3054.762589  \n403449996         -1.351260  2490.880150  \n403449997         -1.596184  1574.526150  \n403449998         -1.370097  2605.110917  \n403449999         -1.452348  2229.927540  \n\n[403450000 rows x 15 columns]",
      "text/html": "<div>\n<style scoped>\n    .dataframe tbody tr th:only-of-type {\n        vertical-align: middle;\n    }\n\n    .dataframe tbody tr th {\n        vertical-align: top;\n    }\n\n    .dataframe thead th {\n        text-align: right;\n    }\n</style>\n<table border=\"1\" class=\"dataframe\">\n  <thead>\n    <tr style=\"text-align: right;\">\n      <th></th>\n      <th>fire_id</th>\n      <th>lat</th>\n      <th>lon</th>\n      <th>date</th>\n      <th>hectares</th>\n      <th>STATION_NAME</th>\n      <th>PROV_STATE_TERR_CODE</th>\n      <th>LATITUDE</th>\n      <th>LONGITUDE</th>\n      <th>ELEVATION</th>\n      <th>fire_lat_radians</th>\n      <th>fire_lon_radians</th>\n      <th>clim_lat_radians</th>\n      <th>clim_lon_radians</th>\n      <th>distance</th>\n    </tr>\n  </thead>\n  <tbody>\n    <tr>\n      <th>0</th>\n      <td>0</td>\n      <td>50.905000</td>\n      <td>-126.9292</td>\n      <td>2000-03-10</td>\n      <td>6.00</td>\n      <td>FORTEAU</td>\n      <td>NL</td>\n      <td>51.2800</td>\n      <td>-56.5800</td>\n      <td>NaN</td>\n      <td>0.888460</td>\n      <td>-2.215332</td>\n      <td>0.895005</td>\n      <td>-0.987507</td>\n      <td>4714.363978</td>\n    </tr>\n    <tr>\n      <th>1</th>\n      <td>0</td>\n      <td>50.905000</td>\n      <td>-126.9292</td>\n      <td>2000-03-10</td>\n      <td>6.00</td>\n      <td>GRANTON</td>\n      <td>ON</td>\n      <td>43.1200</td>\n      <td>-81.2000</td>\n      <td>315.5</td>\n      <td>0.888460</td>\n      <td>-2.215332</td>\n      <td>0.752586</td>\n      <td>-1.417207</td>\n      <td>3510.699347</td>\n    </tr>\n    <tr>\n      <th>2</th>\n      <td>0</td>\n      <td>50.905000</td>\n      <td>-126.9292</td>\n      <td>2000-03-10</td>\n      <td>6.00</td>\n      <td>CORNWALL</td>\n      <td>ON</td>\n      <td>45.0100</td>\n      <td>-74.4400</td>\n      <td>53.3</td>\n      <td>0.888460</td>\n      <td>-2.215332</td>\n      <td>0.785573</td>\n      <td>-1.299223</td>\n      <td>3876.030124</td>\n    </tr>\n    <tr>\n      <th>3</th>\n      <td>0</td>\n      <td>50.905000</td>\n      <td>-126.9292</td>\n      <td>2000-03-10</td>\n      <td>6.00</td>\n      <td>CRANBOURNE</td>\n      <td>QC</td>\n      <td>46.2300</td>\n      <td>-70.4200</td>\n      <td>NaN</td>\n      <td>0.888460</td>\n      <td>-2.215332</td>\n      <td>0.806866</td>\n      <td>-1.229061</td>\n      <td>4084.900477</td>\n    </tr>\n    <tr>\n      <th>4</th>\n      <td>0</td>\n      <td>50.905000</td>\n      <td>-126.9292</td>\n      <td>2000-03-10</td>\n      <td>6.00</td>\n      <td>LONDON</td>\n      <td>ON</td>\n      <td>42.5900</td>\n      <td>-81.1200</td>\n      <td>246.3</td>\n      <td>0.888460</td>\n      <td>-2.215332</td>\n      <td>0.743336</td>\n      <td>-1.415811</td>\n      <td>3546.484725</td>\n    </tr>\n    <tr>\n      <th>...</th>\n      <td>...</td>\n      <td>...</td>\n      <td>...</td>\n      <td>...</td>\n      <td>...</td>\n      <td>...</td>\n      <td>...</td>\n      <td>...</td>\n      <td>...</td>\n      <td>...</td>\n      <td>...</td>\n      <td>...</td>\n      <td>...</td>\n      <td>...</td>\n      <td>...</td>\n    </tr>\n    <tr>\n      <th>403449995</th>\n      <td>49999</td>\n      <td>52.399467</td>\n      <td>-114.9698</td>\n      <td>2013-09-23</td>\n      <td>0.01</td>\n      <td>CLYDE RIVER A</td>\n      <td>NU</td>\n      <td>70.2909</td>\n      <td>-68.3101</td>\n      <td>26.5</td>\n      <td>0.914543</td>\n      <td>-2.006602</td>\n      <td>1.226808</td>\n      <td>-1.192236</td>\n      <td>3054.762589</td>\n    </tr>\n    <tr>\n      <th>403449996</th>\n      <td>49999</td>\n      <td>52.399467</td>\n      <td>-114.9698</td>\n      <td>2013-09-23</td>\n      <td>0.01</td>\n      <td>LA GRANDE RIVIERE A</td>\n      <td>QC</td>\n      <td>53.3731</td>\n      <td>-77.4215</td>\n      <td>194.8</td>\n      <td>0.914543</td>\n      <td>-2.006602</td>\n      <td>0.931536</td>\n      <td>-1.351260</td>\n      <td>2490.880150</td>\n    </tr>\n    <tr>\n      <th>403449997</th>\n      <td>49999</td>\n      <td>52.399467</td>\n      <td>-114.9698</td>\n      <td>2013-09-23</td>\n      <td>0.01</td>\n      <td>MUSKRAT DAM</td>\n      <td>ON</td>\n      <td>53.2629</td>\n      <td>-91.4546</td>\n      <td>277.7</td>\n      <td>0.914543</td>\n      <td>-2.006602</td>\n      <td>0.929613</td>\n      <td>-1.596184</td>\n      <td>1574.526150</td>\n    </tr>\n    <tr>\n      <th>403449998</th>\n      <td>49999</td>\n      <td>52.399467</td>\n      <td>-114.9698</td>\n      <td>2013-09-23</td>\n      <td>0.01</td>\n      <td>ROUYN-NORANDA A</td>\n      <td>QC</td>\n      <td>48.1222</td>\n      <td>-78.5008</td>\n      <td>301.1</td>\n      <td>0.914543</td>\n      <td>-2.006602</td>\n      <td>0.839891</td>\n      <td>-1.370097</td>\n      <td>2605.110917</td>\n    </tr>\n    <tr>\n      <th>403449999</th>\n      <td>49999</td>\n      <td>52.399467</td>\n      <td>-114.9698</td>\n      <td>2013-09-23</td>\n      <td>0.01</td>\n      <td>CORAL HARBOUR A</td>\n      <td>NU</td>\n      <td>64.1136</td>\n      <td>-83.2134</td>\n      <td>62.2</td>\n      <td>0.914543</td>\n      <td>-2.006602</td>\n      <td>1.118993</td>\n      <td>-1.452348</td>\n      <td>2229.927540</td>\n    </tr>\n  </tbody>\n</table>\n<p>403450000 rows × 15 columns</p>\n</div>"
     },
     "execution_count": 24,
     "metadata": {},
     "output_type": "execute_result"
    }
   ],
   "execution_count": 24
  },
  {
   "cell_type": "markdown",
   "source": [
    "## Create new dataset with unique fire-station pair"
   ],
   "metadata": {
    "collapsed": false
   }
  },
  {
   "cell_type": "code",
   "source": [
    "# Group by the entire dataset on the basis of fire identity (fire_id) and then select the rows with\n",
    "# minimum value for distance from weather station\n",
    "fire_station = df.groupby(['fire_id'])['distance'].min()"
   ],
   "metadata": {
    "collapsed": false,
    "ExecuteTime": {
     "end_time": "2024-07-21T14:42:42.715351Z",
     "start_time": "2024-07-21T14:42:35.565256600Z"
    }
   },
   "outputs": [],
   "execution_count": 25
  },
  {
   "cell_type": "code",
   "source": [
    "fire_stations_df = pd.DataFrame(fire_station, columns=['distance'])\n",
    "fire_stations_df['fire_id'] = fire_stations_df.index\n",
    "fire_stations_df.index = range(fire_stations_df.shape[0]) # Make label column"
   ],
   "metadata": {
    "collapsed": false,
    "ExecuteTime": {
     "end_time": "2024-07-21T14:42:42.735872200Z",
     "start_time": "2024-07-21T14:42:42.717760500Z"
    }
   },
   "outputs": [],
   "execution_count": 26
  },
  {
   "cell_type": "code",
   "source": [
    "fire_stations_df"
   ],
   "metadata": {
    "collapsed": false,
    "ExecuteTime": {
     "end_time": "2024-07-21T14:42:42.748725100Z",
     "start_time": "2024-07-21T14:42:42.736870200Z"
    }
   },
   "outputs": [
    {
     "data": {
      "text/plain": "        distance  fire_id\n0      48.031939        0\n1       6.992181        1\n2      43.984046        2\n3      32.742051        3\n4      12.160548        4\n...          ...      ...\n49995  11.795653    49995\n49996  11.875635    49996\n49997  22.851316    49997\n49998  15.983157    49998\n49999  17.454619    49999\n\n[50000 rows x 2 columns]",
      "text/html": "<div>\n<style scoped>\n    .dataframe tbody tr th:only-of-type {\n        vertical-align: middle;\n    }\n\n    .dataframe tbody tr th {\n        vertical-align: top;\n    }\n\n    .dataframe thead th {\n        text-align: right;\n    }\n</style>\n<table border=\"1\" class=\"dataframe\">\n  <thead>\n    <tr style=\"text-align: right;\">\n      <th></th>\n      <th>distance</th>\n      <th>fire_id</th>\n    </tr>\n  </thead>\n  <tbody>\n    <tr>\n      <th>0</th>\n      <td>48.031939</td>\n      <td>0</td>\n    </tr>\n    <tr>\n      <th>1</th>\n      <td>6.992181</td>\n      <td>1</td>\n    </tr>\n    <tr>\n      <th>2</th>\n      <td>43.984046</td>\n      <td>2</td>\n    </tr>\n    <tr>\n      <th>3</th>\n      <td>32.742051</td>\n      <td>3</td>\n    </tr>\n    <tr>\n      <th>4</th>\n      <td>12.160548</td>\n      <td>4</td>\n    </tr>\n    <tr>\n      <th>...</th>\n      <td>...</td>\n      <td>...</td>\n    </tr>\n    <tr>\n      <th>49995</th>\n      <td>11.795653</td>\n      <td>49995</td>\n    </tr>\n    <tr>\n      <th>49996</th>\n      <td>11.875635</td>\n      <td>49996</td>\n    </tr>\n    <tr>\n      <th>49997</th>\n      <td>22.851316</td>\n      <td>49997</td>\n    </tr>\n    <tr>\n      <th>49998</th>\n      <td>15.983157</td>\n      <td>49998</td>\n    </tr>\n    <tr>\n      <th>49999</th>\n      <td>17.454619</td>\n      <td>49999</td>\n    </tr>\n  </tbody>\n</table>\n<p>50000 rows × 2 columns</p>\n</div>"
     },
     "execution_count": 27,
     "metadata": {},
     "output_type": "execute_result"
    }
   ],
   "execution_count": 27
  },
  {
   "cell_type": "code",
   "source": [
    "# Final merge\n",
    "final_df = pd.merge(df, fire_stations_df, on=['fire_id', 'distance'])"
   ],
   "metadata": {
    "collapsed": false,
    "ExecuteTime": {
     "end_time": "2024-07-21T14:46:13.261136500Z",
     "start_time": "2024-07-21T14:42:42.748725100Z"
    }
   },
   "outputs": [],
   "execution_count": 28
  },
  {
   "cell_type": "code",
   "execution_count": 29,
   "outputs": [],
   "source": [
    "# Drop useless columns\n",
    "final_df.drop(['fire_lat_radians', 'fire_lon_radians', 'clim_lat_radians', 'clim_lon_radians'], axis=1, inplace=True)"
   ],
   "metadata": {
    "collapsed": false,
    "ExecuteTime": {
     "end_time": "2024-07-21T14:46:13.280360400Z",
     "start_time": "2024-07-21T14:46:13.273061300Z"
    }
   }
  },
  {
   "cell_type": "code",
   "source": [
    "final_df"
   ],
   "metadata": {
    "collapsed": false,
    "ExecuteTime": {
     "end_time": "2024-07-21T14:46:13.314918500Z",
     "start_time": "2024-07-21T14:46:13.282357400Z"
    }
   },
   "outputs": [
    {
     "data": {
      "text/plain": "       fire_id        lat         lon        date  hectares  \\\n0            0  50.905000 -126.929200  2000-03-10      6.00   \n1            1  49.297100 -122.232100  2000-08-21      0.20   \n2            2  55.800000 -124.816700  2005-06-20      0.01   \n3            3  49.877000 -121.573000  2000-08-06      0.10   \n4            4  49.066700 -121.833300  2000-07-28      0.10   \n...        ...        ...         ...         ...       ...   \n49996    49995  52.984067 -115.528783  2013-07-04      0.01   \n49997    49996  52.917845 -115.339839  2013-08-18      0.01   \n49998    49997  52.888741 -114.964868  2013-08-21      0.90   \n49999    49998  52.352750 -114.973983  2013-09-04      0.01   \n50000    49999  52.399467 -114.969800  2013-09-23      0.01   \n\n               STATION_NAME PROV_STATE_TERR_CODE   LATITUDE  LONGITUDE  \\\n0                EGG ISLAND                   BC  51.145000 -127.50073   \n1                 PITT LAKE                   BC  49.260000 -122.31000   \n2            MESILINKA CAMP                   BC  56.070000 -124.30000   \n3                  LYTTON A                   BC  50.132800 -121.34550   \n4      VEDDER SOUTH LICKMAN                   BC  49.060000 -122.00000   \n...                     ...                  ...        ...        ...   \n49996               WOLF LO                   AB  53.090000 -115.54000   \n49997            BRAZEAU LO                   AB  53.010000 -115.25000   \n49998       VIOLET GROVE CS                   AB  53.083701 -115.07350   \n49999               HORBURG                   AB  52.240000 -115.12000   \n50000           O CHIESE LO                   AB  52.470000 -115.20000   \n\n       ELEVATION   distance  \n0           14.0  48.031939  \n1            7.6   6.992181  \n2          803.0  43.984046  \n3          224.9  32.742051  \n4           15.2  12.160548  \n...          ...        ...  \n49996     1098.5  11.795653  \n49997     1088.4  11.875635  \n49998      914.0  22.851316  \n49999     1036.0  15.983157  \n50000     1112.5  17.454619  \n\n[50001 rows x 11 columns]",
      "text/html": "<div>\n<style scoped>\n    .dataframe tbody tr th:only-of-type {\n        vertical-align: middle;\n    }\n\n    .dataframe tbody tr th {\n        vertical-align: top;\n    }\n\n    .dataframe thead th {\n        text-align: right;\n    }\n</style>\n<table border=\"1\" class=\"dataframe\">\n  <thead>\n    <tr style=\"text-align: right;\">\n      <th></th>\n      <th>fire_id</th>\n      <th>lat</th>\n      <th>lon</th>\n      <th>date</th>\n      <th>hectares</th>\n      <th>STATION_NAME</th>\n      <th>PROV_STATE_TERR_CODE</th>\n      <th>LATITUDE</th>\n      <th>LONGITUDE</th>\n      <th>ELEVATION</th>\n      <th>distance</th>\n    </tr>\n  </thead>\n  <tbody>\n    <tr>\n      <th>0</th>\n      <td>0</td>\n      <td>50.905000</td>\n      <td>-126.929200</td>\n      <td>2000-03-10</td>\n      <td>6.00</td>\n      <td>EGG ISLAND</td>\n      <td>BC</td>\n      <td>51.145000</td>\n      <td>-127.50073</td>\n      <td>14.0</td>\n      <td>48.031939</td>\n    </tr>\n    <tr>\n      <th>1</th>\n      <td>1</td>\n      <td>49.297100</td>\n      <td>-122.232100</td>\n      <td>2000-08-21</td>\n      <td>0.20</td>\n      <td>PITT LAKE</td>\n      <td>BC</td>\n      <td>49.260000</td>\n      <td>-122.31000</td>\n      <td>7.6</td>\n      <td>6.992181</td>\n    </tr>\n    <tr>\n      <th>2</th>\n      <td>2</td>\n      <td>55.800000</td>\n      <td>-124.816700</td>\n      <td>2005-06-20</td>\n      <td>0.01</td>\n      <td>MESILINKA CAMP</td>\n      <td>BC</td>\n      <td>56.070000</td>\n      <td>-124.30000</td>\n      <td>803.0</td>\n      <td>43.984046</td>\n    </tr>\n    <tr>\n      <th>3</th>\n      <td>3</td>\n      <td>49.877000</td>\n      <td>-121.573000</td>\n      <td>2000-08-06</td>\n      <td>0.10</td>\n      <td>LYTTON A</td>\n      <td>BC</td>\n      <td>50.132800</td>\n      <td>-121.34550</td>\n      <td>224.9</td>\n      <td>32.742051</td>\n    </tr>\n    <tr>\n      <th>4</th>\n      <td>4</td>\n      <td>49.066700</td>\n      <td>-121.833300</td>\n      <td>2000-07-28</td>\n      <td>0.10</td>\n      <td>VEDDER SOUTH LICKMAN</td>\n      <td>BC</td>\n      <td>49.060000</td>\n      <td>-122.00000</td>\n      <td>15.2</td>\n      <td>12.160548</td>\n    </tr>\n    <tr>\n      <th>...</th>\n      <td>...</td>\n      <td>...</td>\n      <td>...</td>\n      <td>...</td>\n      <td>...</td>\n      <td>...</td>\n      <td>...</td>\n      <td>...</td>\n      <td>...</td>\n      <td>...</td>\n      <td>...</td>\n    </tr>\n    <tr>\n      <th>49996</th>\n      <td>49995</td>\n      <td>52.984067</td>\n      <td>-115.528783</td>\n      <td>2013-07-04</td>\n      <td>0.01</td>\n      <td>WOLF LO</td>\n      <td>AB</td>\n      <td>53.090000</td>\n      <td>-115.54000</td>\n      <td>1098.5</td>\n      <td>11.795653</td>\n    </tr>\n    <tr>\n      <th>49997</th>\n      <td>49996</td>\n      <td>52.917845</td>\n      <td>-115.339839</td>\n      <td>2013-08-18</td>\n      <td>0.01</td>\n      <td>BRAZEAU LO</td>\n      <td>AB</td>\n      <td>53.010000</td>\n      <td>-115.25000</td>\n      <td>1088.4</td>\n      <td>11.875635</td>\n    </tr>\n    <tr>\n      <th>49998</th>\n      <td>49997</td>\n      <td>52.888741</td>\n      <td>-114.964868</td>\n      <td>2013-08-21</td>\n      <td>0.90</td>\n      <td>VIOLET GROVE CS</td>\n      <td>AB</td>\n      <td>53.083701</td>\n      <td>-115.07350</td>\n      <td>914.0</td>\n      <td>22.851316</td>\n    </tr>\n    <tr>\n      <th>49999</th>\n      <td>49998</td>\n      <td>52.352750</td>\n      <td>-114.973983</td>\n      <td>2013-09-04</td>\n      <td>0.01</td>\n      <td>HORBURG</td>\n      <td>AB</td>\n      <td>52.240000</td>\n      <td>-115.12000</td>\n      <td>1036.0</td>\n      <td>15.983157</td>\n    </tr>\n    <tr>\n      <th>50000</th>\n      <td>49999</td>\n      <td>52.399467</td>\n      <td>-114.969800</td>\n      <td>2013-09-23</td>\n      <td>0.01</td>\n      <td>O CHIESE LO</td>\n      <td>AB</td>\n      <td>52.470000</td>\n      <td>-115.20000</td>\n      <td>1112.5</td>\n      <td>17.454619</td>\n    </tr>\n  </tbody>\n</table>\n<p>50001 rows × 11 columns</p>\n</div>"
     },
     "execution_count": 30,
     "metadata": {},
     "output_type": "execute_result"
    }
   ],
   "execution_count": 30
  },
  {
   "cell_type": "code",
   "source": [
    "# final_df.to_csv('fires-merged-1.csv', index=False)\n",
    "# final_df.to_csv('fires-merged-2.csv', index=False)\n",
    "final_df.to_csv('fires-merged-3.csv', index=False)"
   ],
   "metadata": {
    "collapsed": false,
    "ExecuteTime": {
     "end_time": "2024-07-21T14:46:13.622849100Z",
     "start_time": "2024-07-21T14:46:13.317911700Z"
    }
   },
   "outputs": [],
   "execution_count": 31
  },
  {
   "cell_type": "markdown",
   "source": [
    "# Merge datasets"
   ],
   "metadata": {
    "collapsed": false
   }
  },
  {
   "cell_type": "code",
   "source": [
    "# Read\n",
    "fires_1 = pd.read_csv('fires-merged-1.csv')\n",
    "fires_2 = pd.read_csv('fires-merged-2.csv')\n",
    "fires_3 = pd.read_csv('fires-merged-3.csv')"
   ],
   "metadata": {
    "collapsed": false,
    "ExecuteTime": {
     "end_time": "2024-07-21T15:09:16.049520300Z",
     "start_time": "2024-07-21T15:09:15.890338Z"
    }
   },
   "outputs": [],
   "execution_count": 2
  },
  {
   "cell_type": "code",
   "source": [
    "fires_merged_df = pd.concat([fires_1, fires_2, fires_3])"
   ],
   "metadata": {
    "collapsed": false,
    "ExecuteTime": {
     "end_time": "2024-07-21T15:09:16.497296600Z",
     "start_time": "2024-07-21T15:09:16.485305200Z"
    }
   },
   "outputs": [],
   "execution_count": 3
  },
  {
   "cell_type": "code",
   "source": [
    "fires_merged_df"
   ],
   "metadata": {
    "collapsed": false,
    "ExecuteTime": {
     "end_time": "2024-07-21T15:09:16.949102800Z",
     "start_time": "2024-07-21T15:09:16.935055100Z"
    }
   },
   "outputs": [
    {
     "data": {
      "text/plain": "       fire_id      lat       lon        date  hectares  \\\n0            0  50.9050 -126.9292  2000-03-10      6.00   \n1            1  49.2971 -122.2321  2000-08-21      0.20   \n2            2  55.8000 -124.8167  2005-06-20      0.01   \n3            3  49.8770 -121.5730  2000-08-06      0.10   \n4            4  49.0667 -121.8333  2000-07-28      0.10   \n...        ...      ...       ...         ...       ...   \n48757   148756  65.0282 -141.2460  2024-05-15      0.00   \n48758   148757  55.9370 -121.9170  2024-05-12    295.00   \n48759   148758  60.2150 -112.8720  2024-04-26      0.10   \n48760   148759  60.1950 -112.7960  2024-04-26      0.10   \n48761   148760  60.3920 -117.8960  2024-05-05      3.00   \n\n                STATION_NAME PROV_STATE_TERR_CODE  LATITUDE  LONGITUDE  \\\n0                 EGG ISLAND                   BC   51.1450 -127.50073   \n1                  PITT LAKE                   BC   49.2600 -122.31000   \n2             MESILINKA CAMP                   BC   56.0700 -124.30000   \n3                   LYTTON A                   BC   50.1328 -121.34550   \n4       VEDDER SOUTH LICKMAN                   BC   49.0600 -122.00000   \n...                      ...                  ...       ...        ...   \n48757          CLINTON CREEK                   YT   64.2800 -140.44000   \n48758  HUDSON HOPE BCHPA DAM                   BC   56.0100 -122.12000   \n48759             BEAR TOWER                   NT   60.3100 -113.14000   \n48760             BEAR TOWER                   NT   60.3100 -113.14000   \n48761          CAMERON HILLS                   NT   60.1800 -117.03000   \n\n       ELEVATION   distance  \n0           14.0  48.031939  \n1            7.6   6.992181  \n2          803.0  43.984046  \n3          224.9  32.742051  \n4           15.2  12.160548  \n...          ...        ...  \n48757      576.1  91.556968  \n48758      678.2  15.005006  \n48759      213.4  18.156877  \n48760      213.4  22.870821  \n48761      841.2  53.200459  \n\n[148763 rows x 11 columns]",
      "text/html": "<div>\n<style scoped>\n    .dataframe tbody tr th:only-of-type {\n        vertical-align: middle;\n    }\n\n    .dataframe tbody tr th {\n        vertical-align: top;\n    }\n\n    .dataframe thead th {\n        text-align: right;\n    }\n</style>\n<table border=\"1\" class=\"dataframe\">\n  <thead>\n    <tr style=\"text-align: right;\">\n      <th></th>\n      <th>fire_id</th>\n      <th>lat</th>\n      <th>lon</th>\n      <th>date</th>\n      <th>hectares</th>\n      <th>STATION_NAME</th>\n      <th>PROV_STATE_TERR_CODE</th>\n      <th>LATITUDE</th>\n      <th>LONGITUDE</th>\n      <th>ELEVATION</th>\n      <th>distance</th>\n    </tr>\n  </thead>\n  <tbody>\n    <tr>\n      <th>0</th>\n      <td>0</td>\n      <td>50.9050</td>\n      <td>-126.9292</td>\n      <td>2000-03-10</td>\n      <td>6.00</td>\n      <td>EGG ISLAND</td>\n      <td>BC</td>\n      <td>51.1450</td>\n      <td>-127.50073</td>\n      <td>14.0</td>\n      <td>48.031939</td>\n    </tr>\n    <tr>\n      <th>1</th>\n      <td>1</td>\n      <td>49.2971</td>\n      <td>-122.2321</td>\n      <td>2000-08-21</td>\n      <td>0.20</td>\n      <td>PITT LAKE</td>\n      <td>BC</td>\n      <td>49.2600</td>\n      <td>-122.31000</td>\n      <td>7.6</td>\n      <td>6.992181</td>\n    </tr>\n    <tr>\n      <th>2</th>\n      <td>2</td>\n      <td>55.8000</td>\n      <td>-124.8167</td>\n      <td>2005-06-20</td>\n      <td>0.01</td>\n      <td>MESILINKA CAMP</td>\n      <td>BC</td>\n      <td>56.0700</td>\n      <td>-124.30000</td>\n      <td>803.0</td>\n      <td>43.984046</td>\n    </tr>\n    <tr>\n      <th>3</th>\n      <td>3</td>\n      <td>49.8770</td>\n      <td>-121.5730</td>\n      <td>2000-08-06</td>\n      <td>0.10</td>\n      <td>LYTTON A</td>\n      <td>BC</td>\n      <td>50.1328</td>\n      <td>-121.34550</td>\n      <td>224.9</td>\n      <td>32.742051</td>\n    </tr>\n    <tr>\n      <th>4</th>\n      <td>4</td>\n      <td>49.0667</td>\n      <td>-121.8333</td>\n      <td>2000-07-28</td>\n      <td>0.10</td>\n      <td>VEDDER SOUTH LICKMAN</td>\n      <td>BC</td>\n      <td>49.0600</td>\n      <td>-122.00000</td>\n      <td>15.2</td>\n      <td>12.160548</td>\n    </tr>\n    <tr>\n      <th>...</th>\n      <td>...</td>\n      <td>...</td>\n      <td>...</td>\n      <td>...</td>\n      <td>...</td>\n      <td>...</td>\n      <td>...</td>\n      <td>...</td>\n      <td>...</td>\n      <td>...</td>\n      <td>...</td>\n    </tr>\n    <tr>\n      <th>48757</th>\n      <td>148756</td>\n      <td>65.0282</td>\n      <td>-141.2460</td>\n      <td>2024-05-15</td>\n      <td>0.00</td>\n      <td>CLINTON CREEK</td>\n      <td>YT</td>\n      <td>64.2800</td>\n      <td>-140.44000</td>\n      <td>576.1</td>\n      <td>91.556968</td>\n    </tr>\n    <tr>\n      <th>48758</th>\n      <td>148757</td>\n      <td>55.9370</td>\n      <td>-121.9170</td>\n      <td>2024-05-12</td>\n      <td>295.00</td>\n      <td>HUDSON HOPE BCHPA DAM</td>\n      <td>BC</td>\n      <td>56.0100</td>\n      <td>-122.12000</td>\n      <td>678.2</td>\n      <td>15.005006</td>\n    </tr>\n    <tr>\n      <th>48759</th>\n      <td>148758</td>\n      <td>60.2150</td>\n      <td>-112.8720</td>\n      <td>2024-04-26</td>\n      <td>0.10</td>\n      <td>BEAR TOWER</td>\n      <td>NT</td>\n      <td>60.3100</td>\n      <td>-113.14000</td>\n      <td>213.4</td>\n      <td>18.156877</td>\n    </tr>\n    <tr>\n      <th>48760</th>\n      <td>148759</td>\n      <td>60.1950</td>\n      <td>-112.7960</td>\n      <td>2024-04-26</td>\n      <td>0.10</td>\n      <td>BEAR TOWER</td>\n      <td>NT</td>\n      <td>60.3100</td>\n      <td>-113.14000</td>\n      <td>213.4</td>\n      <td>22.870821</td>\n    </tr>\n    <tr>\n      <th>48761</th>\n      <td>148760</td>\n      <td>60.3920</td>\n      <td>-117.8960</td>\n      <td>2024-05-05</td>\n      <td>3.00</td>\n      <td>CAMERON HILLS</td>\n      <td>NT</td>\n      <td>60.1800</td>\n      <td>-117.03000</td>\n      <td>841.2</td>\n      <td>53.200459</td>\n    </tr>\n  </tbody>\n</table>\n<p>148763 rows × 11 columns</p>\n</div>"
     },
     "execution_count": 4,
     "metadata": {},
     "output_type": "execute_result"
    }
   ],
   "execution_count": 4
  },
  {
   "cell_type": "code",
   "source": [
    "fires_merged_df.to_csv('fires-merged.csv', index=False)"
   ],
   "metadata": {
    "collapsed": false,
    "ExecuteTime": {
     "end_time": "2024-07-21T15:09:19.233356600Z",
     "start_time": "2024-07-21T15:09:18.442055900Z"
    }
   },
   "outputs": [],
   "execution_count": 5
  }
 ],
 "metadata": {
  "kernelspec": {
   "display_name": "Python 3",
   "language": "python",
   "name": "python3"
  },
  "language_info": {
   "codemirror_mode": {
    "name": "ipython",
    "version": 2
   },
   "file_extension": ".py",
   "mimetype": "text/x-python",
   "name": "python",
   "nbconvert_exporter": "python",
   "pygments_lexer": "ipython2",
   "version": "2.7.6"
  }
 },
 "nbformat": 4,
 "nbformat_minor": 0
}
