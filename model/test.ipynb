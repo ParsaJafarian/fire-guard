{
 "cells": [
  {
   "cell_type": "code",
   "execution_count": 4,
   "metadata": {
    "collapsed": true,
    "ExecuteTime": {
     "end_time": "2024-07-18T21:07:23.710976800Z",
     "start_time": "2024-07-18T21:07:23.707916900Z"
    }
   },
   "outputs": [],
   "source": [
    "import json\n",
    "\n",
    "import pandas as pd\n",
    "from owslib.ogcapi.features import Features\n",
    "import json"
   ]
  },
  {
   "cell_type": "code",
   "execution_count": 2,
   "outputs": [],
   "source": [
    "features = Features('https://api.weather.gc.ca/')"
   ],
   "metadata": {
    "collapsed": false,
    "ExecuteTime": {
     "end_time": "2024-07-18T21:03:30.114010500Z",
     "start_time": "2024-07-18T21:03:30.008847600Z"
    }
   }
  },
  {
   "cell_type": "code",
   "execution_count": 17,
   "outputs": [],
   "source": [
    "climate_data = features.collection_items(\n",
    "    'climate-daily', CLIMATE_IDENTIFIER='1095790'\n",
    ")\n",
    "climate = [climate['properties'] for climate in climate_data['features']]"
   ],
   "metadata": {
    "collapsed": false,
    "ExecuteTime": {
     "end_time": "2024-07-18T21:21:49.983641100Z",
     "start_time": "2024-07-18T21:21:49.833544900Z"
    }
   }
  },
  {
   "cell_type": "code",
   "execution_count": 18,
   "outputs": [],
   "source": [
    "climate_df = pd.DataFrame(climate)"
   ],
   "metadata": {
    "collapsed": false,
    "ExecuteTime": {
     "end_time": "2024-07-18T21:21:51.263235Z",
     "start_time": "2024-07-18T21:21:51.255320500Z"
    }
   }
  },
  {
   "cell_type": "code",
   "execution_count": 19,
   "outputs": [
    {
     "data": {
      "text/plain": "     LOCAL_MONTH  TOTAL_RAIN           LOCAL_DATE MIN_TEMPERATURE_FLAG  \\\n0              6         0.0  1957-06-03 00:00:00                 None   \n1              7         0.0  1959-07-30 00:00:00                 None   \n2              7         0.0  1959-07-29 00:00:00                 None   \n3              5         0.0  1958-05-18 00:00:00                 None   \n4              6         0.0  1957-06-15 00:00:00                 None   \n..           ...         ...                  ...                  ...   \n424            7         0.0  1957-07-07 00:00:00                 None   \n425            7         0.0  1959-07-11 00:00:00                 None   \n426            6         0.0  1958-06-24 00:00:00                 None   \n427            8         0.0  1958-08-09 00:00:00                 None   \n428            9         0.0  1957-09-15 00:00:00                 None   \n\n    MIN_REL_HUMIDITY_FLAG HEATING_DEGREE_DAYS_FLAG  COOLING_DEGREE_DAYS  \\\n0                    None                     None                  0.0   \n1                    None                     None                  0.0   \n2                    None                     None                  0.0   \n3                    None                     None                  0.0   \n4                    None                     None                  0.0   \n..                    ...                      ...                  ...   \n424                  None                     None                  0.0   \n425                  None                     None                  0.0   \n426                  None                     None                  1.2   \n427                  None                     None                  0.0   \n428                  None                     None                  0.0   \n\n    TOTAL_RAIN_FLAG  LOCAL_YEAR  TOTAL_SNOW  ... DIRECTION_MAX_GUST  \\\n0              None        1957         0.0  ...               None   \n1              None        1959         0.0  ...               None   \n2              None        1959         0.0  ...               None   \n3              None        1958         0.0  ...               None   \n4              None        1957         0.0  ...               None   \n..              ...         ...         ...  ...                ...   \n424            None        1957         0.0  ...               None   \n425            None        1959         0.0  ...               None   \n426               T        1958         0.0  ...               None   \n427            None        1958         0.0  ...               None   \n428            None        1957         0.0  ...               None   \n\n    SPEED_MAX_GUST_FLAG  MAX_REL_HUMIDITY                 ID  \\\n0                  None              None   1095790.1957.6.3   \n1                  None              None  1095790.1959.7.30   \n2                  None              None  1095790.1959.7.29   \n3                  None              None  1095790.1958.5.18   \n4                  None              None  1095790.1957.6.15   \n..                  ...               ...                ...   \n424                None              None   1095790.1957.7.7   \n425                None              None  1095790.1959.7.11   \n426                None              None  1095790.1958.6.24   \n427                None              None   1095790.1958.8.9   \n428                None              None  1095790.1957.9.15   \n\n    COOLING_DEGREE_DAYS_FLAG MEAN_TEMPERATURE_FLAG  HEATING_DEGREE_DAYS  \\\n0                       None                  None                  2.4   \n1                       None                  None                  4.7   \n2                       None                  None                  4.9   \n3                       None                  None                  7.4   \n4                       None                  None                  6.9   \n..                       ...                   ...                  ...   \n424                     None                  None                  8.8   \n425                     None                  None                  0.5   \n426                     None                  None                  0.0   \n427                     None                  None                  4.6   \n428                     None                  None                  6.6   \n\n    SNOW_ON_GROUND MIN_TEMPERATURE MAX_TEMPERATURE_FLAG  \n0             None             5.6                 None  \n1             None            -0.6                 None  \n2             None             6.1                 None  \n3             None            -5.6                 None  \n4             None             3.3                 None  \n..             ...             ...                  ...  \n424           None             1.1                 None  \n425           None             6.1                 None  \n426           None             7.8                 None  \n427           None             1.1                 None  \n428           None            -1.1                 None  \n\n[429 rows x 34 columns]",
      "text/html": "<div>\n<style scoped>\n    .dataframe tbody tr th:only-of-type {\n        vertical-align: middle;\n    }\n\n    .dataframe tbody tr th {\n        vertical-align: top;\n    }\n\n    .dataframe thead th {\n        text-align: right;\n    }\n</style>\n<table border=\"1\" class=\"dataframe\">\n  <thead>\n    <tr style=\"text-align: right;\">\n      <th></th>\n      <th>LOCAL_MONTH</th>\n      <th>TOTAL_RAIN</th>\n      <th>LOCAL_DATE</th>\n      <th>MIN_TEMPERATURE_FLAG</th>\n      <th>MIN_REL_HUMIDITY_FLAG</th>\n      <th>HEATING_DEGREE_DAYS_FLAG</th>\n      <th>COOLING_DEGREE_DAYS</th>\n      <th>TOTAL_RAIN_FLAG</th>\n      <th>LOCAL_YEAR</th>\n      <th>TOTAL_SNOW</th>\n      <th>...</th>\n      <th>DIRECTION_MAX_GUST</th>\n      <th>SPEED_MAX_GUST_FLAG</th>\n      <th>MAX_REL_HUMIDITY</th>\n      <th>ID</th>\n      <th>COOLING_DEGREE_DAYS_FLAG</th>\n      <th>MEAN_TEMPERATURE_FLAG</th>\n      <th>HEATING_DEGREE_DAYS</th>\n      <th>SNOW_ON_GROUND</th>\n      <th>MIN_TEMPERATURE</th>\n      <th>MAX_TEMPERATURE_FLAG</th>\n    </tr>\n  </thead>\n  <tbody>\n    <tr>\n      <th>0</th>\n      <td>6</td>\n      <td>0.0</td>\n      <td>1957-06-03 00:00:00</td>\n      <td>None</td>\n      <td>None</td>\n      <td>None</td>\n      <td>0.0</td>\n      <td>None</td>\n      <td>1957</td>\n      <td>0.0</td>\n      <td>...</td>\n      <td>None</td>\n      <td>None</td>\n      <td>None</td>\n      <td>1095790.1957.6.3</td>\n      <td>None</td>\n      <td>None</td>\n      <td>2.4</td>\n      <td>None</td>\n      <td>5.6</td>\n      <td>None</td>\n    </tr>\n    <tr>\n      <th>1</th>\n      <td>7</td>\n      <td>0.0</td>\n      <td>1959-07-30 00:00:00</td>\n      <td>None</td>\n      <td>None</td>\n      <td>None</td>\n      <td>0.0</td>\n      <td>None</td>\n      <td>1959</td>\n      <td>0.0</td>\n      <td>...</td>\n      <td>None</td>\n      <td>None</td>\n      <td>None</td>\n      <td>1095790.1959.7.30</td>\n      <td>None</td>\n      <td>None</td>\n      <td>4.7</td>\n      <td>None</td>\n      <td>-0.6</td>\n      <td>None</td>\n    </tr>\n    <tr>\n      <th>2</th>\n      <td>7</td>\n      <td>0.0</td>\n      <td>1959-07-29 00:00:00</td>\n      <td>None</td>\n      <td>None</td>\n      <td>None</td>\n      <td>0.0</td>\n      <td>None</td>\n      <td>1959</td>\n      <td>0.0</td>\n      <td>...</td>\n      <td>None</td>\n      <td>None</td>\n      <td>None</td>\n      <td>1095790.1959.7.29</td>\n      <td>None</td>\n      <td>None</td>\n      <td>4.9</td>\n      <td>None</td>\n      <td>6.1</td>\n      <td>None</td>\n    </tr>\n    <tr>\n      <th>3</th>\n      <td>5</td>\n      <td>0.0</td>\n      <td>1958-05-18 00:00:00</td>\n      <td>None</td>\n      <td>None</td>\n      <td>None</td>\n      <td>0.0</td>\n      <td>None</td>\n      <td>1958</td>\n      <td>0.0</td>\n      <td>...</td>\n      <td>None</td>\n      <td>None</td>\n      <td>None</td>\n      <td>1095790.1958.5.18</td>\n      <td>None</td>\n      <td>None</td>\n      <td>7.4</td>\n      <td>None</td>\n      <td>-5.6</td>\n      <td>None</td>\n    </tr>\n    <tr>\n      <th>4</th>\n      <td>6</td>\n      <td>0.0</td>\n      <td>1957-06-15 00:00:00</td>\n      <td>None</td>\n      <td>None</td>\n      <td>None</td>\n      <td>0.0</td>\n      <td>None</td>\n      <td>1957</td>\n      <td>0.0</td>\n      <td>...</td>\n      <td>None</td>\n      <td>None</td>\n      <td>None</td>\n      <td>1095790.1957.6.15</td>\n      <td>None</td>\n      <td>None</td>\n      <td>6.9</td>\n      <td>None</td>\n      <td>3.3</td>\n      <td>None</td>\n    </tr>\n    <tr>\n      <th>...</th>\n      <td>...</td>\n      <td>...</td>\n      <td>...</td>\n      <td>...</td>\n      <td>...</td>\n      <td>...</td>\n      <td>...</td>\n      <td>...</td>\n      <td>...</td>\n      <td>...</td>\n      <td>...</td>\n      <td>...</td>\n      <td>...</td>\n      <td>...</td>\n      <td>...</td>\n      <td>...</td>\n      <td>...</td>\n      <td>...</td>\n      <td>...</td>\n      <td>...</td>\n      <td>...</td>\n    </tr>\n    <tr>\n      <th>424</th>\n      <td>7</td>\n      <td>0.0</td>\n      <td>1957-07-07 00:00:00</td>\n      <td>None</td>\n      <td>None</td>\n      <td>None</td>\n      <td>0.0</td>\n      <td>None</td>\n      <td>1957</td>\n      <td>0.0</td>\n      <td>...</td>\n      <td>None</td>\n      <td>None</td>\n      <td>None</td>\n      <td>1095790.1957.7.7</td>\n      <td>None</td>\n      <td>None</td>\n      <td>8.8</td>\n      <td>None</td>\n      <td>1.1</td>\n      <td>None</td>\n    </tr>\n    <tr>\n      <th>425</th>\n      <td>7</td>\n      <td>0.0</td>\n      <td>1959-07-11 00:00:00</td>\n      <td>None</td>\n      <td>None</td>\n      <td>None</td>\n      <td>0.0</td>\n      <td>None</td>\n      <td>1959</td>\n      <td>0.0</td>\n      <td>...</td>\n      <td>None</td>\n      <td>None</td>\n      <td>None</td>\n      <td>1095790.1959.7.11</td>\n      <td>None</td>\n      <td>None</td>\n      <td>0.5</td>\n      <td>None</td>\n      <td>6.1</td>\n      <td>None</td>\n    </tr>\n    <tr>\n      <th>426</th>\n      <td>6</td>\n      <td>0.0</td>\n      <td>1958-06-24 00:00:00</td>\n      <td>None</td>\n      <td>None</td>\n      <td>None</td>\n      <td>1.2</td>\n      <td>T</td>\n      <td>1958</td>\n      <td>0.0</td>\n      <td>...</td>\n      <td>None</td>\n      <td>None</td>\n      <td>None</td>\n      <td>1095790.1958.6.24</td>\n      <td>None</td>\n      <td>None</td>\n      <td>0.0</td>\n      <td>None</td>\n      <td>7.8</td>\n      <td>None</td>\n    </tr>\n    <tr>\n      <th>427</th>\n      <td>8</td>\n      <td>0.0</td>\n      <td>1958-08-09 00:00:00</td>\n      <td>None</td>\n      <td>None</td>\n      <td>None</td>\n      <td>0.0</td>\n      <td>None</td>\n      <td>1958</td>\n      <td>0.0</td>\n      <td>...</td>\n      <td>None</td>\n      <td>None</td>\n      <td>None</td>\n      <td>1095790.1958.8.9</td>\n      <td>None</td>\n      <td>None</td>\n      <td>4.6</td>\n      <td>None</td>\n      <td>1.1</td>\n      <td>None</td>\n    </tr>\n    <tr>\n      <th>428</th>\n      <td>9</td>\n      <td>0.0</td>\n      <td>1957-09-15 00:00:00</td>\n      <td>None</td>\n      <td>None</td>\n      <td>None</td>\n      <td>0.0</td>\n      <td>None</td>\n      <td>1957</td>\n      <td>0.0</td>\n      <td>...</td>\n      <td>None</td>\n      <td>None</td>\n      <td>None</td>\n      <td>1095790.1957.9.15</td>\n      <td>None</td>\n      <td>None</td>\n      <td>6.6</td>\n      <td>None</td>\n      <td>-1.1</td>\n      <td>None</td>\n    </tr>\n  </tbody>\n</table>\n<p>429 rows × 34 columns</p>\n</div>"
     },
     "execution_count": 19,
     "metadata": {},
     "output_type": "execute_result"
    }
   ],
   "source": [
    "climate_df"
   ],
   "metadata": {
    "collapsed": false,
    "ExecuteTime": {
     "end_time": "2024-07-18T21:21:51.714047100Z",
     "start_time": "2024-07-18T21:21:51.699046200Z"
    }
   }
  },
  {
   "cell_type": "code",
   "execution_count": null,
   "outputs": [],
   "source": [],
   "metadata": {
    "collapsed": false
   }
  }
 ],
 "metadata": {
  "kernelspec": {
   "display_name": "Python 3",
   "language": "python",
   "name": "python3"
  },
  "language_info": {
   "codemirror_mode": {
    "name": "ipython",
    "version": 2
   },
   "file_extension": ".py",
   "mimetype": "text/x-python",
   "name": "python",
   "nbconvert_exporter": "python",
   "pygments_lexer": "ipython2",
   "version": "2.7.6"
  }
 },
 "nbformat": 4,
 "nbformat_minor": 0
}
