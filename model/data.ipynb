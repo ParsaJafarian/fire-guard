{
 "cells": [
  {
   "cell_type": "markdown",
   "source": [
    "# Downloading dataset\n",
    "Attempting to download historical weather datasets by using [MSC GeoMet API](https://eccc-msc.github.io/open-data/msc-geomet/readme_en/)\n",
    "Data should include temperature, rain, wind, coordinates"
   ],
   "metadata": {
    "collapsed": false
   }
  },
  {
   "cell_type": "markdown",
   "source": [
    "Querying WMS from MSC by using Regional Ensemble Prediction System layer `REPS.DIAG.3_PRMM.ERGE5` : contains the probability that the quantity of precipitations will be equal or greater than 5mm"
   ],
   "metadata": {
    "collapsed": false
   }
  },
  {
   "cell_type": "code",
   "execution_count": 2,
   "outputs": [],
   "source": [
    "# Importation of Python modules\n",
    "from datetime import datetime, timedelta\n",
    "import re\n",
    "import warnings\n",
    "\n",
    "# The following modules must first be installed to use\n",
    "# this code out of Jupyter Notebook\n",
    "import matplotlib.pyplot as plt\n",
    "import matplotlib.dates as mdates\n",
    "import numpy\n",
    "from owslib.wms import WebMapService\n",
    "import pandas\n",
    "from tabulate import tabulate\n",
    "\n",
    "# Ignore warnings from the OWSLib module\n",
    "warnings.filterwarnings('ignore', module='owslib', category=UserWarning)\n",
    "\n",
    "# Parameters choice\n",
    "# Layer:\n",
    "layer = 'REPS.DIAG.3_PRMM.ERGE5'\n",
    "# Coordinates:\n",
    "y, x = 49.288, -123.116\n",
    "# Local time zone (in this exemple, the local time zone is UTC-07:00):\n",
    "time_zone = -7"
   ],
   "metadata": {
    "collapsed": false,
    "ExecuteTime": {
     "end_time": "2024-07-12T20:18:22.776004300Z",
     "start_time": "2024-07-12T20:18:22.773870100Z"
    }
   }
  },
  {
   "cell_type": "markdown",
   "source": [
    "Bounding Box parameters `bbox`"
   ],
   "metadata": {
    "collapsed": false
   }
  },
  {
   "cell_type": "code",
   "execution_count": 3,
   "outputs": [],
   "source": [
    "# bbox parameter\n",
    "min_x, min_y, max_x, max_y = x - 0.25, y - 0.25, x + 0.25, y + 0.25"
   ],
   "metadata": {
    "collapsed": false,
    "ExecuteTime": {
     "end_time": "2024-07-12T20:18:50.093012500Z",
     "start_time": "2024-07-12T20:18:50.090020800Z"
    }
   }
  },
  {
   "cell_type": "code",
   "execution_count": 4,
   "outputs": [],
   "source": [
    "# WMS service connection\n",
    "wms = WebMapService('https://geo.weather.gc.ca/geomet?SERVICE=WMS' +\n",
    "                    '&REQUEST=GetCapabilities',\n",
    "                    version='1.3.0',\n",
    "                    timeout=300)"
   ],
   "metadata": {
    "collapsed": false,
    "ExecuteTime": {
     "end_time": "2024-07-12T20:19:10.593434500Z",
     "start_time": "2024-07-12T20:19:02.339323400Z"
    }
   }
  },
  {
   "cell_type": "code",
   "execution_count": null,
   "outputs": [],
   "source": [],
   "metadata": {
    "collapsed": false
   }
  }
 ],
 "metadata": {
  "kernelspec": {
   "display_name": "Python 3",
   "language": "python",
   "name": "python3"
  },
  "language_info": {
   "codemirror_mode": {
    "name": "ipython",
    "version": 2
   },
   "file_extension": ".py",
   "mimetype": "text/x-python",
   "name": "python",
   "nbconvert_exporter": "python",
   "pygments_lexer": "ipython2",
   "version": "2.7.6"
  }
 },
 "nbformat": 4,
 "nbformat_minor": 0
}
