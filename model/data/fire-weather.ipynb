{
 "cells": [
  {
   "metadata": {},
   "cell_type": "markdown",
   "source": [
    "# Weather data\n",
    "This notebook merges the [Canadian Wildfire Dataset](https://www.kaggle.com/datasets/ulasozdemir/wildfires-in-canada-19502021) from Kaggle and [Canadian Wildland Fire Information System](https://cwfis.cfs.nrcan.gc.ca/downloads/activefires/) with [weather data](https://api.weather.gc.ca/collections/climate-daily?lang=en) from Environment and Climate Change Canada (ECCC) and Meteorological Service of Canada (MSC) by using the [MSC GeoMet API](https://eccc-msc.github.io/open-data/msc-geomet/readme_en/). To do this, we use the merged dataset (fire + nearest station) to associate each wildfire point with weather data in the [daily climate observation collection](https://api.weather.gc.ca/collections/climate-daily?lang=en)"
   ],
   "id": "161fdad3415f33be"
  },
  {
   "cell_type": "code",
   "id": "initial_id",
   "metadata": {
    "collapsed": true,
    "ExecuteTime": {
     "end_time": "2024-07-24T00:28:21.698464Z",
     "start_time": "2024-07-24T00:28:21.300971Z"
    }
   },
   "source": [
    "import pandas as pd\n",
    "from owslib.ogcapi.features import Features"
   ],
   "outputs": [],
   "execution_count": 1
  },
  {
   "cell_type": "code",
   "source": [
    "features = Features('https://api.weather.gc.ca/')"
   ],
   "metadata": {
    "collapsed": false,
    "ExecuteTime": {
     "end_time": "2024-07-24T00:28:21.794136Z",
     "start_time": "2024-07-24T00:28:21.699490Z"
    }
   },
   "id": "23425d83bcfb8894",
   "outputs": [],
   "execution_count": 2
  },
  {
   "cell_type": "code",
   "source": [
    "wildfire_df = pd.read_csv('fires-merged-3.csv')"
   ],
   "metadata": {
    "collapsed": false,
    "ExecuteTime": {
     "end_time": "2024-07-24T00:28:21.847793Z",
     "start_time": "2024-07-24T00:28:21.794136Z"
    }
   },
   "id": "422e3e002d6cc4d",
   "outputs": [],
   "execution_count": 3
  },
  {
   "cell_type": "code",
   "source": [
    "# Repeat for smaller wildfires because API calls crashes, so split into smaller datasets\n",
    "small_df1 = wildfire_df[:25000]\n",
    "small_df2 = wildfire_df[25000:]"
   ],
   "metadata": {
    "collapsed": false,
    "ExecuteTime": {
     "end_time": "2024-07-24T00:28:21.850934Z",
     "start_time": "2024-07-24T00:28:21.847793Z"
    }
   },
   "id": "490082bce117012b",
   "outputs": [],
   "execution_count": 4
  },
  {
   "metadata": {},
   "cell_type": "markdown",
   "source": [
    "## Querying MSC GeoMet API"
   ],
   "id": "620a7200b2412f7b"
  },
  {
   "metadata": {
    "ExecuteTime": {
     "end_time": "2024-07-24T00:28:21.856628Z",
     "start_time": "2024-07-24T00:28:21.851934Z"
    }
   },
   "cell_type": "code",
   "source": [
    "columns = ['TOTAL_RAIN_FLAG', 'MEAN_TEMPERATURE_FLAG', 'MIN_REL_HUMIDITY', 'HEATING_DEGREE_DAYS_FLAG', 'ID', 'MAX_TEMPERATURE', 'MAX_TEMPERATURE_FLAG', 'MIN_TEMPERATURE', 'TOTAL_RAIN', 'DIRECTION_MAX_GUST_FLAG', 'LOCAL_DAY', 'LOCAL_DATE', 'SNOW_ON_GROUND', 'PROVINCE_CODE', 'DIRECTION_MAX_GUST', 'COOLING_DEGREE_DAYS', 'SPEED_MAX_GUST_FLAG', 'MAX_REL_HUMIDITY_FLAG', 'MIN_TEMPERATURE_FLAG', 'TOTAL_PRECIPITATION_FLAG', 'STATION_NAME', 'LOCAL_YEAR', 'LOCAL_MONTH', 'MIN_REL_HUMIDITY_FLAG', 'TOTAL_SNOW_FLAG', 'MEAN_TEMPERATURE', 'CLIMATE_IDENTIFIER', 'SNOW_ON_GROUND_FLAG', 'TOTAL_SNOW', 'COOLING_DEGREE_DAYS_FLAG', 'SPEED_MAX_GUST', 'HEATING_DEGREE_DAYS', 'MAX_REL_HUMIDITY', 'TOTAL_PRECIPITATION']"
   ],
   "id": "52482e64f64ec968",
   "outputs": [],
   "execution_count": 5
  },
  {
   "metadata": {
    "ExecuteTime": {
     "end_time": "2024-07-24T01:03:46.024982Z",
     "start_time": "2024-07-24T00:28:21.856628Z"
    }
   },
   "cell_type": "code",
   "source": [
    "rows = []\n",
    "\n",
    "# Loop over every row in wildfire\n",
    "for _, row in small_df2.iterrows():\n",
    "    # Query every wildfire by using date and station name\n",
    "    climate_data = features.collection_items(\n",
    "        'climate-daily', LOCAL_DATE=row['date'], STATION_NAME=row['STATION_NAME']\n",
    "    )\n",
    "    \n",
    "    # If there is a match\n",
    "    if climate_data['features']:\n",
    "        # Get weather data\n",
    "        properties = climate_data['features'][0]['properties']\n",
    "\n",
    "        # Merge old wildfire data with associated weather data\n",
    "        fire_data = row.to_dict()\n",
    "        new_row = {**fire_data, **properties}\n",
    "        \n",
    "        # Add row\n",
    "        rows.append(new_row)\n",
    "    else:\n",
    "        # Merge old wildfire data\n",
    "        fire_data = row.to_dict()\n",
    "        properties = {column: None for column in columns if column != 'STATION_NAME'} # Do not override STATION_NAME with None\n",
    "        # Merge empty weather data\n",
    "        new_row = {**fire_data, **properties}\n",
    "        rows.append(new_row)"
   ],
   "id": "7f4929e1398cf9dc",
   "outputs": [],
   "execution_count": 6
  },
  {
   "metadata": {
    "ExecuteTime": {
     "end_time": "2024-07-24T01:03:46.355764Z",
     "start_time": "2024-07-24T01:03:46.025981Z"
    }
   },
   "cell_type": "code",
   "source": [
    "df = pd.DataFrame(rows)\n",
    "df.to_csv('fires-weather-32.csv', index=False)"
   ],
   "id": "4c4895cdcfc84841",
   "outputs": [],
   "execution_count": 7
  },
  {
   "metadata": {},
   "cell_type": "markdown",
   "source": [
    "# Merge smaller datasets"
   ],
   "id": "cc3c03bc82538bd0"
  },
  {
   "cell_type": "code",
   "execution_count": 1,
   "outputs": [],
   "source": [
    "import pandas as pd"
   ],
   "metadata": {
    "collapsed": false,
    "ExecuteTime": {
     "end_time": "2024-07-24T01:20:27.531348400Z",
     "start_time": "2024-07-24T01:20:27.220618300Z"
    }
   },
   "id": "7c42a70094cf74d0"
  },
  {
   "metadata": {
    "ExecuteTime": {
     "end_time": "2024-07-24T01:20:44.214462900Z",
     "start_time": "2024-07-24T01:20:43.761215200Z"
    }
   },
   "cell_type": "code",
   "outputs": [],
   "execution_count": 3,
   "source": [
    "# Read\n",
    "fires_11 = pd.read_csv('fires-weather-11.csv')\n",
    "fires_12 = pd.read_csv('fires-weather-12.csv')\n",
    "fires_21 = pd.read_csv('fires-weather-21.csv')\n",
    "fires_22 = pd.read_csv('fires-weather-22.csv')\n",
    "fires_31 = pd.read_csv('fires-weather-31.csv')\n",
    "fires_32 = pd.read_csv('fires-weather-32.csv')"
   ],
   "id": "1ff0c119c386945c"
  },
  {
   "cell_type": "code",
   "execution_count": 4,
   "outputs": [],
   "source": "fires_weather_concat = pd.concat([fires_11, fires_12, fires_21, fires_22, fires_31, fires_32])",
   "metadata": {
    "collapsed": false,
    "ExecuteTime": {
     "end_time": "2024-07-24T01:22:13.062694600Z",
     "start_time": "2024-07-24T01:22:13.029362400Z"
    }
   },
   "id": "822e41b196d15f83"
  },
  {
   "cell_type": "code",
   "execution_count": 5,
   "outputs": [],
   "source": [
    "# Save to CSV\n",
    "fires_weather_concat.to_csv('fires-weather.csv', index=False)"
   ],
   "metadata": {
    "collapsed": false,
    "ExecuteTime": {
     "end_time": "2024-07-24T01:23:04.164024700Z",
     "start_time": "2024-07-24T01:23:02.653290700Z"
    }
   },
   "id": "872b0701d07d66f8"
  }
 ],
 "metadata": {
  "kernelspec": {
   "display_name": "Python 3",
   "language": "python",
   "name": "python3"
  },
  "language_info": {
   "codemirror_mode": {
    "name": "ipython",
    "version": 2
   },
   "file_extension": ".py",
   "mimetype": "text/x-python",
   "name": "python",
   "nbconvert_exporter": "python",
   "pygments_lexer": "ipython2",
   "version": "2.7.6"
  }
 },
 "nbformat": 4,
 "nbformat_minor": 5
}
