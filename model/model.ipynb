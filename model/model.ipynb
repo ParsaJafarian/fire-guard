{
 "nbformat": 4,
 "nbformat_minor": 0,
 "metadata": {
  "colab": {
   "provenance": [],
   "authorship_tag": "ABX9TyPqjYsUU9LvvfwzJDqlNaPa",
   "include_colab_link": true
  },
  "kernelspec": {
   "name": "python3",
   "language": "python",
   "display_name": "Python 3 (ipykernel)"
  },
  "language_info": {
   "name": "python"
  }
 },
 "cells": [
  {
   "cell_type": "markdown",
   "source": [
    "# Dataset"
   ],
   "metadata": {
    "collapsed": false
   }
  },
  {
   "cell_type": "code",
   "execution_count": 16,
   "outputs": [],
   "source": [
    "import pandas as pd\n",
    "import numpy as np"
   ],
   "metadata": {
    "collapsed": false,
    "ExecuteTime": {
     "end_time": "2024-07-08T01:09:45.972711Z",
     "start_time": "2024-07-08T01:09:45.904436900Z"
    }
   }
  },
  {
   "cell_type": "code",
   "source": [
    "df = pd.read_csv('1950-2021_fires_with_elevation.csv')\n",
    "x = df[['lat', 'lon', 'elevation']]\n",
    "y = df['hectares']"
   ],
   "metadata": {
    "id": "Ht06-RhMqZme",
    "ExecuteTime": {
     "end_time": "2024-07-08T01:09:45.981212Z",
     "start_time": "2024-07-08T01:09:45.906939700Z"
    }
   },
   "execution_count": 17,
   "outputs": []
  },
  {
   "cell_type": "code",
   "execution_count": 18,
   "outputs": [
    {
     "data": {
      "text/plain": "          lat      lon  elevation\n0      59.963 -128.172      690.0\n1      59.318 -132.172      834.0\n2      59.876 -131.922      852.0\n3      59.760 -132.808      957.0\n4      59.434 -126.172      429.0\n...       ...      ...        ...\n15025  58.818 -122.812      403.0\n15026  58.289 -121.729      392.0\n15027  58.818 -122.729      443.0\n15028  58.760 -122.729      301.0\n15029  58.789 -122.507      408.0\n\n[15030 rows x 3 columns]",
      "text/html": "<div>\n<style scoped>\n    .dataframe tbody tr th:only-of-type {\n        vertical-align: middle;\n    }\n\n    .dataframe tbody tr th {\n        vertical-align: top;\n    }\n\n    .dataframe thead th {\n        text-align: right;\n    }\n</style>\n<table border=\"1\" class=\"dataframe\">\n  <thead>\n    <tr style=\"text-align: right;\">\n      <th></th>\n      <th>lat</th>\n      <th>lon</th>\n      <th>elevation</th>\n    </tr>\n  </thead>\n  <tbody>\n    <tr>\n      <th>0</th>\n      <td>59.963</td>\n      <td>-128.172</td>\n      <td>690.0</td>\n    </tr>\n    <tr>\n      <th>1</th>\n      <td>59.318</td>\n      <td>-132.172</td>\n      <td>834.0</td>\n    </tr>\n    <tr>\n      <th>2</th>\n      <td>59.876</td>\n      <td>-131.922</td>\n      <td>852.0</td>\n    </tr>\n    <tr>\n      <th>3</th>\n      <td>59.760</td>\n      <td>-132.808</td>\n      <td>957.0</td>\n    </tr>\n    <tr>\n      <th>4</th>\n      <td>59.434</td>\n      <td>-126.172</td>\n      <td>429.0</td>\n    </tr>\n    <tr>\n      <th>...</th>\n      <td>...</td>\n      <td>...</td>\n      <td>...</td>\n    </tr>\n    <tr>\n      <th>15025</th>\n      <td>58.818</td>\n      <td>-122.812</td>\n      <td>403.0</td>\n    </tr>\n    <tr>\n      <th>15026</th>\n      <td>58.289</td>\n      <td>-121.729</td>\n      <td>392.0</td>\n    </tr>\n    <tr>\n      <th>15027</th>\n      <td>58.818</td>\n      <td>-122.729</td>\n      <td>443.0</td>\n    </tr>\n    <tr>\n      <th>15028</th>\n      <td>58.760</td>\n      <td>-122.729</td>\n      <td>301.0</td>\n    </tr>\n    <tr>\n      <th>15029</th>\n      <td>58.789</td>\n      <td>-122.507</td>\n      <td>408.0</td>\n    </tr>\n  </tbody>\n</table>\n<p>15030 rows × 3 columns</p>\n</div>"
     },
     "execution_count": 18,
     "metadata": {},
     "output_type": "execute_result"
    }
   ],
   "source": [
    "x"
   ],
   "metadata": {
    "collapsed": false,
    "ExecuteTime": {
     "end_time": "2024-07-08T01:09:46.013420Z",
     "start_time": "2024-07-08T01:09:45.925942700Z"
    }
   }
  },
  {
   "cell_type": "code",
   "execution_count": 19,
   "outputs": [
    {
     "data": {
      "text/plain": "0            8.0\n1            8.0\n2        12949.9\n3          241.1\n4            1.2\n          ...   \n15025        0.1\n15026        0.1\n15027        0.1\n15028        1.2\n15029        0.1\nName: hectares, Length: 15030, dtype: float64"
     },
     "execution_count": 19,
     "metadata": {},
     "output_type": "execute_result"
    }
   ],
   "source": [
    "y"
   ],
   "metadata": {
    "collapsed": false,
    "ExecuteTime": {
     "end_time": "2024-07-08T01:09:46.013420Z",
     "start_time": "2024-07-08T01:09:45.932639600Z"
    }
   }
  },
  {
   "cell_type": "markdown",
   "source": [
    "# Correlation between data"
   ],
   "metadata": {
    "collapsed": false
   }
  },
  {
   "cell_type": "code",
   "execution_count": 20,
   "outputs": [
    {
     "name": "stdout",
     "output_type": "stream",
     "text": [
      "0.11243475800501282\n",
      "-0.04525868154006124\n",
      "0.006771238508371042\n"
     ]
    }
   ],
   "source": [
    "print(df.hectares.corr(df.lat))\n",
    "print(df.hectares.corr(df.lon))\n",
    "print(df.hectares.corr(df.elevation))"
   ],
   "metadata": {
    "collapsed": false,
    "ExecuteTime": {
     "end_time": "2024-07-08T01:09:46.014428100Z",
     "start_time": "2024-07-08T01:09:45.939442600Z"
    }
   }
  },
  {
   "cell_type": "markdown",
   "source": [
    "Very small correlation between lat/lon/elevation and hectares"
   ],
   "metadata": {
    "collapsed": false
   }
  },
  {
   "cell_type": "markdown",
   "source": [
    "# One-Hot Encoding\n",
    "\n",
    "Biomes is a categorical feature, so perform one-hot encoding to turn it into different columns"
   ],
   "metadata": {
    "collapsed": false
   }
  },
  {
   "cell_type": "code",
   "execution_count": 21,
   "outputs": [],
   "source": [
    "from sklearn import preprocessing"
   ],
   "metadata": {
    "collapsed": false,
    "ExecuteTime": {
     "end_time": "2024-07-08T01:09:46.015425Z",
     "start_time": "2024-07-08T01:09:45.944513800Z"
    }
   }
  },
  {
   "cell_type": "code",
   "execution_count": 22,
   "outputs": [
    {
     "data": {
      "text/plain": "[array(['Boreal Cordillera', 'Boreal PLain', 'Montane Cordillera',\n        'Pacific Maritime', 'Prairie', 'Taiga Plain'], dtype=object)]"
     },
     "execution_count": 22,
     "metadata": {},
     "output_type": "execute_result"
    }
   ],
   "source": [
    "enc = preprocessing.OneHotEncoder()\n",
    "enc.fit(df[['biome']])\n",
    "enc.categories_"
   ],
   "metadata": {
    "collapsed": false,
    "ExecuteTime": {
     "end_time": "2024-07-08T01:09:46.016422600Z",
     "start_time": "2024-07-08T01:09:45.948295900Z"
    }
   }
  },
  {
   "cell_type": "code",
   "execution_count": 23,
   "outputs": [
    {
     "data": {
      "text/plain": "array([[1., 0., 0., 0., 0., 0.],\n       [1., 0., 0., 0., 0., 0.],\n       [1., 0., 0., 0., 0., 0.],\n       ...,\n       [0., 0., 0., 0., 0., 1.],\n       [0., 0., 0., 0., 0., 1.],\n       [0., 0., 0., 0., 0., 1.]])"
     },
     "execution_count": 23,
     "metadata": {},
     "output_type": "execute_result"
    }
   ],
   "source": [
    "one_hot = enc.transform(df[['biome']]).toarray()\n",
    "one_hot"
   ],
   "metadata": {
    "collapsed": false,
    "ExecuteTime": {
     "end_time": "2024-07-08T01:09:46.016422600Z",
     "start_time": "2024-07-08T01:09:45.954796600Z"
    }
   }
  },
  {
   "cell_type": "code",
   "execution_count": 24,
   "outputs": [
    {
     "data": {
      "text/plain": "      agency     lat      lon        date  hectares cause response_type  \\\n0         BC  59.963 -128.172  1953-05-26       8.0     H                 \n1         BC  59.318 -132.172  1950-06-22       8.0     L                 \n2         BC  59.876 -131.922  1950-06-04   12949.9     H                 \n3         BC  59.760 -132.808  1951-07-15     241.1     H                 \n4         BC  59.434 -126.172  1952-06-12       1.2     H                 \n...      ...     ...      ...         ...       ...   ...           ...   \n15025     BC  58.818 -122.812  1961-08-01       0.1     H                 \n15026     BC  58.289 -121.729  1961-08-11       0.1     H                 \n15027     BC  58.818 -122.729  1961-08-11       0.1     H                 \n15028     BC  58.760 -122.729  1961-08-13       1.2     H                 \n15029     BC  58.789 -122.507  1961-08-05       0.1     L                 \n\n                   biome  elevation  Boreal Cordillera  Boreal PLain  \\\n0      Boreal Cordillera      690.0                1.0           0.0   \n1      Boreal Cordillera      834.0                1.0           0.0   \n2      Boreal Cordillera      852.0                1.0           0.0   \n3      Boreal Cordillera      957.0                1.0           0.0   \n4      Boreal Cordillera      429.0                1.0           0.0   \n...                  ...        ...                ...           ...   \n15025        Taiga Plain      403.0                0.0           0.0   \n15026        Taiga Plain      392.0                0.0           0.0   \n15027        Taiga Plain      443.0                0.0           0.0   \n15028        Taiga Plain      301.0                0.0           0.0   \n15029        Taiga Plain      408.0                0.0           0.0   \n\n       Montane Cordillera  Pacific Maritime  Prairie  Taiga Plain  \n0                     0.0               0.0      0.0          0.0  \n1                     0.0               0.0      0.0          0.0  \n2                     0.0               0.0      0.0          0.0  \n3                     0.0               0.0      0.0          0.0  \n4                     0.0               0.0      0.0          0.0  \n...                   ...               ...      ...          ...  \n15025                 0.0               0.0      0.0          1.0  \n15026                 0.0               0.0      0.0          1.0  \n15027                 0.0               0.0      0.0          1.0  \n15028                 0.0               0.0      0.0          1.0  \n15029                 0.0               0.0      0.0          1.0  \n\n[15030 rows x 15 columns]",
      "text/html": "<div>\n<style scoped>\n    .dataframe tbody tr th:only-of-type {\n        vertical-align: middle;\n    }\n\n    .dataframe tbody tr th {\n        vertical-align: top;\n    }\n\n    .dataframe thead th {\n        text-align: right;\n    }\n</style>\n<table border=\"1\" class=\"dataframe\">\n  <thead>\n    <tr style=\"text-align: right;\">\n      <th></th>\n      <th>agency</th>\n      <th>lat</th>\n      <th>lon</th>\n      <th>date</th>\n      <th>hectares</th>\n      <th>cause</th>\n      <th>response_type</th>\n      <th>biome</th>\n      <th>elevation</th>\n      <th>Boreal Cordillera</th>\n      <th>Boreal PLain</th>\n      <th>Montane Cordillera</th>\n      <th>Pacific Maritime</th>\n      <th>Prairie</th>\n      <th>Taiga Plain</th>\n    </tr>\n  </thead>\n  <tbody>\n    <tr>\n      <th>0</th>\n      <td>BC</td>\n      <td>59.963</td>\n      <td>-128.172</td>\n      <td>1953-05-26</td>\n      <td>8.0</td>\n      <td>H</td>\n      <td></td>\n      <td>Boreal Cordillera</td>\n      <td>690.0</td>\n      <td>1.0</td>\n      <td>0.0</td>\n      <td>0.0</td>\n      <td>0.0</td>\n      <td>0.0</td>\n      <td>0.0</td>\n    </tr>\n    <tr>\n      <th>1</th>\n      <td>BC</td>\n      <td>59.318</td>\n      <td>-132.172</td>\n      <td>1950-06-22</td>\n      <td>8.0</td>\n      <td>L</td>\n      <td></td>\n      <td>Boreal Cordillera</td>\n      <td>834.0</td>\n      <td>1.0</td>\n      <td>0.0</td>\n      <td>0.0</td>\n      <td>0.0</td>\n      <td>0.0</td>\n      <td>0.0</td>\n    </tr>\n    <tr>\n      <th>2</th>\n      <td>BC</td>\n      <td>59.876</td>\n      <td>-131.922</td>\n      <td>1950-06-04</td>\n      <td>12949.9</td>\n      <td>H</td>\n      <td></td>\n      <td>Boreal Cordillera</td>\n      <td>852.0</td>\n      <td>1.0</td>\n      <td>0.0</td>\n      <td>0.0</td>\n      <td>0.0</td>\n      <td>0.0</td>\n      <td>0.0</td>\n    </tr>\n    <tr>\n      <th>3</th>\n      <td>BC</td>\n      <td>59.760</td>\n      <td>-132.808</td>\n      <td>1951-07-15</td>\n      <td>241.1</td>\n      <td>H</td>\n      <td></td>\n      <td>Boreal Cordillera</td>\n      <td>957.0</td>\n      <td>1.0</td>\n      <td>0.0</td>\n      <td>0.0</td>\n      <td>0.0</td>\n      <td>0.0</td>\n      <td>0.0</td>\n    </tr>\n    <tr>\n      <th>4</th>\n      <td>BC</td>\n      <td>59.434</td>\n      <td>-126.172</td>\n      <td>1952-06-12</td>\n      <td>1.2</td>\n      <td>H</td>\n      <td></td>\n      <td>Boreal Cordillera</td>\n      <td>429.0</td>\n      <td>1.0</td>\n      <td>0.0</td>\n      <td>0.0</td>\n      <td>0.0</td>\n      <td>0.0</td>\n      <td>0.0</td>\n    </tr>\n    <tr>\n      <th>...</th>\n      <td>...</td>\n      <td>...</td>\n      <td>...</td>\n      <td>...</td>\n      <td>...</td>\n      <td>...</td>\n      <td>...</td>\n      <td>...</td>\n      <td>...</td>\n      <td>...</td>\n      <td>...</td>\n      <td>...</td>\n      <td>...</td>\n      <td>...</td>\n      <td>...</td>\n    </tr>\n    <tr>\n      <th>15025</th>\n      <td>BC</td>\n      <td>58.818</td>\n      <td>-122.812</td>\n      <td>1961-08-01</td>\n      <td>0.1</td>\n      <td>H</td>\n      <td></td>\n      <td>Taiga Plain</td>\n      <td>403.0</td>\n      <td>0.0</td>\n      <td>0.0</td>\n      <td>0.0</td>\n      <td>0.0</td>\n      <td>0.0</td>\n      <td>1.0</td>\n    </tr>\n    <tr>\n      <th>15026</th>\n      <td>BC</td>\n      <td>58.289</td>\n      <td>-121.729</td>\n      <td>1961-08-11</td>\n      <td>0.1</td>\n      <td>H</td>\n      <td></td>\n      <td>Taiga Plain</td>\n      <td>392.0</td>\n      <td>0.0</td>\n      <td>0.0</td>\n      <td>0.0</td>\n      <td>0.0</td>\n      <td>0.0</td>\n      <td>1.0</td>\n    </tr>\n    <tr>\n      <th>15027</th>\n      <td>BC</td>\n      <td>58.818</td>\n      <td>-122.729</td>\n      <td>1961-08-11</td>\n      <td>0.1</td>\n      <td>H</td>\n      <td></td>\n      <td>Taiga Plain</td>\n      <td>443.0</td>\n      <td>0.0</td>\n      <td>0.0</td>\n      <td>0.0</td>\n      <td>0.0</td>\n      <td>0.0</td>\n      <td>1.0</td>\n    </tr>\n    <tr>\n      <th>15028</th>\n      <td>BC</td>\n      <td>58.760</td>\n      <td>-122.729</td>\n      <td>1961-08-13</td>\n      <td>1.2</td>\n      <td>H</td>\n      <td></td>\n      <td>Taiga Plain</td>\n      <td>301.0</td>\n      <td>0.0</td>\n      <td>0.0</td>\n      <td>0.0</td>\n      <td>0.0</td>\n      <td>0.0</td>\n      <td>1.0</td>\n    </tr>\n    <tr>\n      <th>15029</th>\n      <td>BC</td>\n      <td>58.789</td>\n      <td>-122.507</td>\n      <td>1961-08-05</td>\n      <td>0.1</td>\n      <td>L</td>\n      <td></td>\n      <td>Taiga Plain</td>\n      <td>408.0</td>\n      <td>0.0</td>\n      <td>0.0</td>\n      <td>0.0</td>\n      <td>0.0</td>\n      <td>0.0</td>\n      <td>1.0</td>\n    </tr>\n  </tbody>\n</table>\n<p>15030 rows × 15 columns</p>\n</div>"
     },
     "execution_count": 24,
     "metadata": {},
     "output_type": "execute_result"
    }
   ],
   "source": [
    "biomes = ['Boreal Cordillera', 'Boreal PLain', 'Montane Cordillera', 'Pacific Maritime', 'Prairie', 'Taiga Plain']\n",
    "df[biomes] = one_hot\n",
    "df"
   ],
   "metadata": {
    "collapsed": false,
    "ExecuteTime": {
     "end_time": "2024-07-08T01:09:46.021409300Z",
     "start_time": "2024-07-08T01:09:45.962216500Z"
    }
   }
  },
  {
   "cell_type": "markdown",
   "source": [
    "# Train Test Split"
   ],
   "metadata": {
    "collapsed": false
   }
  },
  {
   "cell_type": "code",
   "execution_count": 25,
   "outputs": [],
   "source": [
    "from sklearn.model_selection import train_test_split"
   ],
   "metadata": {
    "collapsed": false,
    "ExecuteTime": {
     "end_time": "2024-07-08T01:09:46.021409300Z",
     "start_time": "2024-07-08T01:09:45.977661100Z"
    }
   }
  },
  {
   "cell_type": "code",
   "execution_count": 26,
   "outputs": [],
   "source": [
    "x, y = df[['lat', 'lon', 'elevation'] + biomes], df['hectares']\n",
    "x_train, x_test, y_train, y_test = train_test_split(x, y, test_size=0.2, random_state=0)"
   ],
   "metadata": {
    "collapsed": false,
    "ExecuteTime": {
     "end_time": "2024-07-08T01:09:46.022406800Z",
     "start_time": "2024-07-08T01:09:45.979218200Z"
    }
   }
  },
  {
   "cell_type": "markdown",
   "source": [
    "# Model"
   ],
   "metadata": {
    "collapsed": false
   }
  },
  {
   "cell_type": "code",
   "execution_count": 27,
   "outputs": [],
   "source": [
    "from sklearn.linear_model import LinearRegression"
   ],
   "metadata": {
    "collapsed": false,
    "ExecuteTime": {
     "end_time": "2024-07-08T01:09:46.022406800Z",
     "start_time": "2024-07-08T01:09:45.988499800Z"
    }
   }
  },
  {
   "cell_type": "code",
   "execution_count": 28,
   "outputs": [],
   "source": [
    "from sklearn.metrics import mean_squared_error\n",
    "from sklearn.metrics import mean_absolute_error"
   ],
   "metadata": {
    "collapsed": false,
    "ExecuteTime": {
     "end_time": "2024-07-08T01:09:46.022406800Z",
     "start_time": "2024-07-08T01:09:45.991004800Z"
    }
   }
  },
  {
   "cell_type": "code",
   "execution_count": 33,
   "outputs": [
    {
     "data": {
      "text/plain": "np.float64(188.05793415008466)"
     },
     "execution_count": 33,
     "metadata": {},
     "output_type": "execute_result"
    }
   ],
   "source": [
    "model = LinearRegression()\n",
    "model.fit(x_train, y_train)\n",
    "\n",
    "predictions_test = model.predict(x_test)\n",
    "# loss = np.sqrt(mean_squared_error(predictions_test, y_test)) # Loss using RMSE method\n",
    "loss = mean_absolute_error(predictions_test, y_test)\n",
    "loss"
   ],
   "metadata": {
    "collapsed": false,
    "ExecuteTime": {
     "end_time": "2024-07-08T01:10:12.579478Z",
     "start_time": "2024-07-08T01:10:12.564931800Z"
    }
   }
  },
  {
   "cell_type": "code",
   "execution_count": 34,
   "outputs": [
    {
     "data": {
      "text/plain": "array([ 5.86886345e+01,  1.99142314e+01,  4.84483532e-02,  2.63893232e+03,\n        2.20069435e+02, -1.40309510e+03, -1.23328214e+03, -1.59601249e+03,\n        1.37338798e+03])"
     },
     "execution_count": 34,
     "metadata": {},
     "output_type": "execute_result"
    }
   ],
   "source": [
    "model.coef_"
   ],
   "metadata": {
    "collapsed": false,
    "ExecuteTime": {
     "end_time": "2024-07-08T01:10:13.653626900Z",
     "start_time": "2024-07-08T01:10:13.648597700Z"
    }
   }
  },
  {
   "cell_type": "code",
   "execution_count": 35,
   "outputs": [
    {
     "data": {
      "text/plain": "np.float64(800.9756435573934)"
     },
     "execution_count": 35,
     "metadata": {},
     "output_type": "execute_result"
    }
   ],
   "source": [
    "model.intercept_"
   ],
   "metadata": {
    "collapsed": false,
    "ExecuteTime": {
     "end_time": "2024-07-08T01:10:14.175507300Z",
     "start_time": "2024-07-08T01:10:14.170967900Z"
    }
   }
  }
 ]
}
