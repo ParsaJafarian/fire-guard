{
 "nbformat": 4,
 "nbformat_minor": 0,
 "metadata": {
  "colab": {
   "provenance": [],
   "authorship_tag": "ABX9TyPqjYsUU9LvvfwzJDqlNaPa",
   "include_colab_link": true
  },
  "kernelspec": {
   "name": "python3",
   "language": "python",
   "display_name": "Python 3 (ipykernel)"
  },
  "language_info": {
   "name": "python"
  }
 },
 "cells": [
  {
   "cell_type": "markdown",
   "source": [
    "# Import Libraries"
   ],
   "metadata": {
    "id": "A0g57HLku5Zn"
   }
  },
  {
   "cell_type": "code",
   "execution_count": 1,
   "metadata": {
    "id": "3RodBSalp4ym",
    "ExecuteTime": {
     "end_time": "2024-07-07T14:44:02.536943200Z",
     "start_time": "2024-07-07T14:44:01.927654900Z"
    }
   },
   "outputs": [],
   "source": [
    "import pandas as pd\n",
    "import numpy as np\n",
    "import matplotlib.pyplot as plt"
   ]
  },
  {
   "cell_type": "code",
   "source": [
    "df = pd.read_csv('1950-2021_fires_with_elevation.csv')\n",
    "x = df[['lat', 'lon']]\n",
    "y = df['hectares']"
   ],
   "metadata": {
    "id": "Ht06-RhMqZme",
    "ExecuteTime": {
     "end_time": "2024-07-07T14:58:34.878452400Z",
     "start_time": "2024-07-07T14:58:34.862020600Z"
    }
   },
   "execution_count": 5,
   "outputs": []
  },
  {
   "cell_type": "code",
   "execution_count": 6,
   "outputs": [
    {
     "data": {
      "text/plain": "          lat      lon\n0      59.963 -128.172\n1      59.318 -132.172\n2      59.876 -131.922\n3      59.760 -132.808\n4      59.434 -126.172\n...       ...      ...\n15025  58.818 -122.812\n15026  58.289 -121.729\n15027  58.818 -122.729\n15028  58.760 -122.729\n15029  58.789 -122.507\n\n[15030 rows x 2 columns]",
      "text/html": "<div>\n<style scoped>\n    .dataframe tbody tr th:only-of-type {\n        vertical-align: middle;\n    }\n\n    .dataframe tbody tr th {\n        vertical-align: top;\n    }\n\n    .dataframe thead th {\n        text-align: right;\n    }\n</style>\n<table border=\"1\" class=\"dataframe\">\n  <thead>\n    <tr style=\"text-align: right;\">\n      <th></th>\n      <th>lat</th>\n      <th>lon</th>\n    </tr>\n  </thead>\n  <tbody>\n    <tr>\n      <th>0</th>\n      <td>59.963</td>\n      <td>-128.172</td>\n    </tr>\n    <tr>\n      <th>1</th>\n      <td>59.318</td>\n      <td>-132.172</td>\n    </tr>\n    <tr>\n      <th>2</th>\n      <td>59.876</td>\n      <td>-131.922</td>\n    </tr>\n    <tr>\n      <th>3</th>\n      <td>59.760</td>\n      <td>-132.808</td>\n    </tr>\n    <tr>\n      <th>4</th>\n      <td>59.434</td>\n      <td>-126.172</td>\n    </tr>\n    <tr>\n      <th>...</th>\n      <td>...</td>\n      <td>...</td>\n    </tr>\n    <tr>\n      <th>15025</th>\n      <td>58.818</td>\n      <td>-122.812</td>\n    </tr>\n    <tr>\n      <th>15026</th>\n      <td>58.289</td>\n      <td>-121.729</td>\n    </tr>\n    <tr>\n      <th>15027</th>\n      <td>58.818</td>\n      <td>-122.729</td>\n    </tr>\n    <tr>\n      <th>15028</th>\n      <td>58.760</td>\n      <td>-122.729</td>\n    </tr>\n    <tr>\n      <th>15029</th>\n      <td>58.789</td>\n      <td>-122.507</td>\n    </tr>\n  </tbody>\n</table>\n<p>15030 rows × 2 columns</p>\n</div>"
     },
     "execution_count": 6,
     "metadata": {},
     "output_type": "execute_result"
    }
   ],
   "source": [
    "x"
   ],
   "metadata": {
    "collapsed": false,
    "ExecuteTime": {
     "end_time": "2024-07-07T14:58:35.433960700Z",
     "start_time": "2024-07-07T14:58:35.426399200Z"
    }
   }
  },
  {
   "cell_type": "code",
   "execution_count": 9,
   "outputs": [
    {
     "data": {
      "text/plain": "0            8.0\n1            8.0\n2        12949.9\n3          241.1\n4            1.2\n          ...   \n15025        0.1\n15026        0.1\n15027        0.1\n15028        1.2\n15029        0.1\nName: hectares, Length: 15030, dtype: float64"
     },
     "execution_count": 9,
     "metadata": {},
     "output_type": "execute_result"
    }
   ],
   "source": [
    "y"
   ],
   "metadata": {
    "collapsed": false,
    "ExecuteTime": {
     "end_time": "2024-07-07T15:02:48.467584700Z",
     "start_time": "2024-07-07T15:02:48.461099800Z"
    }
   }
  },
  {
   "cell_type": "code",
   "execution_count": 10,
   "outputs": [
    {
     "data": {
      "text/plain": "np.float64(0.006771238508371042)"
     },
     "execution_count": 10,
     "metadata": {},
     "output_type": "execute_result"
    }
   ],
   "source": [
    "df.hectares.corr(df.elevation)"
   ],
   "metadata": {
    "collapsed": false,
    "ExecuteTime": {
     "end_time": "2024-07-07T15:06:25.931940800Z",
     "start_time": "2024-07-07T15:06:25.927016500Z"
    }
   }
  },
  {
   "cell_type": "markdown",
   "source": [
    "# Test Train Split"
   ],
   "metadata": {
    "id": "twBpPk0yuXRN"
   }
  },
  {
   "cell_type": "code",
   "source": [
    "from sklearn.model_selection import train_test_split\n",
    "x_train, x_test, y_train, y_test = train_test_split(x, y, test_size=0.2, random_state=0)"
   ],
   "metadata": {
    "id": "cIo3HhVxuAts"
   },
   "execution_count": null,
   "outputs": []
  }
 ]
}
