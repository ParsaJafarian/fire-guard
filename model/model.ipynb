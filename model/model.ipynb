{
 "nbformat": 4,
 "nbformat_minor": 0,
 "metadata": {
  "colab": {
   "provenance": [],
   "authorship_tag": "ABX9TyPqjYsUU9LvvfwzJDqlNaPa",
   "include_colab_link": true
  },
  "kernelspec": {
   "name": "python3",
   "language": "python",
   "display_name": "Python 3 (ipykernel)"
  },
  "language_info": {
   "name": "python"
  }
 },
 "cells": [
  {
   "cell_type": "markdown",
   "source": [
    "# Dataset"
   ],
   "metadata": {
    "collapsed": false
   }
  },
  {
   "cell_type": "code",
   "execution_count": 13,
   "outputs": [],
   "source": [
    "import pandas as pd\n",
    "import numpy as np\n",
    "import matplotlib.pyplot as plt"
   ],
   "metadata": {
    "collapsed": false,
    "ExecuteTime": {
     "end_time": "2024-07-07T22:46:30.576103600Z",
     "start_time": "2024-07-07T22:46:30.556437Z"
    }
   }
  },
  {
   "cell_type": "code",
   "source": [
    "df = pd.read_csv('1950-2021_fires_with_elevation.csv')\n",
    "x = df[['lat', 'lon', 'elevation']]\n",
    "y = df['hectares']"
   ],
   "metadata": {
    "id": "Ht06-RhMqZme",
    "ExecuteTime": {
     "end_time": "2024-07-07T22:52:46.820685300Z",
     "start_time": "2024-07-07T22:52:46.805844400Z"
    }
   },
   "execution_count": 43,
   "outputs": []
  },
  {
   "cell_type": "code",
   "execution_count": 40,
   "outputs": [
    {
     "data": {
      "text/plain": "          lat      lon  elevation\n0      59.963 -128.172      690.0\n1      59.318 -132.172      834.0\n2      59.876 -131.922      852.0\n3      59.760 -132.808      957.0\n4      59.434 -126.172      429.0\n...       ...      ...        ...\n15025  58.818 -122.812      403.0\n15026  58.289 -121.729      392.0\n15027  58.818 -122.729      443.0\n15028  58.760 -122.729      301.0\n15029  58.789 -122.507      408.0\n\n[15030 rows x 3 columns]",
      "text/html": "<div>\n<style scoped>\n    .dataframe tbody tr th:only-of-type {\n        vertical-align: middle;\n    }\n\n    .dataframe tbody tr th {\n        vertical-align: top;\n    }\n\n    .dataframe thead th {\n        text-align: right;\n    }\n</style>\n<table border=\"1\" class=\"dataframe\">\n  <thead>\n    <tr style=\"text-align: right;\">\n      <th></th>\n      <th>lat</th>\n      <th>lon</th>\n      <th>elevation</th>\n    </tr>\n  </thead>\n  <tbody>\n    <tr>\n      <th>0</th>\n      <td>59.963</td>\n      <td>-128.172</td>\n      <td>690.0</td>\n    </tr>\n    <tr>\n      <th>1</th>\n      <td>59.318</td>\n      <td>-132.172</td>\n      <td>834.0</td>\n    </tr>\n    <tr>\n      <th>2</th>\n      <td>59.876</td>\n      <td>-131.922</td>\n      <td>852.0</td>\n    </tr>\n    <tr>\n      <th>3</th>\n      <td>59.760</td>\n      <td>-132.808</td>\n      <td>957.0</td>\n    </tr>\n    <tr>\n      <th>4</th>\n      <td>59.434</td>\n      <td>-126.172</td>\n      <td>429.0</td>\n    </tr>\n    <tr>\n      <th>...</th>\n      <td>...</td>\n      <td>...</td>\n      <td>...</td>\n    </tr>\n    <tr>\n      <th>15025</th>\n      <td>58.818</td>\n      <td>-122.812</td>\n      <td>403.0</td>\n    </tr>\n    <tr>\n      <th>15026</th>\n      <td>58.289</td>\n      <td>-121.729</td>\n      <td>392.0</td>\n    </tr>\n    <tr>\n      <th>15027</th>\n      <td>58.818</td>\n      <td>-122.729</td>\n      <td>443.0</td>\n    </tr>\n    <tr>\n      <th>15028</th>\n      <td>58.760</td>\n      <td>-122.729</td>\n      <td>301.0</td>\n    </tr>\n    <tr>\n      <th>15029</th>\n      <td>58.789</td>\n      <td>-122.507</td>\n      <td>408.0</td>\n    </tr>\n  </tbody>\n</table>\n<p>15030 rows × 3 columns</p>\n</div>"
     },
     "execution_count": 40,
     "metadata": {},
     "output_type": "execute_result"
    }
   ],
   "source": [
    "x"
   ],
   "metadata": {
    "collapsed": false,
    "ExecuteTime": {
     "end_time": "2024-07-07T22:52:22.953982600Z",
     "start_time": "2024-07-07T22:52:22.946861800Z"
    }
   }
  },
  {
   "cell_type": "code",
   "execution_count": 29,
   "outputs": [
    {
     "data": {
      "text/plain": "0            8.0\n1            8.0\n2        12949.9\n3          241.1\n4            1.2\n          ...   \n15025        0.1\n15026        0.1\n15027        0.1\n15028        1.2\n15029        0.1\nName: hectares, Length: 15030, dtype: float64"
     },
     "execution_count": 29,
     "metadata": {},
     "output_type": "execute_result"
    }
   ],
   "source": [
    "y"
   ],
   "metadata": {
    "collapsed": false,
    "ExecuteTime": {
     "end_time": "2024-07-07T22:49:59.101767200Z",
     "start_time": "2024-07-07T22:49:59.093851600Z"
    }
   }
  },
  {
   "cell_type": "code",
   "execution_count": 15,
   "outputs": [],
   "source": [
    "from sklearn.model_selection import train_test_split"
   ],
   "metadata": {
    "collapsed": false,
    "ExecuteTime": {
     "end_time": "2024-07-07T22:46:30.583546300Z",
     "start_time": "2024-07-07T22:46:30.577607600Z"
    }
   }
  },
  {
   "cell_type": "code",
   "source": [
    "x_train, x_test, y_train, y_test = train_test_split(x, y, test_size=0.2, random_state=0)"
   ],
   "metadata": {
    "id": "cIo3HhVxuAts",
    "ExecuteTime": {
     "end_time": "2024-07-07T22:51:51.000589600Z",
     "start_time": "2024-07-07T22:51:50.993633400Z"
    }
   },
   "execution_count": 34,
   "outputs": []
  },
  {
   "cell_type": "markdown",
   "source": [
    "# Correlation between data"
   ],
   "metadata": {
    "collapsed": false
   }
  },
  {
   "cell_type": "code",
   "execution_count": 35,
   "outputs": [
    {
     "name": "stdout",
     "output_type": "stream",
     "text": [
      "0.11243475800501282\n",
      "-0.04525868154006124\n",
      "0.006771238508371042\n"
     ]
    }
   ],
   "source": [
    "print(df.hectares.corr(df.lat))\n",
    "print(df.hectares.corr(df.lon))\n",
    "print(df.hectares.corr(df.elevation))"
   ],
   "metadata": {
    "collapsed": false,
    "ExecuteTime": {
     "end_time": "2024-07-07T22:51:53.024928500Z",
     "start_time": "2024-07-07T22:51:53.020806100Z"
    }
   }
  },
  {
   "cell_type": "markdown",
   "source": [
    "# Model"
   ],
   "metadata": {
    "collapsed": false
   }
  },
  {
   "cell_type": "code",
   "execution_count": 36,
   "outputs": [],
   "source": [
    "from sklearn.linear_model import LinearRegression"
   ],
   "metadata": {
    "collapsed": false,
    "ExecuteTime": {
     "end_time": "2024-07-07T22:51:54.878766400Z",
     "start_time": "2024-07-07T22:51:54.875139400Z"
    }
   }
  },
  {
   "cell_type": "code",
   "execution_count": 37,
   "outputs": [],
   "source": [
    "from sklearn.metrics import mean_squared_error"
   ],
   "metadata": {
    "collapsed": false,
    "ExecuteTime": {
     "end_time": "2024-07-07T22:51:55.048948900Z",
     "start_time": "2024-07-07T22:51:55.045655600Z"
    }
   }
  },
  {
   "cell_type": "code",
   "execution_count": 42,
   "outputs": [
    {
     "data": {
      "text/plain": "np.float64(762.9501597682411)"
     },
     "execution_count": 42,
     "metadata": {},
     "output_type": "execute_result"
    }
   ],
   "source": [
    "model = LinearRegression()\n",
    "model.fit(x_train, y_train)\n",
    "\n",
    "predictions_test = model.predict(x_test)\n",
    "loss = np.sqrt(mean_squared_error(predictions_test, y_test))\n",
    "loss"
   ],
   "metadata": {
    "collapsed": false,
    "ExecuteTime": {
     "end_time": "2024-07-07T22:52:38.674187600Z",
     "start_time": "2024-07-07T22:52:38.667970400Z"
    }
   }
  },
  {
   "cell_type": "code",
   "execution_count": 21,
   "outputs": [
    {
     "name": "stderr",
     "output_type": "stream",
     "text": [
      "C:\\Users\\ethan\\PycharmProjects\\fire-guard\\model\\venv\\Lib\\site-packages\\sklearn\\base.py:493: UserWarning: X does not have valid feature names, but LinearRegression was fitted with feature names\n",
      "  warnings.warn(\n"
     ]
    },
    {
     "data": {
      "text/plain": "array([1688.67392096])"
     },
     "execution_count": 21,
     "metadata": {},
     "output_type": "execute_result"
    }
   ],
   "source": [
    "model.predict([[59.963, -128.172]])"
   ],
   "metadata": {
    "collapsed": false,
    "ExecuteTime": {
     "end_time": "2024-07-07T22:46:30.612100500Z",
     "start_time": "2024-07-07T22:46:30.608146100Z"
    }
   }
  },
  {
   "cell_type": "code",
   "execution_count": 22,
   "outputs": [
    {
     "data": {
      "text/plain": "array([177.86724302,   6.64276784])"
     },
     "execution_count": 22,
     "metadata": {},
     "output_type": "execute_result"
    }
   ],
   "source": [
    "model.coef_"
   ],
   "metadata": {
    "collapsed": false,
    "ExecuteTime": {
     "end_time": "2024-07-07T22:47:08.738544600Z",
     "start_time": "2024-07-07T22:47:08.734967400Z"
    }
   }
  },
  {
   "cell_type": "code",
   "execution_count": 23,
   "outputs": [
    {
     "data": {
      "text/plain": "np.float64(-8125.362732658102)"
     },
     "execution_count": 23,
     "metadata": {},
     "output_type": "execute_result"
    }
   ],
   "source": [
    "model.intercept_"
   ],
   "metadata": {
    "collapsed": false,
    "ExecuteTime": {
     "end_time": "2024-07-07T22:47:22.026216600Z",
     "start_time": "2024-07-07T22:47:22.022705800Z"
    }
   }
  }
 ]
}
