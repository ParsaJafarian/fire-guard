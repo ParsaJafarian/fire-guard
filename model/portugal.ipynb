{
 "cells": [
  {
   "cell_type": "code",
   "execution_count": 21,
   "metadata": {
    "collapsed": true,
    "ExecuteTime": {
     "end_time": "2024-07-12T04:48:20.985999300Z",
     "start_time": "2024-07-12T04:48:20.977817900Z"
    }
   },
   "outputs": [],
   "source": [
    "import pandas as pd\n",
    "import numpy as np"
   ]
  },
  {
   "cell_type": "code",
   "execution_count": 1,
   "outputs": [
    {
     "ename": "NameError",
     "evalue": "name 'pd' is not defined",
     "output_type": "error",
     "traceback": [
      "\u001B[1;31m---------------------------------------------------------------------------\u001B[0m",
      "\u001B[1;31mNameError\u001B[0m                                 Traceback (most recent call last)",
      "Cell \u001B[1;32mIn[1], line 2\u001B[0m\n\u001B[0;32m      1\u001B[0m \u001B[38;5;66;03m# https://www.kaggle.com/datasets/elikplim/forest-fires-data-set?resource=download\u001B[39;00m\n\u001B[1;32m----> 2\u001B[0m df \u001B[38;5;241m=\u001B[39m \u001B[43mpd\u001B[49m\u001B[38;5;241m.\u001B[39mread_csv(\u001B[38;5;124m'\u001B[39m\u001B[38;5;124mportugal.csv\u001B[39m\u001B[38;5;124m'\u001B[39m)\n\u001B[0;32m      3\u001B[0m df\n",
      "\u001B[1;31mNameError\u001B[0m: name 'pd' is not defined"
     ]
    }
   ],
   "source": [
    "# https://www.kaggle.com/datasets/elikplim/forest-fires-data-set?resource=download\n",
    "# https://archive.ics.uci.edu/dataset/162/forest+fires\n",
    "df = pd.read_csv('portugal.csv')\n",
    "df"
   ],
   "metadata": {
    "collapsed": false,
    "ExecuteTime": {
     "end_time": "2024-07-12T15:43:21.269983100Z",
     "start_time": "2024-07-12T15:43:21.036760400Z"
    }
   }
  },
  {
   "cell_type": "markdown",
   "source": [
    "# Train Test Split"
   ],
   "metadata": {
    "collapsed": false
   }
  },
  {
   "cell_type": "code",
   "execution_count": 3,
   "outputs": [],
   "source": [
    "from sklearn.model_selection import train_test_split"
   ],
   "metadata": {
    "collapsed": false,
    "ExecuteTime": {
     "end_time": "2024-07-12T04:30:58.334135800Z",
     "start_time": "2024-07-12T04:30:57.679779900Z"
    }
   }
  },
  {
   "cell_type": "markdown",
   "source": [],
   "metadata": {
    "collapsed": false
   }
  },
  {
   "cell_type": "code",
   "execution_count": 47,
   "outputs": [],
   "source": [
    "x, y = df[['temp', 'wind', 'rain', 'FFMC', 'DMC', 'DC', 'ISI', 'RH']], df['area']\n",
    "x_train, x_test, y_train, y_test = train_test_split(x, y, test_size=0.2, random_state=0)"
   ],
   "metadata": {
    "collapsed": false,
    "ExecuteTime": {
     "end_time": "2024-07-12T04:55:50.952494200Z",
     "start_time": "2024-07-12T04:55:50.942511500Z"
    }
   }
  },
  {
   "cell_type": "markdown",
   "source": [
    "# Correlation"
   ],
   "metadata": {
    "collapsed": false
   }
  },
  {
   "cell_type": "code",
   "execution_count": 29,
   "outputs": [
    {
     "data": {
      "text/plain": "np.float64(0.09784410734168457)"
     },
     "execution_count": 29,
     "metadata": {},
     "output_type": "execute_result"
    }
   ],
   "source": [
    "df.area.corr(df.temp)"
   ],
   "metadata": {
    "collapsed": false,
    "ExecuteTime": {
     "end_time": "2024-07-12T04:53:06.201341900Z",
     "start_time": "2024-07-12T04:53:06.196048500Z"
    }
   }
  },
  {
   "cell_type": "code",
   "execution_count": 30,
   "outputs": [
    {
     "data": {
      "text/plain": "np.float64(0.012317276888673099)"
     },
     "execution_count": 30,
     "metadata": {},
     "output_type": "execute_result"
    }
   ],
   "source": [
    "df.area.corr(df.wind)"
   ],
   "metadata": {
    "collapsed": false,
    "ExecuteTime": {
     "end_time": "2024-07-12T04:53:06.571989800Z",
     "start_time": "2024-07-12T04:53:06.565852300Z"
    }
   }
  },
  {
   "cell_type": "code",
   "execution_count": 31,
   "outputs": [
    {
     "data": {
      "text/plain": "np.float64(-0.007365729279292283)"
     },
     "execution_count": 31,
     "metadata": {},
     "output_type": "execute_result"
    }
   ],
   "source": [
    "df.area.corr(df.rain)"
   ],
   "metadata": {
    "collapsed": false,
    "ExecuteTime": {
     "end_time": "2024-07-12T04:53:06.883673900Z",
     "start_time": "2024-07-12T04:53:06.877973500Z"
    }
   }
  },
  {
   "cell_type": "code",
   "execution_count": 32,
   "outputs": [
    {
     "data": {
      "text/plain": "np.float64(0.04012200415862078)"
     },
     "execution_count": 32,
     "metadata": {},
     "output_type": "execute_result"
    }
   ],
   "source": [
    "df.area.corr(df.FFMC)"
   ],
   "metadata": {
    "collapsed": false,
    "ExecuteTime": {
     "end_time": "2024-07-12T04:53:07.170616800Z",
     "start_time": "2024-07-12T04:53:07.165171800Z"
    }
   }
  },
  {
   "cell_type": "code",
   "execution_count": 33,
   "outputs": [
    {
     "data": {
      "text/plain": "np.float64(0.0493832252989162)"
     },
     "execution_count": 33,
     "metadata": {},
     "output_type": "execute_result"
    }
   ],
   "source": [
    "df.area.corr(df.DC)"
   ],
   "metadata": {
    "collapsed": false,
    "ExecuteTime": {
     "end_time": "2024-07-12T04:53:07.789426600Z",
     "start_time": "2024-07-12T04:53:07.783319700Z"
    }
   }
  },
  {
   "cell_type": "code",
   "execution_count": 34,
   "outputs": [
    {
     "data": {
      "text/plain": "np.float64(0.008257687841226791)"
     },
     "execution_count": 34,
     "metadata": {},
     "output_type": "execute_result"
    }
   ],
   "source": [
    "df.area.corr(df.ISI)"
   ],
   "metadata": {
    "collapsed": false,
    "ExecuteTime": {
     "end_time": "2024-07-12T04:53:08.228531500Z",
     "start_time": "2024-07-12T04:53:08.223011500Z"
    }
   }
  },
  {
   "cell_type": "code",
   "execution_count": 35,
   "outputs": [
    {
     "data": {
      "text/plain": "np.float64(0.07299429625105726)"
     },
     "execution_count": 35,
     "metadata": {},
     "output_type": "execute_result"
    }
   ],
   "source": [
    "df.area.corr(df.DMC)"
   ],
   "metadata": {
    "collapsed": false,
    "ExecuteTime": {
     "end_time": "2024-07-12T04:53:08.611959900Z",
     "start_time": "2024-07-12T04:53:08.604308200Z"
    }
   }
  },
  {
   "cell_type": "code",
   "execution_count": 36,
   "outputs": [
    {
     "data": {
      "text/plain": "np.float64(0.008257687841226791)"
     },
     "execution_count": 36,
     "metadata": {},
     "output_type": "execute_result"
    }
   ],
   "source": [
    "df.area.corr(df.ISI)"
   ],
   "metadata": {
    "collapsed": false,
    "ExecuteTime": {
     "end_time": "2024-07-12T04:53:09.394608800Z",
     "start_time": "2024-07-12T04:53:09.389092900Z"
    }
   }
  },
  {
   "cell_type": "markdown",
   "source": [
    "# Model"
   ],
   "metadata": {
    "collapsed": false
   }
  },
  {
   "cell_type": "markdown",
   "source": [
    "Linear Regression"
   ],
   "metadata": {
    "collapsed": false
   }
  },
  {
   "cell_type": "code",
   "execution_count": 19,
   "outputs": [],
   "source": [
    "from sklearn.metrics import mean_squared_error, mean_absolute_error"
   ],
   "metadata": {
    "collapsed": false,
    "ExecuteTime": {
     "end_time": "2024-07-12T04:46:43.137998700Z",
     "start_time": "2024-07-12T04:46:43.133975900Z"
    }
   }
  },
  {
   "cell_type": "code",
   "execution_count": 20,
   "outputs": [],
   "source": [
    "from sklearn.linear_model import LinearRegression"
   ],
   "metadata": {
    "collapsed": false,
    "ExecuteTime": {
     "end_time": "2024-07-12T04:46:43.648801300Z",
     "start_time": "2024-07-12T04:46:43.643093800Z"
    }
   }
  },
  {
   "cell_type": "code",
   "execution_count": 45,
   "outputs": [
    {
     "name": "stdout",
     "output_type": "stream",
     "text": [
      "RMSE: 109.93653170332504\n",
      "MAE: 25.758747927985585\n"
     ]
    }
   ],
   "source": [
    "model = LinearRegression()\n",
    "\n",
    "model.fit(x_train, y_train)\n",
    "predictions = model.predict(x_test)\n",
    "loss_rmse = np.sqrt(mean_squared_error(predictions, y_test)) # Loss using RMSE method\n",
    "loss_mae = mean_absolute_error(predictions, y_test)\n",
    "print('RMSE: ' + str(loss_rmse))\n",
    "print('MAE: ' + str(loss_mae))"
   ],
   "metadata": {
    "collapsed": false,
    "ExecuteTime": {
     "end_time": "2024-07-12T04:55:33.336129300Z",
     "start_time": "2024-07-12T04:55:33.328799500Z"
    }
   }
  },
  {
   "cell_type": "markdown",
   "source": [
    "Random Forests"
   ],
   "metadata": {
    "collapsed": false
   }
  },
  {
   "cell_type": "code",
   "execution_count": 23,
   "outputs": [],
   "source": [
    "from sklearn.ensemble import RandomForestRegressor"
   ],
   "metadata": {
    "collapsed": false,
    "ExecuteTime": {
     "end_time": "2024-07-12T04:49:57.433337200Z",
     "start_time": "2024-07-12T04:49:57.376576100Z"
    }
   }
  },
  {
   "cell_type": "code",
   "execution_count": 42,
   "outputs": [
    {
     "name": "stdout",
     "output_type": "stream",
     "text": [
      "RMSE: 118.5566246122936\n",
      "MAE: 31.4208984065934\n"
     ]
    }
   ],
   "source": [
    "model = RandomForestRegressor(random_state=11)\n",
    "\n",
    "model.fit(x_train, y_train)\n",
    "predictions = model.predict(x_test)\n",
    "loss_rmse = np.sqrt(mean_squared_error(predictions, y_test)) # Loss using RMSE method\n",
    "loss_mae = mean_absolute_error(predictions, y_test)\n",
    "print('RMSE: ' + str(loss_rmse))\n",
    "print('MAE: ' + str(loss_mae))"
   ],
   "metadata": {
    "collapsed": false,
    "ExecuteTime": {
     "end_time": "2024-07-12T04:55:14.879147200Z",
     "start_time": "2024-07-12T04:55:14.692558400Z"
    }
   }
  },
  {
   "cell_type": "markdown",
   "source": [
    "Support Vector Regression"
   ],
   "metadata": {
    "collapsed": false
   }
  },
  {
   "cell_type": "code",
   "execution_count": 26,
   "outputs": [],
   "source": [
    "from sklearn import svm"
   ],
   "metadata": {
    "collapsed": false,
    "ExecuteTime": {
     "end_time": "2024-07-12T04:51:47.568317900Z",
     "start_time": "2024-07-12T04:51:47.558801600Z"
    }
   }
  },
  {
   "cell_type": "code",
   "execution_count": 48,
   "outputs": [
    {
     "name": "stdout",
     "output_type": "stream",
     "text": [
      "RMSE: 112.18453196063301\n",
      "MAE: 22.715358163916168\n"
     ]
    }
   ],
   "source": [
    "model = svm.SVR()\n",
    "model.fit(x_train, y_train)\n",
    "predictions_test = model.predict(x_test)\n",
    "loss_rmse = np.sqrt(mean_squared_error(predictions_test, y_test)) # Loss using RMSE method\n",
    "loss_mae = mean_absolute_error(predictions_test, y_test)\n",
    "print('RMSE: ' + str(loss_rmse))\n",
    "print('MAE: ' + str(loss_mae))"
   ],
   "metadata": {
    "collapsed": false,
    "ExecuteTime": {
     "end_time": "2024-07-12T04:55:55.511624500Z",
     "start_time": "2024-07-12T04:55:55.498862600Z"
    }
   }
  },
  {
   "cell_type": "markdown",
   "source": [
    "# Test against dummy model"
   ],
   "metadata": {
    "collapsed": false
   }
  },
  {
   "cell_type": "code",
   "execution_count": null,
   "outputs": [],
   "source": [],
   "metadata": {
    "collapsed": false
   }
  }
 ],
 "metadata": {
  "kernelspec": {
   "display_name": "Python 3",
   "language": "python",
   "name": "python3"
  },
  "language_info": {
   "codemirror_mode": {
    "name": "ipython",
    "version": 2
   },
   "file_extension": ".py",
   "mimetype": "text/x-python",
   "name": "python",
   "nbconvert_exporter": "python",
   "pygments_lexer": "ipython2",
   "version": "2.7.6"
  }
 },
 "nbformat": 4,
 "nbformat_minor": 0
}
