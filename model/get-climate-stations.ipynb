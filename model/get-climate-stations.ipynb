{
 "cells": [
  {
   "cell_type": "markdown",
   "source": [
    "# Getting Climate Station Data from MSC GeoMET - OGC API\n",
    "This notebook retrieves [climate station data](https://api.weather.gc.ca/collections/climate-stations?lang=en) using [OGC API - Features](https://eccc-msc.github.io/open-data/msc-geomet/ogc_api_en/) and saves it into `stations.csv`"
   ],
   "metadata": {
    "collapsed": false
   }
  },
  {
   "cell_type": "code",
   "execution_count": 3,
   "metadata": {
    "collapsed": true,
    "ExecuteTime": {
     "end_time": "2024-07-17T15:39:27.224530400Z",
     "start_time": "2024-07-17T15:39:27.211386500Z"
    }
   },
   "outputs": [],
   "source": [
    "from owslib.ogcapi.features import Features\n",
    "import pandas as pd"
   ]
  },
  {
   "cell_type": "code",
   "execution_count": 4,
   "outputs": [],
   "source": [
    "features = Features('https://api.weather.gc.ca/')"
   ],
   "metadata": {
    "collapsed": false,
    "ExecuteTime": {
     "end_time": "2024-07-17T15:39:27.298649100Z",
     "start_time": "2024-07-17T15:39:27.217906700Z"
    }
   }
  },
  {
   "cell_type": "code",
   "execution_count": 5,
   "outputs": [],
   "source": [
    "# Retrieve all climate stations\n",
    "station_data = features.collection_items(\n",
    "    'climate-stations', limit=10000\n",
    ")\n",
    "# List of stations\n",
    "stations = [station['properties'] for station in station_data['features']]"
   ],
   "metadata": {
    "collapsed": false,
    "ExecuteTime": {
     "end_time": "2024-07-17T15:39:27.883999100Z",
     "start_time": "2024-07-17T15:39:27.298649100Z"
    }
   }
  },
  {
   "cell_type": "code",
   "execution_count": 6,
   "outputs": [],
   "source": [
    "# Save into pandas dataframe\n",
    "stations_df = pd.DataFrame(stations)"
   ],
   "metadata": {
    "collapsed": false,
    "ExecuteTime": {
     "end_time": "2024-07-17T15:39:27.917788100Z",
     "start_time": "2024-07-17T15:39:27.884995400Z"
    }
   }
  },
  {
   "cell_type": "code",
   "execution_count": 7,
   "outputs": [
    {
     "data": {
      "text/plain": "      STN_ID              STATION_NAME PROV_STATE_TERR_CODE     ENG_PROV_NAME  \\\n0       5679                 FIRE LAKE                   QC            QUEBEC   \n1       5680               FORESTVILLE                   QC            QUEBEC   \n2       5682         FORET MONTMORENCY                   QC            QUEBEC   \n3       5687       GRANDES BERGERONNES                   QC            QUEBEC   \n4       5688               GRAND FONDS                   QC            QUEBEC   \n...      ...                       ...                  ...               ...   \n8547      61              JAMES ISLAND                   BC  BRITISH COLUMBIA   \n8548      78      SAANICHTON MT NEWTON                   BC  BRITISH COLUMBIA   \n8549      85     SAANICH DOM ASTRO OBS                   BC  BRITISH COLUMBIA   \n8550      87            SAANICHTON CDA                   BC  BRITISH COLUMBIA   \n8551      92  SALTSPRING IS CUSHEON LK                   BC  BRITISH COLUMBIA   \n\n             FRE_PROV_NAME COUNTRY   LATITUDE   LONGITUDE TIMEZONE ELEVATION  \\\n0                   QUÉBEC     CAN  522000000  -672200000      EST    609.60   \n1                   QUÉBEC     CAN  484400000  -690500000      EST     76.20   \n2                   QUÉBEC     CAN  471900000  -710900000      EST    640.00   \n3                   QUÉBEC     CAN  481500000  -693100000      EST     61.00   \n4                   QUÉBEC     CAN  474500000  -700700000      EST    365.80   \n...                    ...     ...        ...         ...      ...       ...   \n8547  COLOMBIE-BRITANNIQUE     CAN  483600000 -1232100000      PST     53.60   \n8548  COLOMBIE-BRITANNIQUE     CAN  483551000 -1232538000      PST     42.70   \n8549  COLOMBIE-BRITANNIQUE     CAN  483100000 -1232500000      PST    222.50   \n8550  COLOMBIE-BRITANNIQUE     CAN  483718000 -1232508000      PST     61.00   \n8551  COLOMBIE-BRITANNIQUE     CAN  484913000 -1232836000      PST    107.90   \n\n      ...            LAST_DATE HLY_FIRST_DATE HLY_LAST_DATE  \\\n0     ...  1974-12-01 00:00:00           None          None   \n1     ...  1996-10-31 00:00:00           None          None   \n2     ...  2002-01-31 00:00:00           None          None   \n3     ...  2023-02-28 00:00:00           None          None   \n4     ...  1991-11-01 00:00:00           None          None   \n...   ...                  ...            ...           ...   \n8547  ...  1978-12-01 00:00:00           None          None   \n8548  ...  2024-07-12 00:00:00           None          None   \n8549  ...  1977-12-01 00:00:00           None          None   \n8550  ...  2023-02-09 00:00:00           None          None   \n8551  ...  2001-03-31 00:00:00           None          None   \n\n           DLY_FIRST_DATE        DLY_LAST_DATE       MLY_FIRST_DATE  \\\n0     1974-07-01 00:00:00  1974-08-31 00:00:00  1974-01-01 00:00:00   \n1     1963-01-01 00:00:00  1996-10-31 00:00:00  1963-01-01 00:00:00   \n2     1965-07-01 00:00:00  2002-01-31 00:00:00  1965-01-01 00:00:00   \n3     1951-08-01 00:00:00  2023-02-28 00:00:00  1951-01-01 00:00:00   \n4     1968-10-01 00:00:00  1991-05-31 00:00:00  1968-01-01 00:00:00   \n...                   ...                  ...                  ...   \n8547  1914-02-01 00:00:00  1978-09-30 00:00:00  1914-01-01 00:00:00   \n8548  1980-08-01 00:00:00  2024-07-12 00:00:00  1980-01-01 00:00:00   \n8549  1916-12-01 00:00:00  1977-06-30 00:00:00  1916-01-01 00:00:00   \n8550  1914-03-01 00:00:00  2023-02-09 00:00:00  1914-01-01 00:00:00   \n8551  1976-09-01 00:00:00  2001-03-31 00:00:00  1976-01-01 00:00:00   \n\n            MLY_LAST_DATE HAS_MONTHLY_SUMMARY HAS_NORMALS_DATA HAS_HOURLY_DATA  \n0     1974-12-01 00:00:00                   Y                N               N  \n1     1996-10-01 00:00:00                   Y                N               N  \n2     2002-01-01 00:00:00                   Y                N               N  \n3     2015-11-01 00:00:00                   Y                Y               N  \n4     1991-11-01 00:00:00                   Y                N               N  \n...                   ...                 ...              ...             ...  \n8547  1978-12-01 00:00:00                   Y                N               N  \n8548  2007-02-01 00:00:00                   Y                Y               N  \n8549  1977-12-01 00:00:00                   Y                N               N  \n8550  2007-02-01 00:00:00                   Y                Y               N  \n8551  2001-03-01 00:00:00                   Y                N               N  \n\n[8552 rows x 32 columns]",
      "text/html": "<div>\n<style scoped>\n    .dataframe tbody tr th:only-of-type {\n        vertical-align: middle;\n    }\n\n    .dataframe tbody tr th {\n        vertical-align: top;\n    }\n\n    .dataframe thead th {\n        text-align: right;\n    }\n</style>\n<table border=\"1\" class=\"dataframe\">\n  <thead>\n    <tr style=\"text-align: right;\">\n      <th></th>\n      <th>STN_ID</th>\n      <th>STATION_NAME</th>\n      <th>PROV_STATE_TERR_CODE</th>\n      <th>ENG_PROV_NAME</th>\n      <th>FRE_PROV_NAME</th>\n      <th>COUNTRY</th>\n      <th>LATITUDE</th>\n      <th>LONGITUDE</th>\n      <th>TIMEZONE</th>\n      <th>ELEVATION</th>\n      <th>...</th>\n      <th>LAST_DATE</th>\n      <th>HLY_FIRST_DATE</th>\n      <th>HLY_LAST_DATE</th>\n      <th>DLY_FIRST_DATE</th>\n      <th>DLY_LAST_DATE</th>\n      <th>MLY_FIRST_DATE</th>\n      <th>MLY_LAST_DATE</th>\n      <th>HAS_MONTHLY_SUMMARY</th>\n      <th>HAS_NORMALS_DATA</th>\n      <th>HAS_HOURLY_DATA</th>\n    </tr>\n  </thead>\n  <tbody>\n    <tr>\n      <th>0</th>\n      <td>5679</td>\n      <td>FIRE LAKE</td>\n      <td>QC</td>\n      <td>QUEBEC</td>\n      <td>QUÉBEC</td>\n      <td>CAN</td>\n      <td>522000000</td>\n      <td>-672200000</td>\n      <td>EST</td>\n      <td>609.60</td>\n      <td>...</td>\n      <td>1974-12-01 00:00:00</td>\n      <td>None</td>\n      <td>None</td>\n      <td>1974-07-01 00:00:00</td>\n      <td>1974-08-31 00:00:00</td>\n      <td>1974-01-01 00:00:00</td>\n      <td>1974-12-01 00:00:00</td>\n      <td>Y</td>\n      <td>N</td>\n      <td>N</td>\n    </tr>\n    <tr>\n      <th>1</th>\n      <td>5680</td>\n      <td>FORESTVILLE</td>\n      <td>QC</td>\n      <td>QUEBEC</td>\n      <td>QUÉBEC</td>\n      <td>CAN</td>\n      <td>484400000</td>\n      <td>-690500000</td>\n      <td>EST</td>\n      <td>76.20</td>\n      <td>...</td>\n      <td>1996-10-31 00:00:00</td>\n      <td>None</td>\n      <td>None</td>\n      <td>1963-01-01 00:00:00</td>\n      <td>1996-10-31 00:00:00</td>\n      <td>1963-01-01 00:00:00</td>\n      <td>1996-10-01 00:00:00</td>\n      <td>Y</td>\n      <td>N</td>\n      <td>N</td>\n    </tr>\n    <tr>\n      <th>2</th>\n      <td>5682</td>\n      <td>FORET MONTMORENCY</td>\n      <td>QC</td>\n      <td>QUEBEC</td>\n      <td>QUÉBEC</td>\n      <td>CAN</td>\n      <td>471900000</td>\n      <td>-710900000</td>\n      <td>EST</td>\n      <td>640.00</td>\n      <td>...</td>\n      <td>2002-01-31 00:00:00</td>\n      <td>None</td>\n      <td>None</td>\n      <td>1965-07-01 00:00:00</td>\n      <td>2002-01-31 00:00:00</td>\n      <td>1965-01-01 00:00:00</td>\n      <td>2002-01-01 00:00:00</td>\n      <td>Y</td>\n      <td>N</td>\n      <td>N</td>\n    </tr>\n    <tr>\n      <th>3</th>\n      <td>5687</td>\n      <td>GRANDES BERGERONNES</td>\n      <td>QC</td>\n      <td>QUEBEC</td>\n      <td>QUÉBEC</td>\n      <td>CAN</td>\n      <td>481500000</td>\n      <td>-693100000</td>\n      <td>EST</td>\n      <td>61.00</td>\n      <td>...</td>\n      <td>2023-02-28 00:00:00</td>\n      <td>None</td>\n      <td>None</td>\n      <td>1951-08-01 00:00:00</td>\n      <td>2023-02-28 00:00:00</td>\n      <td>1951-01-01 00:00:00</td>\n      <td>2015-11-01 00:00:00</td>\n      <td>Y</td>\n      <td>Y</td>\n      <td>N</td>\n    </tr>\n    <tr>\n      <th>4</th>\n      <td>5688</td>\n      <td>GRAND FONDS</td>\n      <td>QC</td>\n      <td>QUEBEC</td>\n      <td>QUÉBEC</td>\n      <td>CAN</td>\n      <td>474500000</td>\n      <td>-700700000</td>\n      <td>EST</td>\n      <td>365.80</td>\n      <td>...</td>\n      <td>1991-11-01 00:00:00</td>\n      <td>None</td>\n      <td>None</td>\n      <td>1968-10-01 00:00:00</td>\n      <td>1991-05-31 00:00:00</td>\n      <td>1968-01-01 00:00:00</td>\n      <td>1991-11-01 00:00:00</td>\n      <td>Y</td>\n      <td>N</td>\n      <td>N</td>\n    </tr>\n    <tr>\n      <th>...</th>\n      <td>...</td>\n      <td>...</td>\n      <td>...</td>\n      <td>...</td>\n      <td>...</td>\n      <td>...</td>\n      <td>...</td>\n      <td>...</td>\n      <td>...</td>\n      <td>...</td>\n      <td>...</td>\n      <td>...</td>\n      <td>...</td>\n      <td>...</td>\n      <td>...</td>\n      <td>...</td>\n      <td>...</td>\n      <td>...</td>\n      <td>...</td>\n      <td>...</td>\n      <td>...</td>\n    </tr>\n    <tr>\n      <th>8547</th>\n      <td>61</td>\n      <td>JAMES ISLAND</td>\n      <td>BC</td>\n      <td>BRITISH COLUMBIA</td>\n      <td>COLOMBIE-BRITANNIQUE</td>\n      <td>CAN</td>\n      <td>483600000</td>\n      <td>-1232100000</td>\n      <td>PST</td>\n      <td>53.60</td>\n      <td>...</td>\n      <td>1978-12-01 00:00:00</td>\n      <td>None</td>\n      <td>None</td>\n      <td>1914-02-01 00:00:00</td>\n      <td>1978-09-30 00:00:00</td>\n      <td>1914-01-01 00:00:00</td>\n      <td>1978-12-01 00:00:00</td>\n      <td>Y</td>\n      <td>N</td>\n      <td>N</td>\n    </tr>\n    <tr>\n      <th>8548</th>\n      <td>78</td>\n      <td>SAANICHTON MT NEWTON</td>\n      <td>BC</td>\n      <td>BRITISH COLUMBIA</td>\n      <td>COLOMBIE-BRITANNIQUE</td>\n      <td>CAN</td>\n      <td>483551000</td>\n      <td>-1232538000</td>\n      <td>PST</td>\n      <td>42.70</td>\n      <td>...</td>\n      <td>2024-07-12 00:00:00</td>\n      <td>None</td>\n      <td>None</td>\n      <td>1980-08-01 00:00:00</td>\n      <td>2024-07-12 00:00:00</td>\n      <td>1980-01-01 00:00:00</td>\n      <td>2007-02-01 00:00:00</td>\n      <td>Y</td>\n      <td>Y</td>\n      <td>N</td>\n    </tr>\n    <tr>\n      <th>8549</th>\n      <td>85</td>\n      <td>SAANICH DOM ASTRO OBS</td>\n      <td>BC</td>\n      <td>BRITISH COLUMBIA</td>\n      <td>COLOMBIE-BRITANNIQUE</td>\n      <td>CAN</td>\n      <td>483100000</td>\n      <td>-1232500000</td>\n      <td>PST</td>\n      <td>222.50</td>\n      <td>...</td>\n      <td>1977-12-01 00:00:00</td>\n      <td>None</td>\n      <td>None</td>\n      <td>1916-12-01 00:00:00</td>\n      <td>1977-06-30 00:00:00</td>\n      <td>1916-01-01 00:00:00</td>\n      <td>1977-12-01 00:00:00</td>\n      <td>Y</td>\n      <td>N</td>\n      <td>N</td>\n    </tr>\n    <tr>\n      <th>8550</th>\n      <td>87</td>\n      <td>SAANICHTON CDA</td>\n      <td>BC</td>\n      <td>BRITISH COLUMBIA</td>\n      <td>COLOMBIE-BRITANNIQUE</td>\n      <td>CAN</td>\n      <td>483718000</td>\n      <td>-1232508000</td>\n      <td>PST</td>\n      <td>61.00</td>\n      <td>...</td>\n      <td>2023-02-09 00:00:00</td>\n      <td>None</td>\n      <td>None</td>\n      <td>1914-03-01 00:00:00</td>\n      <td>2023-02-09 00:00:00</td>\n      <td>1914-01-01 00:00:00</td>\n      <td>2007-02-01 00:00:00</td>\n      <td>Y</td>\n      <td>Y</td>\n      <td>N</td>\n    </tr>\n    <tr>\n      <th>8551</th>\n      <td>92</td>\n      <td>SALTSPRING IS CUSHEON LK</td>\n      <td>BC</td>\n      <td>BRITISH COLUMBIA</td>\n      <td>COLOMBIE-BRITANNIQUE</td>\n      <td>CAN</td>\n      <td>484913000</td>\n      <td>-1232836000</td>\n      <td>PST</td>\n      <td>107.90</td>\n      <td>...</td>\n      <td>2001-03-31 00:00:00</td>\n      <td>None</td>\n      <td>None</td>\n      <td>1976-09-01 00:00:00</td>\n      <td>2001-03-31 00:00:00</td>\n      <td>1976-01-01 00:00:00</td>\n      <td>2001-03-01 00:00:00</td>\n      <td>Y</td>\n      <td>N</td>\n      <td>N</td>\n    </tr>\n  </tbody>\n</table>\n<p>8552 rows × 32 columns</p>\n</div>"
     },
     "execution_count": 7,
     "metadata": {},
     "output_type": "execute_result"
    }
   ],
   "source": [
    "stations_df"
   ],
   "metadata": {
    "collapsed": false,
    "ExecuteTime": {
     "end_time": "2024-07-17T15:39:27.944635700Z",
     "start_time": "2024-07-17T15:39:27.915791500Z"
    }
   }
  },
  {
   "cell_type": "code",
   "execution_count": 8,
   "outputs": [],
   "source": [
    "# Save to CSV\n",
    "stations_df.to_csv('stations.csv', index=False)"
   ],
   "metadata": {
    "collapsed": false,
    "ExecuteTime": {
     "end_time": "2024-07-17T15:39:28.045674Z",
     "start_time": "2024-07-17T15:39:27.943638800Z"
    }
   }
  }
 ],
 "metadata": {
  "kernelspec": {
   "display_name": "Python 3",
   "language": "python",
   "name": "python3"
  },
  "language_info": {
   "codemirror_mode": {
    "name": "ipython",
    "version": 2
   },
   "file_extension": ".py",
   "mimetype": "text/x-python",
   "name": "python",
   "nbconvert_exporter": "python",
   "pygments_lexer": "ipython2",
   "version": "2.7.6"
  }
 },
 "nbformat": 4,
 "nbformat_minor": 0
}
